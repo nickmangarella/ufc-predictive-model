{
 "cells": [
  {
   "cell_type": "code",
   "execution_count": 1,
   "id": "realistic-diving",
   "metadata": {},
   "outputs": [],
   "source": [
    "# Dependencies and Setup\n",
    "import os\n",
    "import pandas as pd\n",
    "from sklearn.preprocessing import LabelEncoder\n",
    "from sklearn.model_selection import train_test_split\n",
    "from sklearn.preprocessing import StandardScaler\n",
    "from tensorflow.keras.models import Sequential\n",
    "from tensorflow.keras.layers import Dense\n",
    "from sklearn import svm\n",
    "from sklearn.svm import SVC\n",
    "from sklearn.metrics import accuracy_score"
   ]
  },
  {
   "cell_type": "code",
   "execution_count": 2,
   "id": "negative-incidence",
   "metadata": {},
   "outputs": [
    {
     "name": "stderr",
     "output_type": "stream",
     "text": [
      "C:\\Users\\nickm\\anaconda3\\envs\\PythonAdv\\lib\\site-packages\\IPython\\core\\interactiveshell.py:3072: DtypeWarning: Columns (79,80) have mixed types.Specify dtype option on import or set low_memory=False.\n",
      "  interactivity=interactivity, compiler=compiler, result=result)\n"
     ]
    },
    {
     "data": {
      "text/html": [
       "<div>\n",
       "<style scoped>\n",
       "    .dataframe tbody tr th:only-of-type {\n",
       "        vertical-align: middle;\n",
       "    }\n",
       "\n",
       "    .dataframe tbody tr th {\n",
       "        vertical-align: top;\n",
       "    }\n",
       "\n",
       "    .dataframe thead th {\n",
       "        text-align: right;\n",
       "    }\n",
       "</style>\n",
       "<table border=\"1\" class=\"dataframe\">\n",
       "  <thead>\n",
       "    <tr style=\"text-align: right;\">\n",
       "      <th></th>\n",
       "      <th>R_fighter</th>\n",
       "      <th>B_fighter</th>\n",
       "      <th>R_odds</th>\n",
       "      <th>B_odds</th>\n",
       "      <th>R_ev</th>\n",
       "      <th>B_ev</th>\n",
       "      <th>date</th>\n",
       "      <th>location</th>\n",
       "      <th>country</th>\n",
       "      <th>Winner</th>\n",
       "      <th>...</th>\n",
       "      <th>R_td_attempted_bout</th>\n",
       "      <th>B_td_attempted_bout</th>\n",
       "      <th>R_td_pct_bout</th>\n",
       "      <th>B_td_pct_bout</th>\n",
       "      <th>R_sub_attempts_bout</th>\n",
       "      <th>B_sub_attempts_bout</th>\n",
       "      <th>R_pass_bout</th>\n",
       "      <th>B_pass_bout</th>\n",
       "      <th>R_rev_bout</th>\n",
       "      <th>B_rev_bout</th>\n",
       "    </tr>\n",
       "  </thead>\n",
       "  <tbody>\n",
       "    <tr>\n",
       "      <th>0</th>\n",
       "      <td>Alistair Overeem</td>\n",
       "      <td>Alexander Volkov</td>\n",
       "      <td>150</td>\n",
       "      <td>-182</td>\n",
       "      <td>150.000000</td>\n",
       "      <td>54.945055</td>\n",
       "      <td>2/6/2021</td>\n",
       "      <td>Las Vegas, Nevada, USA</td>\n",
       "      <td>USA</td>\n",
       "      <td>Blue</td>\n",
       "      <td>...</td>\n",
       "      <td>3.107143</td>\n",
       "      <td>2.768759</td>\n",
       "      <td>0.293701</td>\n",
       "      <td>0.243701</td>\n",
       "      <td>0.403319</td>\n",
       "      <td>0.33189</td>\n",
       "      <td>1.245671</td>\n",
       "      <td>0.920274</td>\n",
       "      <td>0.137807</td>\n",
       "      <td>0.138889</td>\n",
       "    </tr>\n",
       "    <tr>\n",
       "      <th>1</th>\n",
       "      <td>Cory Sandhagen</td>\n",
       "      <td>Frankie Edgar</td>\n",
       "      <td>-400</td>\n",
       "      <td>300</td>\n",
       "      <td>25.000000</td>\n",
       "      <td>300.000000</td>\n",
       "      <td>2/6/2021</td>\n",
       "      <td>Las Vegas, Nevada, USA</td>\n",
       "      <td>USA</td>\n",
       "      <td>Red</td>\n",
       "      <td>...</td>\n",
       "      <td>3.107143</td>\n",
       "      <td>2.768759</td>\n",
       "      <td>0.293701</td>\n",
       "      <td>0.243701</td>\n",
       "      <td>0.403319</td>\n",
       "      <td>0.33189</td>\n",
       "      <td>1.245671</td>\n",
       "      <td>0.920274</td>\n",
       "      <td>0.137807</td>\n",
       "      <td>0.138889</td>\n",
       "    </tr>\n",
       "    <tr>\n",
       "      <th>2</th>\n",
       "      <td>Alexandre Pantoja</td>\n",
       "      <td>Manel Kape</td>\n",
       "      <td>-125</td>\n",
       "      <td>100</td>\n",
       "      <td>80.000000</td>\n",
       "      <td>100.000000</td>\n",
       "      <td>2/6/2021</td>\n",
       "      <td>Las Vegas, Nevada, USA</td>\n",
       "      <td>USA</td>\n",
       "      <td>Red</td>\n",
       "      <td>...</td>\n",
       "      <td>3.107143</td>\n",
       "      <td>2.768759</td>\n",
       "      <td>0.293701</td>\n",
       "      <td>0.243701</td>\n",
       "      <td>0.403319</td>\n",
       "      <td>0.33189</td>\n",
       "      <td>1.245671</td>\n",
       "      <td>0.920274</td>\n",
       "      <td>0.137807</td>\n",
       "      <td>0.138889</td>\n",
       "    </tr>\n",
       "    <tr>\n",
       "      <th>3</th>\n",
       "      <td>Diego Ferreira</td>\n",
       "      <td>Beneil Dariush</td>\n",
       "      <td>-125</td>\n",
       "      <td>105</td>\n",
       "      <td>80.000000</td>\n",
       "      <td>105.000000</td>\n",
       "      <td>2/6/2021</td>\n",
       "      <td>Las Vegas, Nevada, USA</td>\n",
       "      <td>USA</td>\n",
       "      <td>Blue</td>\n",
       "      <td>...</td>\n",
       "      <td>3.107143</td>\n",
       "      <td>2.768759</td>\n",
       "      <td>0.293701</td>\n",
       "      <td>0.243701</td>\n",
       "      <td>0.403319</td>\n",
       "      <td>0.33189</td>\n",
       "      <td>1.245671</td>\n",
       "      <td>0.920274</td>\n",
       "      <td>0.137807</td>\n",
       "      <td>0.138889</td>\n",
       "    </tr>\n",
       "    <tr>\n",
       "      <th>4</th>\n",
       "      <td>Michael Johnson</td>\n",
       "      <td>Clay Guida</td>\n",
       "      <td>-225</td>\n",
       "      <td>175</td>\n",
       "      <td>44.444444</td>\n",
       "      <td>175.000000</td>\n",
       "      <td>2/6/2021</td>\n",
       "      <td>Las Vegas, Nevada, USA</td>\n",
       "      <td>USA</td>\n",
       "      <td>Blue</td>\n",
       "      <td>...</td>\n",
       "      <td>3.107143</td>\n",
       "      <td>2.768759</td>\n",
       "      <td>0.293701</td>\n",
       "      <td>0.243701</td>\n",
       "      <td>0.403319</td>\n",
       "      <td>0.33189</td>\n",
       "      <td>1.245671</td>\n",
       "      <td>0.920274</td>\n",
       "      <td>0.137807</td>\n",
       "      <td>0.138889</td>\n",
       "    </tr>\n",
       "  </tbody>\n",
       "</table>\n",
       "<p>5 rows × 137 columns</p>\n",
       "</div>"
      ],
      "text/plain": [
       "           R_fighter         B_fighter  R_odds  B_odds        R_ev  \\\n",
       "0   Alistair Overeem  Alexander Volkov     150    -182  150.000000   \n",
       "1     Cory Sandhagen     Frankie Edgar    -400     300   25.000000   \n",
       "2  Alexandre Pantoja        Manel Kape    -125     100   80.000000   \n",
       "3     Diego Ferreira    Beneil Dariush    -125     105   80.000000   \n",
       "4    Michael Johnson        Clay Guida    -225     175   44.444444   \n",
       "\n",
       "         B_ev      date                location country Winner  ...  \\\n",
       "0   54.945055  2/6/2021  Las Vegas, Nevada, USA     USA   Blue  ...   \n",
       "1  300.000000  2/6/2021  Las Vegas, Nevada, USA     USA    Red  ...   \n",
       "2  100.000000  2/6/2021  Las Vegas, Nevada, USA     USA    Red  ...   \n",
       "3  105.000000  2/6/2021  Las Vegas, Nevada, USA     USA   Blue  ...   \n",
       "4  175.000000  2/6/2021  Las Vegas, Nevada, USA     USA   Blue  ...   \n",
       "\n",
       "   R_td_attempted_bout B_td_attempted_bout R_td_pct_bout  B_td_pct_bout  \\\n",
       "0             3.107143            2.768759      0.293701       0.243701   \n",
       "1             3.107143            2.768759      0.293701       0.243701   \n",
       "2             3.107143            2.768759      0.293701       0.243701   \n",
       "3             3.107143            2.768759      0.293701       0.243701   \n",
       "4             3.107143            2.768759      0.293701       0.243701   \n",
       "\n",
       "   R_sub_attempts_bout  B_sub_attempts_bout  R_pass_bout  B_pass_bout  \\\n",
       "0             0.403319              0.33189     1.245671     0.920274   \n",
       "1             0.403319              0.33189     1.245671     0.920274   \n",
       "2             0.403319              0.33189     1.245671     0.920274   \n",
       "3             0.403319              0.33189     1.245671     0.920274   \n",
       "4             0.403319              0.33189     1.245671     0.920274   \n",
       "\n",
       "   R_rev_bout  B_rev_bout  \n",
       "0    0.137807    0.138889  \n",
       "1    0.137807    0.138889  \n",
       "2    0.137807    0.138889  \n",
       "3    0.137807    0.138889  \n",
       "4    0.137807    0.138889  \n",
       "\n",
       "[5 rows x 137 columns]"
      ]
     },
     "execution_count": 2,
     "metadata": {},
     "output_type": "execute_result"
    }
   ],
   "source": [
    "# Read in data and fill nans with mean\n",
    "df = pd.read_csv(os.path.join(\"Resources\", \"ufc-master.csv\"))\n",
    "df = df.fillna(df.mean())\n",
    "\n",
    "df.head()"
   ]
  },
  {
   "cell_type": "code",
   "execution_count": 3,
   "id": "optical-mistake",
   "metadata": {},
   "outputs": [
    {
     "name": "stdout",
     "output_type": "stream",
     "text": [
      "(4566, 33) (4566,)\n"
     ]
    }
   ],
   "source": [
    "# Set features and target\n",
    "X = df[['B_fighter', 'R_fighter', 'B_age','R_age', 'age_dif', 'B_Height_cms', 'R_Height_cms', 'height_dif', 'B_Reach_cms', 'R_Reach_cms', 'reach_dif', 'B_sig_str_attempted_bout', 'R_sig_str_attempted_bout', 'sig_str_dif', 'B_sig_str_landed_bout', 'R_sig_str_landed_bout', 'B_sub_attempts_bout', 'R_sub_attempts_bout', 'sub_dif', 'B_td_attempted_bout', 'R_td_attempted_bout', 'B_td_landed_bout', 'R_td_landed_bout', 'B_tot_str_attempted_bout', 'R_tot_str_attempted_bout', 'B_tot_str_landed_bout', 'R_tot_str_landed_bout', 'B_kd_bout', 'R_kd_bout', 'B_avg_SIG_STR_landed', 'R_avg_SIG_STR_landed', 'B_avg_TD_landed','R_avg_TD_landed']]\n",
    "y = df[\"Winner\"]\n",
    "\n",
    "print(X.shape, y.shape)"
   ]
  },
  {
   "cell_type": "code",
   "execution_count": 4,
   "id": "greek-greene",
   "metadata": {},
   "outputs": [
    {
     "name": "stderr",
     "output_type": "stream",
     "text": [
      "C:\\Users\\nickm\\anaconda3\\envs\\PythonAdv\\lib\\site-packages\\ipykernel_launcher.py:5: SettingWithCopyWarning: \n",
      "A value is trying to be set on a copy of a slice from a DataFrame.\n",
      "Try using .loc[row_indexer,col_indexer] = value instead\n",
      "\n",
      "See the caveats in the documentation: https://pandas.pydata.org/pandas-docs/stable/user_guide/indexing.html#returning-a-view-versus-a-copy\n",
      "  \"\"\"\n"
     ]
    }
   ],
   "source": [
    "# Encode all categorical features\n",
    "label_encoder = LabelEncoder()\n",
    "categorical_feat = [i for i in X.columns if X[i].dtypes == 'object']\n",
    "for i in X[categorical_feat]:\n",
    "    X[i] = label_encoder.fit_transform(X[i].astype(str))\n",
    "\n",
    "# Encode target\n",
    "label_encoder.fit(y)\n",
    "encoded_y = label_encoder.transform(y).reshape(-1, 1)"
   ]
  },
  {
   "cell_type": "code",
   "execution_count": 5,
   "id": "refined-backup",
   "metadata": {},
   "outputs": [],
   "source": [
    "# Train test split\n",
    "X_train, X_test, y_train, y_test = train_test_split(X, encoded_y, random_state=1)"
   ]
  },
  {
   "cell_type": "code",
   "execution_count": 6,
   "id": "clinical-playing",
   "metadata": {},
   "outputs": [],
   "source": [
    "# Scale the data\n",
    "X_scaler = StandardScaler().fit(X_train)\n",
    "X_train_scaled = X_scaler.transform(X_train)\n",
    "X_test_scaled = X_scaler.transform(X_test)"
   ]
  },
  {
   "cell_type": "code",
   "execution_count": 7,
   "id": "current-flesh",
   "metadata": {},
   "outputs": [
    {
     "name": "stderr",
     "output_type": "stream",
     "text": [
      "C:\\Users\\nickm\\anaconda3\\envs\\PythonAdv\\lib\\site-packages\\sklearn\\utils\\validation.py:63: DataConversionWarning: A column-vector y was passed when a 1d array was expected. Please change the shape of y to (n_samples, ), for example using ravel().\n",
      "  return f(*args, **kwargs)\n"
     ]
    }
   ],
   "source": [
    "# Create an SVM model\n",
    "svm_clf = svm.SVC(kernel =\"linear\")\n",
    "svm_clf.fit(X_train_scaled, y_train)\n",
    "pred_svm_clf = svm_clf.predict(X_test_scaled)"
   ]
  },
  {
   "cell_type": "code",
   "execution_count": 8,
   "id": "bizarre-reduction",
   "metadata": {},
   "outputs": [
    {
     "name": "stdout",
     "output_type": "stream",
     "text": [
      "0.7644483362521891\n"
     ]
    }
   ],
   "source": [
    "# Accuracy Score\n",
    "print(accuracy_score(y_test, pred_svm_clf))"
   ]
  }
 ],
 "metadata": {
  "kernelspec": {
   "display_name": "Python [conda env:PythonAdv] *",
   "language": "python",
   "name": "conda-env-PythonAdv-py"
  },
  "language_info": {
   "codemirror_mode": {
    "name": "ipython",
    "version": 3
   },
   "file_extension": ".py",
   "mimetype": "text/x-python",
   "name": "python",
   "nbconvert_exporter": "python",
   "pygments_lexer": "ipython3",
   "version": "3.6.13"
  }
 },
 "nbformat": 4,
 "nbformat_minor": 5
}
