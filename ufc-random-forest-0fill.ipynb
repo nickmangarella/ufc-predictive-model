{
 "metadata": {
  "language_info": {
   "codemirror_mode": {
    "name": "ipython",
    "version": 3
   },
   "file_extension": ".py",
   "mimetype": "text/x-python",
   "name": "python",
   "nbconvert_exporter": "python",
   "pygments_lexer": "ipython3",
   "version": "3.6.13"
  },
  "orig_nbformat": 2,
  "kernelspec": {
   "name": "python3613jvsc74a57bd0e341847e07927e1868392d39a558dbfb4ba065d0510ad0522c3534feb05814e9",
   "display_name": "Python 3.6.13 64-bit ('PythonAdv': conda)"
  }
 },
 "nbformat": 4,
 "nbformat_minor": 2,
 "cells": [
  {
   "cell_type": "code",
   "execution_count": 1,
   "metadata": {},
   "outputs": [],
   "source": [
    "import numpy as np\n",
    "import pandas as pd\n",
    "import matplotlib.pyplot as plt\n",
    "from sklearn.model_selection import train_test_split, GridSearchCV\n",
    "from sklearn.ensemble import RandomForestClassifier\n",
    "from sklearn.impute import SimpleImputer\n",
    "from sklearn.preprocessing import LabelEncoder\n",
    "from sklearn.dummy import DummyClassifier"
   ]
  },
  {
   "cell_type": "code",
   "execution_count": 2,
   "metadata": {},
   "outputs": [
    {
     "output_type": "stream",
     "name": "stderr",
     "text": [
      "D:\\Users\\lynel\\anaconda3\\envs\\PythonAdv\\lib\\site-packages\\IPython\\core\\interactiveshell.py:3072: DtypeWarning: Columns (79,80) have mixed types.Specify dtype option on import or set low_memory=False.\n  interactivity=interactivity, compiler=compiler, result=result)\n"
     ]
    },
    {
     "output_type": "execute_result",
     "data": {
      "text/plain": [
       "           R_fighter         B_fighter  R_odds  B_odds        R_ev  \\\n",
       "0   Alistair Overeem  Alexander Volkov     150    -182  150.000000   \n",
       "1     Cory Sandhagen     Frankie Edgar    -400     300   25.000000   \n",
       "2  Alexandre Pantoja        Manel Kape    -125     100   80.000000   \n",
       "3     Diego Ferreira    Beneil Dariush    -125     105   80.000000   \n",
       "4    Michael Johnson        Clay Guida    -225     175   44.444444   \n",
       "\n",
       "         B_ev      date                location country Winner  ...  \\\n",
       "0   54.945055  2/6/2021  Las Vegas, Nevada, USA     USA   Blue  ...   \n",
       "1  300.000000  2/6/2021  Las Vegas, Nevada, USA     USA    Red  ...   \n",
       "2  100.000000  2/6/2021  Las Vegas, Nevada, USA     USA    Red  ...   \n",
       "3  105.000000  2/6/2021  Las Vegas, Nevada, USA     USA   Blue  ...   \n",
       "4  175.000000  2/6/2021  Las Vegas, Nevada, USA     USA   Blue  ...   \n",
       "\n",
       "   R_td_attempted_bout B_td_attempted_bout R_td_pct_bout  B_td_pct_bout  \\\n",
       "0                  NaN                 NaN           NaN            NaN   \n",
       "1                  NaN                 NaN           NaN            NaN   \n",
       "2                  NaN                 NaN           NaN            NaN   \n",
       "3                  NaN                 NaN           NaN            NaN   \n",
       "4                  NaN                 NaN           NaN            NaN   \n",
       "\n",
       "   R_sub_attempts_bout  B_sub_attempts_bout  R_pass_bout  B_pass_bout  \\\n",
       "0                  NaN                  NaN          NaN          NaN   \n",
       "1                  NaN                  NaN          NaN          NaN   \n",
       "2                  NaN                  NaN          NaN          NaN   \n",
       "3                  NaN                  NaN          NaN          NaN   \n",
       "4                  NaN                  NaN          NaN          NaN   \n",
       "\n",
       "   R_rev_bout  B_rev_bout  \n",
       "0         NaN         NaN  \n",
       "1         NaN         NaN  \n",
       "2         NaN         NaN  \n",
       "3         NaN         NaN  \n",
       "4         NaN         NaN  \n",
       "\n",
       "[5 rows x 137 columns]"
      ],
      "text/html": "<div>\n<style scoped>\n    .dataframe tbody tr th:only-of-type {\n        vertical-align: middle;\n    }\n\n    .dataframe tbody tr th {\n        vertical-align: top;\n    }\n\n    .dataframe thead th {\n        text-align: right;\n    }\n</style>\n<table border=\"1\" class=\"dataframe\">\n  <thead>\n    <tr style=\"text-align: right;\">\n      <th></th>\n      <th>R_fighter</th>\n      <th>B_fighter</th>\n      <th>R_odds</th>\n      <th>B_odds</th>\n      <th>R_ev</th>\n      <th>B_ev</th>\n      <th>date</th>\n      <th>location</th>\n      <th>country</th>\n      <th>Winner</th>\n      <th>...</th>\n      <th>R_td_attempted_bout</th>\n      <th>B_td_attempted_bout</th>\n      <th>R_td_pct_bout</th>\n      <th>B_td_pct_bout</th>\n      <th>R_sub_attempts_bout</th>\n      <th>B_sub_attempts_bout</th>\n      <th>R_pass_bout</th>\n      <th>B_pass_bout</th>\n      <th>R_rev_bout</th>\n      <th>B_rev_bout</th>\n    </tr>\n  </thead>\n  <tbody>\n    <tr>\n      <th>0</th>\n      <td>Alistair Overeem</td>\n      <td>Alexander Volkov</td>\n      <td>150</td>\n      <td>-182</td>\n      <td>150.000000</td>\n      <td>54.945055</td>\n      <td>2/6/2021</td>\n      <td>Las Vegas, Nevada, USA</td>\n      <td>USA</td>\n      <td>Blue</td>\n      <td>...</td>\n      <td>NaN</td>\n      <td>NaN</td>\n      <td>NaN</td>\n      <td>NaN</td>\n      <td>NaN</td>\n      <td>NaN</td>\n      <td>NaN</td>\n      <td>NaN</td>\n      <td>NaN</td>\n      <td>NaN</td>\n    </tr>\n    <tr>\n      <th>1</th>\n      <td>Cory Sandhagen</td>\n      <td>Frankie Edgar</td>\n      <td>-400</td>\n      <td>300</td>\n      <td>25.000000</td>\n      <td>300.000000</td>\n      <td>2/6/2021</td>\n      <td>Las Vegas, Nevada, USA</td>\n      <td>USA</td>\n      <td>Red</td>\n      <td>...</td>\n      <td>NaN</td>\n      <td>NaN</td>\n      <td>NaN</td>\n      <td>NaN</td>\n      <td>NaN</td>\n      <td>NaN</td>\n      <td>NaN</td>\n      <td>NaN</td>\n      <td>NaN</td>\n      <td>NaN</td>\n    </tr>\n    <tr>\n      <th>2</th>\n      <td>Alexandre Pantoja</td>\n      <td>Manel Kape</td>\n      <td>-125</td>\n      <td>100</td>\n      <td>80.000000</td>\n      <td>100.000000</td>\n      <td>2/6/2021</td>\n      <td>Las Vegas, Nevada, USA</td>\n      <td>USA</td>\n      <td>Red</td>\n      <td>...</td>\n      <td>NaN</td>\n      <td>NaN</td>\n      <td>NaN</td>\n      <td>NaN</td>\n      <td>NaN</td>\n      <td>NaN</td>\n      <td>NaN</td>\n      <td>NaN</td>\n      <td>NaN</td>\n      <td>NaN</td>\n    </tr>\n    <tr>\n      <th>3</th>\n      <td>Diego Ferreira</td>\n      <td>Beneil Dariush</td>\n      <td>-125</td>\n      <td>105</td>\n      <td>80.000000</td>\n      <td>105.000000</td>\n      <td>2/6/2021</td>\n      <td>Las Vegas, Nevada, USA</td>\n      <td>USA</td>\n      <td>Blue</td>\n      <td>...</td>\n      <td>NaN</td>\n      <td>NaN</td>\n      <td>NaN</td>\n      <td>NaN</td>\n      <td>NaN</td>\n      <td>NaN</td>\n      <td>NaN</td>\n      <td>NaN</td>\n      <td>NaN</td>\n      <td>NaN</td>\n    </tr>\n    <tr>\n      <th>4</th>\n      <td>Michael Johnson</td>\n      <td>Clay Guida</td>\n      <td>-225</td>\n      <td>175</td>\n      <td>44.444444</td>\n      <td>175.000000</td>\n      <td>2/6/2021</td>\n      <td>Las Vegas, Nevada, USA</td>\n      <td>USA</td>\n      <td>Blue</td>\n      <td>...</td>\n      <td>NaN</td>\n      <td>NaN</td>\n      <td>NaN</td>\n      <td>NaN</td>\n      <td>NaN</td>\n      <td>NaN</td>\n      <td>NaN</td>\n      <td>NaN</td>\n      <td>NaN</td>\n      <td>NaN</td>\n    </tr>\n  </tbody>\n</table>\n<p>5 rows × 137 columns</p>\n</div>"
     },
     "metadata": {},
     "execution_count": 2
    }
   ],
   "source": [
    "# import CSV\n",
    "df = pd.read_csv(os.path.join(\"Resources\", \"ufc-master.csv\"))\n",
    "df.head()"
   ]
  },
  {
   "cell_type": "code",
   "execution_count": 3,
   "metadata": {},
   "outputs": [
    {
     "output_type": "execute_result",
     "data": {
      "text/plain": [
       "(4566, 137)"
      ]
     },
     "metadata": {},
     "execution_count": 3
    }
   ],
   "source": [
    "# Get rows and columns\n",
    "df.shape"
   ]
  },
  {
   "cell_type": "code",
   "execution_count": 4,
   "metadata": {},
   "outputs": [
    {
     "output_type": "stream",
     "name": "stdout",
     "text": [
      "<class 'pandas.core.frame.DataFrame'>\nRangeIndex: 4566 entries, 0 to 4565\nColumns: 137 entries, R_fighter to B_rev_bout\ndtypes: bool(1), float64(73), int64(47), object(16)\nmemory usage: 4.7+ MB\n"
     ]
    }
   ],
   "source": [
    "# Get info\n",
    "df.info()"
   ]
  },
  {
   "cell_type": "code",
   "execution_count": 5,
   "metadata": {},
   "outputs": [
    {
     "output_type": "execute_result",
     "data": {
      "text/plain": [
       "B_Women's Featherweight_rank    4566\n",
       "R_Women's Featherweight_rank    4553\n",
       "B_Pound-for-Pound_rank          4538\n",
       "B_Women's Flyweight_rank        4532\n",
       "R_Women's Flyweight_rank        4516\n",
       "B_Women's Strawweight_rank      4511\n",
       "B_Women's Bantamweight_rank     4492\n",
       "B_Bantamweight_rank             4486\n",
       "B_Lightweight_rank              4484\n",
       "B_Welterweight_rank             4484\n",
       "B_Featherweight_rank            4482\n",
       "B_Light Heavyweight_rank        4479\n",
       "B_Flyweight_rank                4476\n",
       "B_Middleweight_rank             4476\n",
       "R_Women's Strawweight_rank      4470\n",
       "B_Heavyweight_rank              4464\n",
       "R_Women's Bantamweight_rank     4457\n",
       "R_Middleweight_rank             4445\n",
       "R_Featherweight_rank            4441\n",
       "R_Bantamweight_rank             4438\n",
       "R_Lightweight_rank              4438\n",
       "R_Welterweight_rank             4435\n",
       "R_Light Heavyweight_rank        4434\n",
       "R_Heavyweight_rank              4433\n",
       "R_Flyweight_rank                4432\n",
       "R_Pound-for-Pound_rank          4418\n",
       "B_match_weightclass_rank        3754\n",
       "R_match_weightclass_rank        3333\n",
       "finish_details                  2542\n",
       "R_rev_bout                      1794\n",
       "B_rev_bout                      1794\n",
       "R_sub_attempts_bout             1794\n",
       "B_sig_str_pct_bout              1794\n",
       "B_td_attempted_bout             1794\n",
       "R_td_attempted_bout             1794\n",
       "B_td_landed_bout                1794\n",
       "B_sub_attempts_bout             1794\n",
       "R_td_landed_bout                1794\n",
       "B_tot_str_attempted_bout        1794\n",
       "R_tot_str_attempted_bout        1794\n",
       "B_tot_str_landed_bout           1794\n",
       "R_tot_str_landed_bout           1794\n",
       "R_sig_str_pct_bout              1794\n",
       "B_td_pct_bout                   1794\n",
       "B_sig_str_attempted_bout        1794\n",
       "R_sig_str_attempted_bout        1794\n",
       "B_sig_str_landed_bout           1794\n",
       "R_sig_str_landed_bout           1794\n",
       "B_kd_bout                       1794\n",
       "R_kd_bout                       1794\n",
       "R_pass_bout                     1794\n",
       "B_pass_bout                     1794\n",
       "R_td_pct_bout                   1794\n",
       "B_avg_SIG_STR_landed             930\n",
       "B_avg_TD_pct                     842\n",
       "B_avg_TD_landed                  833\n",
       "B_avg_SUB_ATT                    832\n",
       "B_avg_SIG_STR_pct                765\n",
       "total_fight_time_secs            467\n",
       "finish_round                     467\n",
       "finish_round_time                467\n",
       "R_avg_SIG_STR_landed             455\n",
       "finish                           448\n",
       "R_avg_TD_pct                     367\n",
       "R_avg_SIG_STR_pct                357\n",
       "R_avg_SUB_ATT                    357\n",
       "R_avg_TD_landed                  357\n",
       "better_rank                       10\n",
       "B_win_by_Decision_Majority         0\n",
       "B_total_rounds_fought              0\n",
       "B_total_title_bouts                0\n",
       "B_losses                           0\n",
       "B_win_by_Decision_Split            0\n",
       "B_win_by_Decision_Unanimous        0\n",
       "B_win_by_KO/TKO                    0\n",
       "B_Height_cms                       0\n",
       "B_win_by_TKO_Doctor_Stoppage       0\n",
       "B_wins                             0\n",
       "B_Stance                           0\n",
       "B_win_by_Submission                0\n",
       "country                            0\n",
       "B_longest_win_streak               0\n",
       "B_draw                             0\n",
       "B_Weight_lbs                       0\n",
       "B_fighter                          0\n",
       "R_odds                             0\n",
       "B_odds                             0\n",
       "R_ev                               0\n",
       "B_ev                               0\n",
       "date                               0\n",
       "location                           0\n",
       "Winner                             0\n",
       "title_bout                         0\n",
       "weight_class                       0\n",
       "gender                             0\n",
       "no_of_rounds                       0\n",
       "B_current_lose_streak              0\n",
       "B_current_win_streak               0\n",
       "B_Reach_cms                        0\n",
       "total_title_bout_dif               0\n",
       "R_current_lose_streak              0\n",
       "B_age                              0\n",
       "win_streak_dif                     0\n",
       "longest_win_streak_dif             0\n",
       "win_dif                            0\n",
       "loss_dif                           0\n",
       "total_round_dif                    0\n",
       "ko_dif                             0\n",
       "sub_dif                            0\n",
       "height_dif                         0\n",
       "reach_dif                          0\n",
       "age_dif                            0\n",
       "sig_str_dif                        0\n",
       "avg_sub_att_dif                    0\n",
       "avg_td_dif                         0\n",
       "empty_arena                        0\n",
       "constant_1                         0\n",
       "lose_streak_dif                    0\n",
       "R_age                              0\n",
       "R_current_win_streak               0\n",
       "R_Weight_lbs                       0\n",
       "R_draw                             0\n",
       "R_longest_win_streak               0\n",
       "R_losses                           0\n",
       "R_total_rounds_fought              0\n",
       "R_total_title_bouts                0\n",
       "R_win_by_Decision_Majority         0\n",
       "R_win_by_Decision_Split            0\n",
       "R_win_by_Decision_Unanimous        0\n",
       "R_win_by_KO/TKO                    0\n",
       "R_win_by_Submission                0\n",
       "R_win_by_TKO_Doctor_Stoppage       0\n",
       "R_wins                             0\n",
       "R_Stance                           0\n",
       "R_Height_cms                       0\n",
       "R_Reach_cms                        0\n",
       "R_fighter                          0\n",
       "dtype: int64"
      ]
     },
     "metadata": {},
     "execution_count": 5
    }
   ],
   "source": [
    "# Count all the null values in each column\n",
    "pd.set_option('display.max_rows', None)\n",
    "df.isnull().sum().sort_values(ascending=False)"
   ]
  },
  {
   "cell_type": "code",
   "execution_count": 6,
   "metadata": {},
   "outputs": [
    {
     "output_type": "execute_result",
     "data": {
      "text/plain": [
       "(4566, 135)"
      ]
     },
     "metadata": {},
     "execution_count": 6
    }
   ],
   "source": [
    "# Drop Womens Featherweight Rank\n",
    "df.drop(columns=[\"R_Women's Featherweight_rank\", \"B_Women's Featherweight_rank\"], inplace=True)\n",
    "df.shape"
   ]
  },
  {
   "cell_type": "code",
   "execution_count": 7,
   "metadata": {},
   "outputs": [
    {
     "output_type": "execute_result",
     "data": {
      "text/plain": [
       "           R_fighter         B_fighter  R_odds  B_odds        R_ev  \\\n",
       "0   Alistair Overeem  Alexander Volkov     150    -182  150.000000   \n",
       "1     Cory Sandhagen     Frankie Edgar    -400     300   25.000000   \n",
       "2  Alexandre Pantoja        Manel Kape    -125     100   80.000000   \n",
       "3     Diego Ferreira    Beneil Dariush    -125     105   80.000000   \n",
       "4    Michael Johnson        Clay Guida    -225     175   44.444444   \n",
       "\n",
       "         B_ev      date                location country Winner  ...  \\\n",
       "0   54.945055  2/6/2021  Las Vegas, Nevada, USA     USA   Blue  ...   \n",
       "1  300.000000  2/6/2021  Las Vegas, Nevada, USA     USA    Red  ...   \n",
       "2  100.000000  2/6/2021  Las Vegas, Nevada, USA     USA    Red  ...   \n",
       "3  105.000000  2/6/2021  Las Vegas, Nevada, USA     USA   Blue  ...   \n",
       "4  175.000000  2/6/2021  Las Vegas, Nevada, USA     USA   Blue  ...   \n",
       "\n",
       "   R_td_attempted_bout B_td_attempted_bout R_td_pct_bout  B_td_pct_bout  \\\n",
       "0                  0.0                 0.0           0.0            0.0   \n",
       "1                  0.0                 0.0           0.0            0.0   \n",
       "2                  0.0                 0.0           0.0            0.0   \n",
       "3                  0.0                 0.0           0.0            0.0   \n",
       "4                  0.0                 0.0           0.0            0.0   \n",
       "\n",
       "   R_sub_attempts_bout  B_sub_attempts_bout  R_pass_bout  B_pass_bout  \\\n",
       "0                  0.0                  0.0          0.0          0.0   \n",
       "1                  0.0                  0.0          0.0          0.0   \n",
       "2                  0.0                  0.0          0.0          0.0   \n",
       "3                  0.0                  0.0          0.0          0.0   \n",
       "4                  0.0                  0.0          0.0          0.0   \n",
       "\n",
       "   R_rev_bout  B_rev_bout  \n",
       "0         0.0         0.0  \n",
       "1         0.0         0.0  \n",
       "2         0.0         0.0  \n",
       "3         0.0         0.0  \n",
       "4         0.0         0.0  \n",
       "\n",
       "[5 rows x 135 columns]"
      ],
      "text/html": "<div>\n<style scoped>\n    .dataframe tbody tr th:only-of-type {\n        vertical-align: middle;\n    }\n\n    .dataframe tbody tr th {\n        vertical-align: top;\n    }\n\n    .dataframe thead th {\n        text-align: right;\n    }\n</style>\n<table border=\"1\" class=\"dataframe\">\n  <thead>\n    <tr style=\"text-align: right;\">\n      <th></th>\n      <th>R_fighter</th>\n      <th>B_fighter</th>\n      <th>R_odds</th>\n      <th>B_odds</th>\n      <th>R_ev</th>\n      <th>B_ev</th>\n      <th>date</th>\n      <th>location</th>\n      <th>country</th>\n      <th>Winner</th>\n      <th>...</th>\n      <th>R_td_attempted_bout</th>\n      <th>B_td_attempted_bout</th>\n      <th>R_td_pct_bout</th>\n      <th>B_td_pct_bout</th>\n      <th>R_sub_attempts_bout</th>\n      <th>B_sub_attempts_bout</th>\n      <th>R_pass_bout</th>\n      <th>B_pass_bout</th>\n      <th>R_rev_bout</th>\n      <th>B_rev_bout</th>\n    </tr>\n  </thead>\n  <tbody>\n    <tr>\n      <th>0</th>\n      <td>Alistair Overeem</td>\n      <td>Alexander Volkov</td>\n      <td>150</td>\n      <td>-182</td>\n      <td>150.000000</td>\n      <td>54.945055</td>\n      <td>2/6/2021</td>\n      <td>Las Vegas, Nevada, USA</td>\n      <td>USA</td>\n      <td>Blue</td>\n      <td>...</td>\n      <td>0.0</td>\n      <td>0.0</td>\n      <td>0.0</td>\n      <td>0.0</td>\n      <td>0.0</td>\n      <td>0.0</td>\n      <td>0.0</td>\n      <td>0.0</td>\n      <td>0.0</td>\n      <td>0.0</td>\n    </tr>\n    <tr>\n      <th>1</th>\n      <td>Cory Sandhagen</td>\n      <td>Frankie Edgar</td>\n      <td>-400</td>\n      <td>300</td>\n      <td>25.000000</td>\n      <td>300.000000</td>\n      <td>2/6/2021</td>\n      <td>Las Vegas, Nevada, USA</td>\n      <td>USA</td>\n      <td>Red</td>\n      <td>...</td>\n      <td>0.0</td>\n      <td>0.0</td>\n      <td>0.0</td>\n      <td>0.0</td>\n      <td>0.0</td>\n      <td>0.0</td>\n      <td>0.0</td>\n      <td>0.0</td>\n      <td>0.0</td>\n      <td>0.0</td>\n    </tr>\n    <tr>\n      <th>2</th>\n      <td>Alexandre Pantoja</td>\n      <td>Manel Kape</td>\n      <td>-125</td>\n      <td>100</td>\n      <td>80.000000</td>\n      <td>100.000000</td>\n      <td>2/6/2021</td>\n      <td>Las Vegas, Nevada, USA</td>\n      <td>USA</td>\n      <td>Red</td>\n      <td>...</td>\n      <td>0.0</td>\n      <td>0.0</td>\n      <td>0.0</td>\n      <td>0.0</td>\n      <td>0.0</td>\n      <td>0.0</td>\n      <td>0.0</td>\n      <td>0.0</td>\n      <td>0.0</td>\n      <td>0.0</td>\n    </tr>\n    <tr>\n      <th>3</th>\n      <td>Diego Ferreira</td>\n      <td>Beneil Dariush</td>\n      <td>-125</td>\n      <td>105</td>\n      <td>80.000000</td>\n      <td>105.000000</td>\n      <td>2/6/2021</td>\n      <td>Las Vegas, Nevada, USA</td>\n      <td>USA</td>\n      <td>Blue</td>\n      <td>...</td>\n      <td>0.0</td>\n      <td>0.0</td>\n      <td>0.0</td>\n      <td>0.0</td>\n      <td>0.0</td>\n      <td>0.0</td>\n      <td>0.0</td>\n      <td>0.0</td>\n      <td>0.0</td>\n      <td>0.0</td>\n    </tr>\n    <tr>\n      <th>4</th>\n      <td>Michael Johnson</td>\n      <td>Clay Guida</td>\n      <td>-225</td>\n      <td>175</td>\n      <td>44.444444</td>\n      <td>175.000000</td>\n      <td>2/6/2021</td>\n      <td>Las Vegas, Nevada, USA</td>\n      <td>USA</td>\n      <td>Blue</td>\n      <td>...</td>\n      <td>0.0</td>\n      <td>0.0</td>\n      <td>0.0</td>\n      <td>0.0</td>\n      <td>0.0</td>\n      <td>0.0</td>\n      <td>0.0</td>\n      <td>0.0</td>\n      <td>0.0</td>\n      <td>0.0</td>\n    </tr>\n  </tbody>\n</table>\n<p>5 rows × 135 columns</p>\n</div>"
     },
     "metadata": {},
     "execution_count": 7
    }
   ],
   "source": [
    "# Fill in nulls with 0\n",
    "df.fillna(0, inplace=True)\n",
    "df.head()"
   ]
  },
  {
   "cell_type": "code",
   "execution_count": 8,
   "metadata": {},
   "outputs": [],
   "source": [
    "# Set features\n",
    "X = df.drop([\"Winner\"], axis=1)\n",
    "y = df[\"Winner\"]\n",
    "\n",
    "feature_names = X.columns"
   ]
  },
  {
   "cell_type": "code",
   "execution_count": 9,
   "metadata": {},
   "outputs": [],
   "source": [
    "# Label Encode non numeric columns\n",
    "label_encoder = LabelEncoder()\n",
    "non_numeric = [i for i in X.columns if X[i].dtypes == 'object']\n",
    "label_encoder.fit(y)\n",
    "encoded_y = label_encoder.transform(y)\n",
    "\n",
    "for i in X[non_numeric]:\n",
    "    X[i] = label_encoder.fit_transform(X[i].astype(str))"
   ]
  },
  {
   "cell_type": "code",
   "execution_count": 10,
   "metadata": {},
   "outputs": [
    {
     "output_type": "execute_result",
     "data": {
      "text/plain": [
       "      R_fighter  B_fighter  R_odds  B_odds        R_ev        B_ev  date  \\\n",
       "1456        363         57    -135     115   74.074074  115.000000    13   \n",
       "2934       1183       1399    -365     328   27.397260  328.000000    94   \n",
       "2451       1024        391    -440     350   22.727273  350.000000    76   \n",
       "286         185        324    -286     220   29.850746  245.000000   300   \n",
       "1504         58        479     210    -230  210.000000   43.478261   117   \n",
       "\n",
       "      location  country  title_bout  ...  R_td_attempted_bout  \\\n",
       "1456        22       21       False  ...                 12.0   \n",
       "2934       137        2       False  ...                  0.0   \n",
       "2451        81       12       False  ...                  6.0   \n",
       "286          0       27       False  ...                  0.0   \n",
       "1504        39       21       False  ...                  0.0   \n",
       "\n",
       "      B_td_attempted_bout  R_td_pct_bout  B_td_pct_bout  R_sub_attempts_bout  \\\n",
       "1456                  1.0           0.58            1.0                  0.0   \n",
       "2934                  0.0           0.00            0.0                  0.0   \n",
       "2451                  2.0           0.50            0.5                  0.0   \n",
       "286                   0.0           0.00            0.0                  0.0   \n",
       "1504                  0.0           0.00            0.0                  0.0   \n",
       "\n",
       "      B_sub_attempts_bout  R_pass_bout  B_pass_bout  R_rev_bout  B_rev_bout  \n",
       "1456                  2.0          1.0          4.0         2.0         2.0  \n",
       "2934                  0.0          0.0          0.0         0.0         0.0  \n",
       "2451                  0.0          0.0          0.0         0.0         0.0  \n",
       "286                   0.0          0.0          0.0         0.0         0.0  \n",
       "1504                  0.0          0.0          0.0         0.0         0.0  \n",
       "\n",
       "[5 rows x 134 columns]"
      ],
      "text/html": "<div>\n<style scoped>\n    .dataframe tbody tr th:only-of-type {\n        vertical-align: middle;\n    }\n\n    .dataframe tbody tr th {\n        vertical-align: top;\n    }\n\n    .dataframe thead th {\n        text-align: right;\n    }\n</style>\n<table border=\"1\" class=\"dataframe\">\n  <thead>\n    <tr style=\"text-align: right;\">\n      <th></th>\n      <th>R_fighter</th>\n      <th>B_fighter</th>\n      <th>R_odds</th>\n      <th>B_odds</th>\n      <th>R_ev</th>\n      <th>B_ev</th>\n      <th>date</th>\n      <th>location</th>\n      <th>country</th>\n      <th>title_bout</th>\n      <th>...</th>\n      <th>R_td_attempted_bout</th>\n      <th>B_td_attempted_bout</th>\n      <th>R_td_pct_bout</th>\n      <th>B_td_pct_bout</th>\n      <th>R_sub_attempts_bout</th>\n      <th>B_sub_attempts_bout</th>\n      <th>R_pass_bout</th>\n      <th>B_pass_bout</th>\n      <th>R_rev_bout</th>\n      <th>B_rev_bout</th>\n    </tr>\n  </thead>\n  <tbody>\n    <tr>\n      <th>1456</th>\n      <td>363</td>\n      <td>57</td>\n      <td>-135</td>\n      <td>115</td>\n      <td>74.074074</td>\n      <td>115.000000</td>\n      <td>13</td>\n      <td>22</td>\n      <td>21</td>\n      <td>False</td>\n      <td>...</td>\n      <td>12.0</td>\n      <td>1.0</td>\n      <td>0.58</td>\n      <td>1.0</td>\n      <td>0.0</td>\n      <td>2.0</td>\n      <td>1.0</td>\n      <td>4.0</td>\n      <td>2.0</td>\n      <td>2.0</td>\n    </tr>\n    <tr>\n      <th>2934</th>\n      <td>1183</td>\n      <td>1399</td>\n      <td>-365</td>\n      <td>328</td>\n      <td>27.397260</td>\n      <td>328.000000</td>\n      <td>94</td>\n      <td>137</td>\n      <td>2</td>\n      <td>False</td>\n      <td>...</td>\n      <td>0.0</td>\n      <td>0.0</td>\n      <td>0.00</td>\n      <td>0.0</td>\n      <td>0.0</td>\n      <td>0.0</td>\n      <td>0.0</td>\n      <td>0.0</td>\n      <td>0.0</td>\n      <td>0.0</td>\n    </tr>\n    <tr>\n      <th>2451</th>\n      <td>1024</td>\n      <td>391</td>\n      <td>-440</td>\n      <td>350</td>\n      <td>22.727273</td>\n      <td>350.000000</td>\n      <td>76</td>\n      <td>81</td>\n      <td>12</td>\n      <td>False</td>\n      <td>...</td>\n      <td>6.0</td>\n      <td>2.0</td>\n      <td>0.50</td>\n      <td>0.5</td>\n      <td>0.0</td>\n      <td>0.0</td>\n      <td>0.0</td>\n      <td>0.0</td>\n      <td>0.0</td>\n      <td>0.0</td>\n    </tr>\n    <tr>\n      <th>286</th>\n      <td>185</td>\n      <td>324</td>\n      <td>-286</td>\n      <td>220</td>\n      <td>29.850746</td>\n      <td>245.000000</td>\n      <td>300</td>\n      <td>0</td>\n      <td>27</td>\n      <td>False</td>\n      <td>...</td>\n      <td>0.0</td>\n      <td>0.0</td>\n      <td>0.00</td>\n      <td>0.0</td>\n      <td>0.0</td>\n      <td>0.0</td>\n      <td>0.0</td>\n      <td>0.0</td>\n      <td>0.0</td>\n      <td>0.0</td>\n    </tr>\n    <tr>\n      <th>1504</th>\n      <td>58</td>\n      <td>479</td>\n      <td>210</td>\n      <td>-230</td>\n      <td>210.000000</td>\n      <td>43.478261</td>\n      <td>117</td>\n      <td>39</td>\n      <td>21</td>\n      <td>False</td>\n      <td>...</td>\n      <td>0.0</td>\n      <td>0.0</td>\n      <td>0.00</td>\n      <td>0.0</td>\n      <td>0.0</td>\n      <td>0.0</td>\n      <td>0.0</td>\n      <td>0.0</td>\n      <td>0.0</td>\n      <td>0.0</td>\n    </tr>\n  </tbody>\n</table>\n<p>5 rows × 134 columns</p>\n</div>"
     },
     "metadata": {},
     "execution_count": 10
    }
   ],
   "source": [
    "#train\n",
    "\n",
    "X_train, X_test, y_train, y_test = train_test_split(X, encoded_y, random_state=42)\n",
    "\n",
    "X_train.head()"
   ]
  },
  {
   "cell_type": "code",
   "execution_count": 11,
   "metadata": {},
   "outputs": [],
   "source": [
    "#Fit\n",
    "rfc = RandomForestClassifier(n_estimators=200)\n",
    "rfc = rfc.fit(X_train, y_train)"
   ]
  },
  {
   "cell_type": "code",
   "execution_count": 12,
   "metadata": {},
   "outputs": [
    {
     "output_type": "stream",
     "name": "stdout",
     "text": [
      "0.7784588441330998\n"
     ]
    }
   ],
   "source": [
    "# Get Score\n",
    "print(rfc.score(X_test, y_test))"
   ]
  },
  {
   "cell_type": "code",
   "execution_count": 14,
   "metadata": {},
   "outputs": [
    {
     "output_type": "execute_result",
     "data": {
      "text/plain": [
       "array([0.01632534, 0.01617251, 0.03417797, 0.03627709, 0.03845573,\n",
       "       0.03013932, 0.01566433, 0.0115203 , 0.00759565, 0.00113343,\n",
       "       0.0073135 , 0.00096284, 0.00094084, 0.00373579, 0.00364309,\n",
       "       0.00064035, 0.01155729, 0.01137512, 0.00654842, 0.00868768,\n",
       "       0.00801943, 0.00459011, 0.00476182, 0.00771806, 0.00140947,\n",
       "       0.00021029, 0.00196224, 0.00321694, 0.0033702 , 0.00263162,\n",
       "       0.00040489, 0.00524761, 0.00281526, 0.00869875, 0.01066495,\n",
       "       0.00681929, 0.00359203, 0.00420168, 0.0002924 , 0.01256014,\n",
       "       0.01254603, 0.00775179, 0.01181208, 0.01065068, 0.00567919,\n",
       "       0.00571496, 0.00963495, 0.00228588, 0.0010236 , 0.00292563,\n",
       "       0.00505156, 0.00451417, 0.00358605, 0.00070889, 0.00654765,\n",
       "       0.00289837, 0.00872199, 0.0098942 , 0.00680373, 0.01132719,\n",
       "       0.01197706, 0.00458041, 0.00498718, 0.00617936, 0.00731637,\n",
       "       0.00843222, 0.01030355, 0.00328437, 0.00576557, 0.00529469,\n",
       "       0.00937017, 0.01174837, 0.01294272, 0.01383812, 0.01025178,\n",
       "       0.01326234, 0.00077918, 0.        , 0.00294662, 0.00338284,\n",
       "       0.00045461, 0.00040665, 0.00090114, 0.00107012, 0.00057161,\n",
       "       0.00082672, 0.00097159, 0.00076819, 0.00058538, 0.00080141,\n",
       "       0.00053499, 0.00072863, 0.00030151, 0.00029733, 0.00122624,\n",
       "       0.00047958, 0.00077172, 0.00035047, 0.00063506, 0.00060337,\n",
       "       0.00043958, 0.00029042, 0.00056609, 0.00017438, 0.00163873,\n",
       "       0.00787095, 0.00846575, 0.00409769, 0.00867418, 0.00862015,\n",
       "       0.01879847, 0.028713  , 0.01765148, 0.01787346, 0.01070162,\n",
       "       0.01203618, 0.02207755, 0.01736422, 0.02111208, 0.01891419,\n",
       "       0.01458319, 0.01281616, 0.00565509, 0.00978432, 0.00453149,\n",
       "       0.00571279, 0.0091623 , 0.01227272, 0.00931536, 0.00686332,\n",
       "       0.01730117, 0.01778741, 0.00104894, 0.00102395])"
      ]
     },
     "metadata": {},
     "execution_count": 14
    }
   ],
   "source": [
    "# See Feature importance\n",
    "importances = rfc.feature_importances_\n",
    "importances"
   ]
  },
  {
   "cell_type": "code",
   "execution_count": 15,
   "metadata": {},
   "outputs": [
    {
     "output_type": "execute_result",
     "data": {
      "text/plain": [
       "[(0.03845573446464041, 'R_ev'),\n",
       " (0.03627708875827188, 'B_odds'),\n",
       " (0.03417796794017523, 'R_odds'),\n",
       " (0.030139324901142066, 'B_ev'),\n",
       " (0.02871300059781642, 'B_kd_bout'),\n",
       " (0.022077545926282194, 'R_sig_str_pct_bout'),\n",
       " (0.021112082744670205, 'R_tot_str_landed_bout'),\n",
       " (0.018914185930949103, 'B_tot_str_landed_bout'),\n",
       " (0.0187984739390588, 'R_kd_bout'),\n",
       " (0.017873464938774904, 'B_sig_str_landed_bout'),\n",
       " (0.017787407356884194, 'B_pass_bout'),\n",
       " (0.017651484580524998, 'R_sig_str_landed_bout'),\n",
       " (0.017364215671322264, 'B_sig_str_pct_bout'),\n",
       " (0.01730117262947767, 'R_pass_bout'),\n",
       " (0.016325338272428994, 'R_fighter'),\n",
       " (0.01617251064732357, 'B_fighter'),\n",
       " (0.015664329229888797, 'date'),\n",
       " (0.01458319247336399, 'R_tot_str_attempted_bout'),\n",
       " (0.013838115957975104, 'sig_str_dif'),\n",
       " (0.013262344719491078, 'avg_td_dif'),\n",
       " (0.012942715690508014, 'age_dif'),\n",
       " (0.012816164995285304, 'B_tot_str_attempted_bout'),\n",
       " (0.01256014012435789, 'R_avg_SIG_STR_landed'),\n",
       " (0.012546028106843429, 'R_avg_SIG_STR_pct'),\n",
       " (0.012272721936826705, 'B_td_pct_bout'),\n",
       " (0.012036181607321006, 'B_sig_str_attempted_bout'),\n",
       " (0.011977062424211699, 'B_age'),\n",
       " (0.01181208145079021, 'R_avg_TD_landed'),\n",
       " (0.01174837379289863, 'reach_dif'),\n",
       " (0.011557294086286399, 'B_avg_SIG_STR_landed'),\n",
       " (0.011520302959356347, 'location'),\n",
       " (0.011375118414246543, 'B_avg_SIG_STR_pct'),\n",
       " (0.0113271855341944, 'R_age'),\n",
       " (0.010701618579982777, 'R_sig_str_attempted_bout'),\n",
       " (0.01066495045897022, 'B_Reach_cms'),\n",
       " (0.010650679350551537, 'R_avg_TD_pct'),\n",
       " (0.010303550340670594, 'total_round_dif'),\n",
       " (0.010251778763222355, 'avg_sub_att_dif'),\n",
       " (0.009894195354379577, 'R_Reach_cms'),\n",
       " (0.009784316457796606, 'B_td_landed_bout'),\n",
       " (0.00963495431244544, 'R_total_rounds_fought'),\n",
       " (0.009370166448595792, 'height_dif'),\n",
       " (0.009315357385885022, 'R_sub_attempts_bout'),\n",
       " (0.009162297290844959, 'R_td_pct_bout'),\n",
       " (0.008721989786247492, 'R_Height_cms'),\n",
       " (0.00869874660965435, 'B_Height_cms'),\n",
       " (0.008687676260650052, 'B_avg_TD_landed'),\n",
       " (0.008674175585177793, 'finish_round_time'),\n",
       " (0.008620153223324786, 'total_fight_time_secs'),\n",
       " (0.008465747731156237, 'finish_details'),\n",
       " (0.008432222344642545, 'loss_dif'),\n",
       " (0.00801942677595639, 'B_avg_TD_pct'),\n",
       " (0.00787095092349537, 'finish'),\n",
       " (0.007751793518228182, 'R_avg_SUB_ATT'),\n",
       " (0.007718057159813655, 'B_total_rounds_fought'),\n",
       " (0.007595653246487879, 'country'),\n",
       " (0.007316370713665822, 'win_dif'),\n",
       " (0.007313504390830519, 'weight_class'),\n",
       " (0.006863321756878503, 'B_sub_attempts_bout'),\n",
       " (0.006819288371465591, 'B_Weight_lbs'),\n",
       " (0.006803726526867692, 'R_Weight_lbs'),\n",
       " (0.00654841941644952, 'B_avg_SUB_ATT'),\n",
       " (0.006547653952881528, 'R_wins'),\n",
       " (0.006179360891787889, 'longest_win_streak_dif'),\n",
       " (0.005765569669965242, 'ko_dif'),\n",
       " (0.005714963518376019, 'R_losses'),\n",
       " (0.005712787010627557, 'B_td_attempted_bout'),\n",
       " (0.0056791856628297475, 'R_longest_win_streak'),\n",
       " (0.005655093070267733, 'R_td_landed_bout'),\n",
       " (0.005294686886521544, 'sub_dif'),\n",
       " (0.005247610133203647, 'B_wins'),\n",
       " (0.005051555454320628, 'R_win_by_Decision_Unanimous'),\n",
       " (0.004987179261534193, 'win_streak_dif'),\n",
       " (0.004761820863121449, 'B_losses'),\n",
       " (0.004590108769040033, 'B_longest_win_streak'),\n",
       " (0.004580407599860017, 'lose_streak_dif'),\n",
       " (0.004531487315039732, 'R_td_attempted_bout'),\n",
       " (0.004514167731715202, 'R_win_by_KO/TKO'),\n",
       " (0.0042016776583856785, 'R_current_win_streak'),\n",
       " (0.004097691328097401, 'finish_round'),\n",
       " (0.00373579023031681, 'B_current_lose_streak'),\n",
       " (0.003643092655935584, 'B_current_win_streak'),\n",
       " (0.0035920319523031225, 'R_current_lose_streak'),\n",
       " (0.003586052626327773, 'R_win_by_Submission'),\n",
       " (0.003382838547788876, 'R_match_weightclass_rank'),\n",
       " (0.003370202439932953, 'B_win_by_KO/TKO'),\n",
       " (0.003284373989758672, 'total_title_bout_dif'),\n",
       " (0.0032169410136526936, 'B_win_by_Decision_Unanimous'),\n",
       " (0.002946620566922427, 'B_match_weightclass_rank'),\n",
       " (0.0029256285036678435, 'R_win_by_Decision_Split'),\n",
       " (0.0028983738206937964, 'R_Stance'),\n",
       " (0.0028152559119718743, 'B_Stance'),\n",
       " (0.0026316209589108946, 'B_win_by_Submission'),\n",
       " (0.00228588233999502, 'R_total_title_bouts'),\n",
       " (0.001962238747111429, 'B_win_by_Decision_Split'),\n",
       " (0.0016387278281351247, 'better_rank'),\n",
       " (0.001409474248092902, 'B_total_title_bouts'),\n",
       " (0.0012262381379699373, \"B_Women's Bantamweight_rank\"),\n",
       " (0.0011334283161017606, 'title_bout'),\n",
       " (0.001070115102688266, 'R_Heavyweight_rank'),\n",
       " (0.0010489359132503115, 'R_rev_bout'),\n",
       " (0.0010239496014264446, 'B_rev_bout'),\n",
       " (0.0010236017652851498, 'R_win_by_Decision_Majority'),\n",
       " (0.0009715879469380475, 'R_Welterweight_rank'),\n",
       " (0.000962843637494755, 'gender'),\n",
       " (0.0009408437834889144, 'no_of_rounds'),\n",
       " (0.0009011408531718641, \"R_Women's Bantamweight_rank\"),\n",
       " (0.0008267204591545936, 'R_Middleweight_rank'),\n",
       " (0.0008014064481650337, 'R_Bantamweight_rank'),\n",
       " (0.0007791786095817464, 'empty_arena'),\n",
       " (0.0007717195109086305, 'B_Light Heavyweight_rank'),\n",
       " (0.0007681867994286331, 'R_Lightweight_rank'),\n",
       " (0.0007286300917771498, 'R_Pound-for-Pound_rank'),\n",
       " (0.0007088876929596999, 'R_win_by_TKO_Doctor_Stoppage'),\n",
       " (0.0006403549705908757, 'B_draw'),\n",
       " (0.0006350623247191406, 'B_Welterweight_rank'),\n",
       " (0.0006033699809477157, 'B_Lightweight_rank'),\n",
       " (0.0005853847983333799, 'R_Featherweight_rank'),\n",
       " (0.000571613718676494, 'R_Light Heavyweight_rank'),\n",
       " (0.0005660913802705789, 'B_Flyweight_rank'),\n",
       " (0.0005349905533945775, 'R_Flyweight_rank'),\n",
       " (0.0004795769292605701, 'B_Heavyweight_rank'),\n",
       " (0.0004546068906022155, \"R_Women's Flyweight_rank\"),\n",
       " (0.0004395753984541803, 'B_Featherweight_rank'),\n",
       " (0.0004066549793826045, \"R_Women's Strawweight_rank\"),\n",
       " (0.00040489481902638923, 'B_win_by_TKO_Doctor_Stoppage'),\n",
       " (0.0003504736942207846, 'B_Middleweight_rank'),\n",
       " (0.00030151491293456645, \"B_Women's Flyweight_rank\"),\n",
       " (0.0002973319841472908, \"B_Women's Strawweight_rank\"),\n",
       " (0.000292402317280804, 'R_draw'),\n",
       " (0.0002904205407809468, 'B_Bantamweight_rank'),\n",
       " (0.00021028574664211304, 'B_win_by_Decision_Majority'),\n",
       " (0.00017438434352522972, 'B_Pound-for-Pound_rank'),\n",
       " (0.0, 'constant_1')]"
      ]
     },
     "metadata": {},
     "execution_count": 15
    }
   ],
   "source": [
    "# Sort features by importance\n",
    "sorted(zip(rfc.feature_importances_, feature_names), reverse=True)"
   ]
  },
  {
   "cell_type": "code",
   "execution_count": null,
   "metadata": {},
   "outputs": [],
   "source": []
  }
 ]
}