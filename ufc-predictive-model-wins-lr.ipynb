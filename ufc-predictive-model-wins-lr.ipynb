{
 "metadata": {
  "language_info": {
   "codemirror_mode": {
    "name": "ipython",
    "version": 3
   },
   "file_extension": ".py",
   "mimetype": "text/x-python",
   "name": "python",
   "nbconvert_exporter": "python",
   "pygments_lexer": "ipython3",
   "version": "3.6.13"
  },
  "orig_nbformat": 2,
  "kernelspec": {
   "name": "python3613jvsc74a57bd0e341847e07927e1868392d39a558dbfb4ba065d0510ad0522c3534feb05814e9",
   "display_name": "Python 3.6.13 64-bit ('PythonAdv': conda)"
  }
 },
 "nbformat": 4,
 "nbformat_minor": 2,
 "cells": [
  {
   "cell_type": "code",
   "execution_count": 1,
   "metadata": {},
   "outputs": [],
   "source": [
    "import numpy as np\n",
    "import pandas as pd\n",
    "import matplotlib.pyplot as plt\n",
    "from sklearn.model_selection import train_test_split, GridSearchCV\n",
    "from sklearn.ensemble import RandomForestClassifier\n",
    "from sklearn.impute import SimpleImputer\n",
    "from sklearn.preprocessing import LabelEncoder\n",
    "from sklearn.dummy import DummyClassifier"
   ]
  },
  {
   "cell_type": "code",
   "execution_count": 3,
   "metadata": {},
   "outputs": [
    {
     "output_type": "stream",
     "name": "stderr",
     "text": [
      "D:\\Users\\lynel\\anaconda3\\envs\\PythonAdv\\lib\\site-packages\\IPython\\core\\interactiveshell.py:3072: DtypeWarning: Columns (79,80) have mixed types.Specify dtype option on import or set low_memory=False.\n  interactivity=interactivity, compiler=compiler, result=result)\n"
     ]
    },
    {
     "output_type": "execute_result",
     "data": {
      "text/plain": [
       "           R_fighter         B_fighter  R_odds  B_odds        R_ev  \\\n",
       "0   Alistair Overeem  Alexander Volkov     150    -182  150.000000   \n",
       "1     Cory Sandhagen     Frankie Edgar    -400     300   25.000000   \n",
       "2  Alexandre Pantoja        Manel Kape    -125     100   80.000000   \n",
       "3     Diego Ferreira    Beneil Dariush    -125     105   80.000000   \n",
       "4    Michael Johnson        Clay Guida    -225     175   44.444444   \n",
       "\n",
       "         B_ev      date                location country Winner  ...  \\\n",
       "0   54.945055  2/6/2021  Las Vegas, Nevada, USA     USA   Blue  ...   \n",
       "1  300.000000  2/6/2021  Las Vegas, Nevada, USA     USA    Red  ...   \n",
       "2  100.000000  2/6/2021  Las Vegas, Nevada, USA     USA    Red  ...   \n",
       "3  105.000000  2/6/2021  Las Vegas, Nevada, USA     USA   Blue  ...   \n",
       "4  175.000000  2/6/2021  Las Vegas, Nevada, USA     USA   Blue  ...   \n",
       "\n",
       "   R_td_attempted_bout B_td_attempted_bout R_td_pct_bout  B_td_pct_bout  \\\n",
       "0                  NaN                 NaN           NaN            NaN   \n",
       "1                  NaN                 NaN           NaN            NaN   \n",
       "2                  NaN                 NaN           NaN            NaN   \n",
       "3                  NaN                 NaN           NaN            NaN   \n",
       "4                  NaN                 NaN           NaN            NaN   \n",
       "\n",
       "   R_sub_attempts_bout  B_sub_attempts_bout  R_pass_bout  B_pass_bout  \\\n",
       "0                  NaN                  NaN          NaN          NaN   \n",
       "1                  NaN                  NaN          NaN          NaN   \n",
       "2                  NaN                  NaN          NaN          NaN   \n",
       "3                  NaN                  NaN          NaN          NaN   \n",
       "4                  NaN                  NaN          NaN          NaN   \n",
       "\n",
       "   R_rev_bout  B_rev_bout  \n",
       "0         NaN         NaN  \n",
       "1         NaN         NaN  \n",
       "2         NaN         NaN  \n",
       "3         NaN         NaN  \n",
       "4         NaN         NaN  \n",
       "\n",
       "[5 rows x 137 columns]"
      ],
      "text/html": "<div>\n<style scoped>\n    .dataframe tbody tr th:only-of-type {\n        vertical-align: middle;\n    }\n\n    .dataframe tbody tr th {\n        vertical-align: top;\n    }\n\n    .dataframe thead th {\n        text-align: right;\n    }\n</style>\n<table border=\"1\" class=\"dataframe\">\n  <thead>\n    <tr style=\"text-align: right;\">\n      <th></th>\n      <th>R_fighter</th>\n      <th>B_fighter</th>\n      <th>R_odds</th>\n      <th>B_odds</th>\n      <th>R_ev</th>\n      <th>B_ev</th>\n      <th>date</th>\n      <th>location</th>\n      <th>country</th>\n      <th>Winner</th>\n      <th>...</th>\n      <th>R_td_attempted_bout</th>\n      <th>B_td_attempted_bout</th>\n      <th>R_td_pct_bout</th>\n      <th>B_td_pct_bout</th>\n      <th>R_sub_attempts_bout</th>\n      <th>B_sub_attempts_bout</th>\n      <th>R_pass_bout</th>\n      <th>B_pass_bout</th>\n      <th>R_rev_bout</th>\n      <th>B_rev_bout</th>\n    </tr>\n  </thead>\n  <tbody>\n    <tr>\n      <th>0</th>\n      <td>Alistair Overeem</td>\n      <td>Alexander Volkov</td>\n      <td>150</td>\n      <td>-182</td>\n      <td>150.000000</td>\n      <td>54.945055</td>\n      <td>2/6/2021</td>\n      <td>Las Vegas, Nevada, USA</td>\n      <td>USA</td>\n      <td>Blue</td>\n      <td>...</td>\n      <td>NaN</td>\n      <td>NaN</td>\n      <td>NaN</td>\n      <td>NaN</td>\n      <td>NaN</td>\n      <td>NaN</td>\n      <td>NaN</td>\n      <td>NaN</td>\n      <td>NaN</td>\n      <td>NaN</td>\n    </tr>\n    <tr>\n      <th>1</th>\n      <td>Cory Sandhagen</td>\n      <td>Frankie Edgar</td>\n      <td>-400</td>\n      <td>300</td>\n      <td>25.000000</td>\n      <td>300.000000</td>\n      <td>2/6/2021</td>\n      <td>Las Vegas, Nevada, USA</td>\n      <td>USA</td>\n      <td>Red</td>\n      <td>...</td>\n      <td>NaN</td>\n      <td>NaN</td>\n      <td>NaN</td>\n      <td>NaN</td>\n      <td>NaN</td>\n      <td>NaN</td>\n      <td>NaN</td>\n      <td>NaN</td>\n      <td>NaN</td>\n      <td>NaN</td>\n    </tr>\n    <tr>\n      <th>2</th>\n      <td>Alexandre Pantoja</td>\n      <td>Manel Kape</td>\n      <td>-125</td>\n      <td>100</td>\n      <td>80.000000</td>\n      <td>100.000000</td>\n      <td>2/6/2021</td>\n      <td>Las Vegas, Nevada, USA</td>\n      <td>USA</td>\n      <td>Red</td>\n      <td>...</td>\n      <td>NaN</td>\n      <td>NaN</td>\n      <td>NaN</td>\n      <td>NaN</td>\n      <td>NaN</td>\n      <td>NaN</td>\n      <td>NaN</td>\n      <td>NaN</td>\n      <td>NaN</td>\n      <td>NaN</td>\n    </tr>\n    <tr>\n      <th>3</th>\n      <td>Diego Ferreira</td>\n      <td>Beneil Dariush</td>\n      <td>-125</td>\n      <td>105</td>\n      <td>80.000000</td>\n      <td>105.000000</td>\n      <td>2/6/2021</td>\n      <td>Las Vegas, Nevada, USA</td>\n      <td>USA</td>\n      <td>Blue</td>\n      <td>...</td>\n      <td>NaN</td>\n      <td>NaN</td>\n      <td>NaN</td>\n      <td>NaN</td>\n      <td>NaN</td>\n      <td>NaN</td>\n      <td>NaN</td>\n      <td>NaN</td>\n      <td>NaN</td>\n      <td>NaN</td>\n    </tr>\n    <tr>\n      <th>4</th>\n      <td>Michael Johnson</td>\n      <td>Clay Guida</td>\n      <td>-225</td>\n      <td>175</td>\n      <td>44.444444</td>\n      <td>175.000000</td>\n      <td>2/6/2021</td>\n      <td>Las Vegas, Nevada, USA</td>\n      <td>USA</td>\n      <td>Blue</td>\n      <td>...</td>\n      <td>NaN</td>\n      <td>NaN</td>\n      <td>NaN</td>\n      <td>NaN</td>\n      <td>NaN</td>\n      <td>NaN</td>\n      <td>NaN</td>\n      <td>NaN</td>\n      <td>NaN</td>\n      <td>NaN</td>\n    </tr>\n  </tbody>\n</table>\n<p>5 rows × 137 columns</p>\n</div>"
     },
     "metadata": {},
     "execution_count": 3
    }
   ],
   "source": [
    "df = pd.read_csv('Resources/ufc-master.csv')\n",
    "df.head()"
   ]
  },
  {
   "cell_type": "code",
   "execution_count": 4,
   "metadata": {},
   "outputs": [
    {
     "output_type": "execute_result",
     "data": {
      "text/plain": [
       "(4566, 137)"
      ]
     },
     "metadata": {},
     "execution_count": 4
    }
   ],
   "source": [
    "df.shape"
   ]
  },
  {
   "cell_type": "code",
   "execution_count": 6,
   "metadata": {},
   "outputs": [
    {
     "output_type": "stream",
     "name": "stdout",
     "text": [
      "<class 'pandas.core.frame.DataFrame'>\nRangeIndex: 4566 entries, 0 to 4565\nColumns: 137 entries, R_fighter to B_rev_bout\ndtypes: bool(1), float64(73), int64(47), object(16)\nmemory usage: 4.7+ MB\n"
     ]
    }
   ],
   "source": [
    "df.info()"
   ]
  },
  {
   "cell_type": "code",
   "execution_count": 7,
   "metadata": {},
   "outputs": [
    {
     "output_type": "execute_result",
     "data": {
      "text/plain": [
       "Index(['R_odds', 'B_odds', 'R_ev', 'B_ev', 'title_bout', 'no_of_rounds',\n",
       "       'B_current_lose_streak', 'B_current_win_streak', 'B_draw',\n",
       "       'B_avg_SIG_STR_landed',\n",
       "       ...\n",
       "       'R_td_attempted_bout', 'B_td_attempted_bout', 'R_td_pct_bout',\n",
       "       'B_td_pct_bout', 'R_sub_attempts_bout', 'B_sub_attempts_bout',\n",
       "       'R_pass_bout', 'B_pass_bout', 'R_rev_bout', 'B_rev_bout'],\n",
       "      dtype='object', length=121)"
      ]
     },
     "metadata": {},
     "execution_count": 7
    }
   ],
   "source": [
    "num_col = df._get_numeric_data().columns\n",
    "num_col"
   ]
  },
  {
   "cell_type": "code",
   "execution_count": 8,
   "metadata": {},
   "outputs": [
    {
     "output_type": "execute_result",
     "data": {
      "text/plain": [
       "['R_fighter',\n",
       " 'B_fighter',\n",
       " 'date',\n",
       " 'location',\n",
       " 'country',\n",
       " 'Winner',\n",
       " 'weight_class',\n",
       " 'gender',\n",
       " 'B_Stance',\n",
       " 'R_Stance',\n",
       " 'B_match_weightclass_rank',\n",
       " 'R_match_weightclass_rank',\n",
       " 'better_rank',\n",
       " 'finish',\n",
       " 'finish_details',\n",
       " 'finish_round_time']"
      ]
     },
     "metadata": {},
     "execution_count": 8
    }
   ],
   "source": [
    "cat_col = [col for col in df.columns if col not in num_col]\n",
    "cat_col"
   ]
  },
  {
   "cell_type": "code",
   "execution_count": 27,
   "metadata": {},
   "outputs": [
    {
     "output_type": "execute_result",
     "data": {
      "text/plain": [
       "B_Women's Featherweight_rank    4566\n",
       "R_Women's Featherweight_rank    4553\n",
       "B_Pound-for-Pound_rank          4538\n",
       "B_Women's Flyweight_rank        4532\n",
       "R_Women's Flyweight_rank        4516\n",
       "B_Women's Strawweight_rank      4511\n",
       "B_Women's Bantamweight_rank     4492\n",
       "B_Bantamweight_rank             4486\n",
       "B_Lightweight_rank              4484\n",
       "B_Welterweight_rank             4484\n",
       "B_Featherweight_rank            4482\n",
       "B_Light Heavyweight_rank        4479\n",
       "B_Middleweight_rank             4476\n",
       "B_Flyweight_rank                4476\n",
       "R_Women's Strawweight_rank      4470\n",
       "B_Heavyweight_rank              4464\n",
       "R_Women's Bantamweight_rank     4457\n",
       "R_Middleweight_rank             4445\n",
       "R_Featherweight_rank            4441\n",
       "R_Lightweight_rank              4438\n",
       "R_Bantamweight_rank             4438\n",
       "R_Welterweight_rank             4435\n",
       "R_Light Heavyweight_rank        4434\n",
       "R_Heavyweight_rank              4433\n",
       "R_Flyweight_rank                4432\n",
       "R_Pound-for-Pound_rank          4418\n",
       "R_rev_bout                      1794\n",
       "B_rev_bout                      1794\n",
       "B_td_landed_bout                1794\n",
       "B_sub_attempts_bout             1794\n",
       "B_td_pct_bout                   1794\n",
       "R_td_pct_bout                   1794\n",
       "B_td_attempted_bout             1794\n",
       "R_td_attempted_bout             1794\n",
       "B_pass_bout                     1794\n",
       "R_pass_bout                     1794\n",
       "R_td_landed_bout                1794\n",
       "B_tot_str_attempted_bout        1794\n",
       "R_tot_str_attempted_bout        1794\n",
       "B_tot_str_landed_bout           1794\n",
       "R_tot_str_landed_bout           1794\n",
       "B_sig_str_pct_bout              1794\n",
       "R_sig_str_pct_bout              1794\n",
       "B_sig_str_attempted_bout        1794\n",
       "R_sig_str_attempted_bout        1794\n",
       "B_sig_str_landed_bout           1794\n",
       "R_sig_str_landed_bout           1794\n",
       "B_kd_bout                       1794\n",
       "R_kd_bout                       1794\n",
       "R_sub_attempts_bout             1794\n",
       "B_avg_SIG_STR_landed             930\n",
       "B_avg_TD_pct                     842\n",
       "B_avg_TD_landed                  833\n",
       "B_avg_SUB_ATT                    832\n",
       "B_avg_SIG_STR_pct                765\n",
       "total_fight_time_secs            467\n",
       "finish_round                     467\n",
       "R_avg_SIG_STR_landed             455\n",
       "R_avg_TD_pct                     367\n",
       "R_avg_SIG_STR_pct                357\n",
       "R_avg_TD_landed                  357\n",
       "R_avg_SUB_ATT                    357\n",
       "B_draw                             0\n",
       "B_current_win_streak               0\n",
       "B_odds                             0\n",
       "R_ev                               0\n",
       "R_draw                             0\n",
       "R_current_win_streak               0\n",
       "R_current_lose_streak              0\n",
       "B_Weight_lbs                       0\n",
       "B_Reach_cms                        0\n",
       "B_Height_cms                       0\n",
       "B_wins                             0\n",
       "B_win_by_TKO_Doctor_Stoppage       0\n",
       "B_win_by_Submission                0\n",
       "B_win_by_KO/TKO                    0\n",
       "B_win_by_Decision_Unanimous        0\n",
       "B_win_by_Decision_Split            0\n",
       "B_win_by_Decision_Majority         0\n",
       "B_total_title_bouts                0\n",
       "B_total_rounds_fought              0\n",
       "B_losses                           0\n",
       "B_longest_win_streak               0\n",
       "B_ev                               0\n",
       "title_bout                         0\n",
       "no_of_rounds                       0\n",
       "B_current_lose_streak              0\n",
       "sub_dif                            0\n",
       "R_longest_win_streak               0\n",
       "win_streak_dif                     0\n",
       "constant_1                         0\n",
       "empty_arena                        0\n",
       "avg_td_dif                         0\n",
       "avg_sub_att_dif                    0\n",
       "sig_str_dif                        0\n",
       "age_dif                            0\n",
       "reach_dif                          0\n",
       "height_dif                         0\n",
       "ko_dif                             0\n",
       "total_title_bout_dif               0\n",
       "total_round_dif                    0\n",
       "loss_dif                           0\n",
       "win_dif                            0\n",
       "longest_win_streak_dif             0\n",
       "lose_streak_dif                    0\n",
       "R_losses                           0\n",
       "B_age                              0\n",
       "R_age                              0\n",
       "R_Weight_lbs                       0\n",
       "R_Reach_cms                        0\n",
       "R_Height_cms                       0\n",
       "R_wins                             0\n",
       "R_win_by_TKO_Doctor_Stoppage       0\n",
       "R_win_by_Submission                0\n",
       "R_win_by_KO/TKO                    0\n",
       "R_win_by_Decision_Unanimous        0\n",
       "R_win_by_Decision_Split            0\n",
       "R_win_by_Decision_Majority         0\n",
       "R_total_title_bouts                0\n",
       "R_total_rounds_fought              0\n",
       "R_odds                             0\n",
       "dtype: int64"
      ]
     },
     "metadata": {},
     "execution_count": 27
    }
   ],
   "source": [
    "pd.set_option('display.max_rows', None)\n",
    "df[num_col].isnull().sum().sort_values(ascending=False)"
   ]
  },
  {
   "cell_type": "code",
   "execution_count": 25,
   "metadata": {},
   "outputs": [
    {
     "output_type": "execute_result",
     "data": {
      "text/plain": [
       "B_match_weightclass_rank    3754\n",
       "R_match_weightclass_rank    3333\n",
       "finish_details              2542\n",
       "finish_round_time            467\n",
       "finish                       448\n",
       "better_rank                   10\n",
       "R_Stance                       0\n",
       "B_Stance                       0\n",
       "gender                         0\n",
       "weight_class                   0\n",
       "Winner                         0\n",
       "country                        0\n",
       "location                       0\n",
       "date                           0\n",
       "B_fighter                      0\n",
       "R_fighter                      0\n",
       "dtype: int64"
      ]
     },
     "metadata": {},
     "execution_count": 25
    }
   ],
   "source": [
    "df[cat_col].isnull().sum().sort_values(ascending=False)"
   ]
  },
  {
   "cell_type": "code",
   "execution_count": null,
   "metadata": {},
   "outputs": [],
   "source": []
  }
 ]
}