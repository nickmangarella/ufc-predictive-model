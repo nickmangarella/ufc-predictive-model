{
 "cells": [
  {
   "cell_type": "code",
   "execution_count": 1,
   "metadata": {},
   "outputs": [],
   "source": [
    "%matplotlib inline\n",
    "import matplotlib.pyplot as plt\n",
    "import pandas as pd\n",
    "import os"
   ]
  },
  {
   "cell_type": "code",
   "execution_count": 2,
   "metadata": {},
   "outputs": [
    {
     "name": "stderr",
     "output_type": "stream",
     "text": [
      "D:\\Users\\lynel\\anaconda3\\envs\\PythonAdv\\lib\\site-packages\\IPython\\core\\interactiveshell.py:3072: DtypeWarning: Columns (79,80) have mixed types.Specify dtype option on import or set low_memory=False.\n",
      "  interactivity=interactivity, compiler=compiler, result=result)\n"
     ]
    },
    {
     "data": {
      "text/html": [
       "<div>\n",
       "<style scoped>\n",
       "    .dataframe tbody tr th:only-of-type {\n",
       "        vertical-align: middle;\n",
       "    }\n",
       "\n",
       "    .dataframe tbody tr th {\n",
       "        vertical-align: top;\n",
       "    }\n",
       "\n",
       "    .dataframe thead th {\n",
       "        text-align: right;\n",
       "    }\n",
       "</style>\n",
       "<table border=\"1\" class=\"dataframe\">\n",
       "  <thead>\n",
       "    <tr style=\"text-align: right;\">\n",
       "      <th></th>\n",
       "      <th>R_fighter</th>\n",
       "      <th>B_fighter</th>\n",
       "      <th>R_odds</th>\n",
       "      <th>B_odds</th>\n",
       "      <th>R_ev</th>\n",
       "      <th>B_ev</th>\n",
       "      <th>date</th>\n",
       "      <th>location</th>\n",
       "      <th>country</th>\n",
       "      <th>Winner</th>\n",
       "      <th>...</th>\n",
       "      <th>R_td_attempted_bout</th>\n",
       "      <th>B_td_attempted_bout</th>\n",
       "      <th>R_td_pct_bout</th>\n",
       "      <th>B_td_pct_bout</th>\n",
       "      <th>R_sub_attempts_bout</th>\n",
       "      <th>B_sub_attempts_bout</th>\n",
       "      <th>R_pass_bout</th>\n",
       "      <th>B_pass_bout</th>\n",
       "      <th>R_rev_bout</th>\n",
       "      <th>B_rev_bout</th>\n",
       "    </tr>\n",
       "  </thead>\n",
       "  <tbody>\n",
       "    <tr>\n",
       "      <th>0</th>\n",
       "      <td>Alistair Overeem</td>\n",
       "      <td>Alexander Volkov</td>\n",
       "      <td>150</td>\n",
       "      <td>-182</td>\n",
       "      <td>150.000000</td>\n",
       "      <td>54.945055</td>\n",
       "      <td>2/6/2021</td>\n",
       "      <td>Las Vegas, Nevada, USA</td>\n",
       "      <td>USA</td>\n",
       "      <td>Blue</td>\n",
       "      <td>...</td>\n",
       "      <td>3.107143</td>\n",
       "      <td>2.768759</td>\n",
       "      <td>0.293701</td>\n",
       "      <td>0.243701</td>\n",
       "      <td>0.403319</td>\n",
       "      <td>0.33189</td>\n",
       "      <td>1.245671</td>\n",
       "      <td>0.920274</td>\n",
       "      <td>0.137807</td>\n",
       "      <td>0.138889</td>\n",
       "    </tr>\n",
       "    <tr>\n",
       "      <th>1</th>\n",
       "      <td>Cory Sandhagen</td>\n",
       "      <td>Frankie Edgar</td>\n",
       "      <td>-400</td>\n",
       "      <td>300</td>\n",
       "      <td>25.000000</td>\n",
       "      <td>300.000000</td>\n",
       "      <td>2/6/2021</td>\n",
       "      <td>Las Vegas, Nevada, USA</td>\n",
       "      <td>USA</td>\n",
       "      <td>Red</td>\n",
       "      <td>...</td>\n",
       "      <td>3.107143</td>\n",
       "      <td>2.768759</td>\n",
       "      <td>0.293701</td>\n",
       "      <td>0.243701</td>\n",
       "      <td>0.403319</td>\n",
       "      <td>0.33189</td>\n",
       "      <td>1.245671</td>\n",
       "      <td>0.920274</td>\n",
       "      <td>0.137807</td>\n",
       "      <td>0.138889</td>\n",
       "    </tr>\n",
       "    <tr>\n",
       "      <th>2</th>\n",
       "      <td>Alexandre Pantoja</td>\n",
       "      <td>Manel Kape</td>\n",
       "      <td>-125</td>\n",
       "      <td>100</td>\n",
       "      <td>80.000000</td>\n",
       "      <td>100.000000</td>\n",
       "      <td>2/6/2021</td>\n",
       "      <td>Las Vegas, Nevada, USA</td>\n",
       "      <td>USA</td>\n",
       "      <td>Red</td>\n",
       "      <td>...</td>\n",
       "      <td>3.107143</td>\n",
       "      <td>2.768759</td>\n",
       "      <td>0.293701</td>\n",
       "      <td>0.243701</td>\n",
       "      <td>0.403319</td>\n",
       "      <td>0.33189</td>\n",
       "      <td>1.245671</td>\n",
       "      <td>0.920274</td>\n",
       "      <td>0.137807</td>\n",
       "      <td>0.138889</td>\n",
       "    </tr>\n",
       "    <tr>\n",
       "      <th>3</th>\n",
       "      <td>Diego Ferreira</td>\n",
       "      <td>Beneil Dariush</td>\n",
       "      <td>-125</td>\n",
       "      <td>105</td>\n",
       "      <td>80.000000</td>\n",
       "      <td>105.000000</td>\n",
       "      <td>2/6/2021</td>\n",
       "      <td>Las Vegas, Nevada, USA</td>\n",
       "      <td>USA</td>\n",
       "      <td>Blue</td>\n",
       "      <td>...</td>\n",
       "      <td>3.107143</td>\n",
       "      <td>2.768759</td>\n",
       "      <td>0.293701</td>\n",
       "      <td>0.243701</td>\n",
       "      <td>0.403319</td>\n",
       "      <td>0.33189</td>\n",
       "      <td>1.245671</td>\n",
       "      <td>0.920274</td>\n",
       "      <td>0.137807</td>\n",
       "      <td>0.138889</td>\n",
       "    </tr>\n",
       "    <tr>\n",
       "      <th>4</th>\n",
       "      <td>Michael Johnson</td>\n",
       "      <td>Clay Guida</td>\n",
       "      <td>-225</td>\n",
       "      <td>175</td>\n",
       "      <td>44.444444</td>\n",
       "      <td>175.000000</td>\n",
       "      <td>2/6/2021</td>\n",
       "      <td>Las Vegas, Nevada, USA</td>\n",
       "      <td>USA</td>\n",
       "      <td>Blue</td>\n",
       "      <td>...</td>\n",
       "      <td>3.107143</td>\n",
       "      <td>2.768759</td>\n",
       "      <td>0.293701</td>\n",
       "      <td>0.243701</td>\n",
       "      <td>0.403319</td>\n",
       "      <td>0.33189</td>\n",
       "      <td>1.245671</td>\n",
       "      <td>0.920274</td>\n",
       "      <td>0.137807</td>\n",
       "      <td>0.138889</td>\n",
       "    </tr>\n",
       "  </tbody>\n",
       "</table>\n",
       "<p>5 rows × 137 columns</p>\n",
       "</div>"
      ],
      "text/plain": [
       "           R_fighter         B_fighter  R_odds  B_odds        R_ev  \\\n",
       "0   Alistair Overeem  Alexander Volkov     150    -182  150.000000   \n",
       "1     Cory Sandhagen     Frankie Edgar    -400     300   25.000000   \n",
       "2  Alexandre Pantoja        Manel Kape    -125     100   80.000000   \n",
       "3     Diego Ferreira    Beneil Dariush    -125     105   80.000000   \n",
       "4    Michael Johnson        Clay Guida    -225     175   44.444444   \n",
       "\n",
       "         B_ev      date                location country Winner  ...  \\\n",
       "0   54.945055  2/6/2021  Las Vegas, Nevada, USA     USA   Blue  ...   \n",
       "1  300.000000  2/6/2021  Las Vegas, Nevada, USA     USA    Red  ...   \n",
       "2  100.000000  2/6/2021  Las Vegas, Nevada, USA     USA    Red  ...   \n",
       "3  105.000000  2/6/2021  Las Vegas, Nevada, USA     USA   Blue  ...   \n",
       "4  175.000000  2/6/2021  Las Vegas, Nevada, USA     USA   Blue  ...   \n",
       "\n",
       "   R_td_attempted_bout B_td_attempted_bout R_td_pct_bout  B_td_pct_bout  \\\n",
       "0             3.107143            2.768759      0.293701       0.243701   \n",
       "1             3.107143            2.768759      0.293701       0.243701   \n",
       "2             3.107143            2.768759      0.293701       0.243701   \n",
       "3             3.107143            2.768759      0.293701       0.243701   \n",
       "4             3.107143            2.768759      0.293701       0.243701   \n",
       "\n",
       "   R_sub_attempts_bout  B_sub_attempts_bout  R_pass_bout  B_pass_bout  \\\n",
       "0             0.403319              0.33189     1.245671     0.920274   \n",
       "1             0.403319              0.33189     1.245671     0.920274   \n",
       "2             0.403319              0.33189     1.245671     0.920274   \n",
       "3             0.403319              0.33189     1.245671     0.920274   \n",
       "4             0.403319              0.33189     1.245671     0.920274   \n",
       "\n",
       "   R_rev_bout  B_rev_bout  \n",
       "0    0.137807    0.138889  \n",
       "1    0.137807    0.138889  \n",
       "2    0.137807    0.138889  \n",
       "3    0.137807    0.138889  \n",
       "4    0.137807    0.138889  \n",
       "\n",
       "[5 rows x 137 columns]"
      ]
     },
     "execution_count": 2,
     "metadata": {},
     "output_type": "execute_result"
    }
   ],
   "source": [
    "# import CSV\n",
    "df = pd.read_csv(os.path.join(\"Resources\", \"ufc-master.csv\"))\n",
    "df = df.fillna(df.mean())\n",
    "\n",
    "df.head()"
   ]
  },
  {
   "cell_type": "code",
   "execution_count": 3,
   "metadata": {},
   "outputs": [
    {
     "name": "stdout",
     "output_type": "stream",
     "text": [
      "(4566, 38) (4566,)\n"
     ]
    }
   ],
   "source": [
    "# Assign X (data) and y (target)\n",
    "\n",
    "X = df[['B_ev','R_odds','R_ev','B_odds','B_kd_bout','R_tot_str_landed_bout', 'R_sig_str_pct_bout','B_tot_str_landed_bout', 'B_pass_bout',  'B_sig_str_landed_bout', 'B_sig_str_pct_bout', 'R_kd_bout','R_pass_bout','R_fighter',  'R_sig_str_landed_bout', 'date', 'R_tot_str_attempted_bout',  'B_fighter',  'R_avg_SIG_STR_pct', 'B_td_pct_bout',  'R_avg_TD_pct', 'sig_str_dif','R_avg_TD_landed', 'B_avg_SIG_STR_pct','B_avg_SIG_STR_landed' , 'age_dif', 'B_tot_str_attempted_bout','R_avg_SIG_STR_landed','avg_td_dif','location','B_age','B_td_landed_bout','R_age',  'reach_dif',  'total_round_dif', 'B_avg_TD_landed','B_sig_str_attempted_bout', 'R_sig_str_attempted_bout']]\n",
    "\n",
    "y = df[\"Winner\"]\n",
    "\n",
    "print(X.shape, y.shape)\n"
   ]
  },
  {
   "cell_type": "code",
   "execution_count": 4,
   "metadata": {},
   "outputs": [
    {
     "name": "stderr",
     "output_type": "stream",
     "text": [
      "D:\\Users\\lynel\\anaconda3\\envs\\PythonAdv\\lib\\site-packages\\ipykernel_launcher.py:9: SettingWithCopyWarning: \n",
      "A value is trying to be set on a copy of a slice from a DataFrame.\n",
      "Try using .loc[row_indexer,col_indexer] = value instead\n",
      "\n",
      "See the caveats in the documentation: https://pandas.pydata.org/pandas-docs/stable/user_guide/indexing.html#returning-a-view-versus-a-copy\n",
      "  if __name__ == '__main__':\n"
     ]
    }
   ],
   "source": [
    "from sklearn.preprocessing import LabelEncoder\n",
    "\n",
    "label_encoder = LabelEncoder()\n",
    "non_numeric = [i for i in X.columns if X[i].dtypes == 'object']\n",
    "label_encoder.fit(y)\n",
    "encoded_y = label_encoder.transform(y)\n",
    "\n",
    "for i in X[non_numeric]:\n",
    "    X[i] = label_encoder.fit_transform(X[i].astype(str))"
   ]
  },
  {
   "cell_type": "code",
   "execution_count": 5,
   "metadata": {},
   "outputs": [],
   "source": [
    "from sklearn.model_selection import train_test_split\n",
    "\n",
    "X_train, X_test, y_train, y_test = train_test_split(X, y, random_state=1)"
   ]
  },
  {
   "cell_type": "code",
   "execution_count": 6,
   "metadata": {},
   "outputs": [
    {
     "data": {
      "text/plain": [
       "LogisticRegression(max_iter=1000)"
      ]
     },
     "execution_count": 6,
     "metadata": {},
     "output_type": "execute_result"
    }
   ],
   "source": [
    "from sklearn.linear_model import LogisticRegression\n",
    "classifier = LogisticRegression(max_iter=1000)\n",
    "classifier"
   ]
  },
  {
   "cell_type": "code",
   "execution_count": 7,
   "metadata": {},
   "outputs": [
    {
     "name": "stderr",
     "output_type": "stream",
     "text": [
      "D:\\Users\\lynel\\anaconda3\\envs\\PythonAdv\\lib\\site-packages\\sklearn\\linear_model\\_logistic.py:765: ConvergenceWarning: lbfgs failed to converge (status=1):\n",
      "STOP: TOTAL NO. of ITERATIONS REACHED LIMIT.\n",
      "\n",
      "Increase the number of iterations (max_iter) or scale the data as shown in:\n",
      "    https://scikit-learn.org/stable/modules/preprocessing.html\n",
      "Please also refer to the documentation for alternative solver options:\n",
      "    https://scikit-learn.org/stable/modules/linear_model.html#logistic-regression\n",
      "  extra_warning_msg=_LOGISTIC_SOLVER_CONVERGENCE_MSG)\n"
     ]
    },
    {
     "data": {
      "text/plain": [
       "LogisticRegression(max_iter=1000)"
      ]
     },
     "execution_count": 7,
     "metadata": {},
     "output_type": "execute_result"
    }
   ],
   "source": [
    "classifier.fit(X_train, y_train)"
   ]
  },
  {
   "cell_type": "code",
   "execution_count": 8,
   "metadata": {},
   "outputs": [
    {
     "name": "stdout",
     "output_type": "stream",
     "text": [
      "Training Data Score: 0.773072429906542\n",
      "Testing Data Score: 0.7723292469352014\n"
     ]
    }
   ],
   "source": [
    "print(f\"Training Data Score: {classifier.score(X_train, y_train)}\")\n",
    "print(f\"Testing Data Score: {classifier.score(X_test, y_test)}\")"
   ]
  },
  {
   "cell_type": "code",
   "execution_count": 9,
   "metadata": {},
   "outputs": [
    {
     "name": "stdout",
     "output_type": "stream",
     "text": [
      "First 10 Predictions:   ['Blue' 'Blue' 'Red' 'Blue' 'Blue' 'Red' 'Blue' 'Blue' 'Blue' 'Red']\n",
      "First 10 Actual labels: ['Blue', 'Blue', 'Red', 'Blue', 'Blue', 'Blue', 'Blue', 'Red', 'Blue', 'Blue']\n"
     ]
    }
   ],
   "source": [
    "predictions = classifier.predict(X_test)\n",
    "print(f\"First 10 Predictions:   {predictions[:10]}\")\n",
    "print(f\"First 10 Actual labels: {y_test[:10].tolist()}\")"
   ]
  },
  {
   "cell_type": "code",
   "execution_count": 10,
   "metadata": {},
   "outputs": [
    {
     "data": {
      "text/html": [
       "<div>\n",
       "<style scoped>\n",
       "    .dataframe tbody tr th:only-of-type {\n",
       "        vertical-align: middle;\n",
       "    }\n",
       "\n",
       "    .dataframe tbody tr th {\n",
       "        vertical-align: top;\n",
       "    }\n",
       "\n",
       "    .dataframe thead th {\n",
       "        text-align: right;\n",
       "    }\n",
       "</style>\n",
       "<table border=\"1\" class=\"dataframe\">\n",
       "  <thead>\n",
       "    <tr style=\"text-align: right;\">\n",
       "      <th></th>\n",
       "      <th>Prediction</th>\n",
       "      <th>Actual</th>\n",
       "    </tr>\n",
       "  </thead>\n",
       "  <tbody>\n",
       "    <tr>\n",
       "      <th>0</th>\n",
       "      <td>Blue</td>\n",
       "      <td>Blue</td>\n",
       "    </tr>\n",
       "    <tr>\n",
       "      <th>1</th>\n",
       "      <td>Blue</td>\n",
       "      <td>Blue</td>\n",
       "    </tr>\n",
       "    <tr>\n",
       "      <th>2</th>\n",
       "      <td>Red</td>\n",
       "      <td>Red</td>\n",
       "    </tr>\n",
       "    <tr>\n",
       "      <th>3</th>\n",
       "      <td>Blue</td>\n",
       "      <td>Blue</td>\n",
       "    </tr>\n",
       "    <tr>\n",
       "      <th>4</th>\n",
       "      <td>Blue</td>\n",
       "      <td>Blue</td>\n",
       "    </tr>\n",
       "    <tr>\n",
       "      <th>...</th>\n",
       "      <td>...</td>\n",
       "      <td>...</td>\n",
       "    </tr>\n",
       "    <tr>\n",
       "      <th>1137</th>\n",
       "      <td>Red</td>\n",
       "      <td>Red</td>\n",
       "    </tr>\n",
       "    <tr>\n",
       "      <th>1138</th>\n",
       "      <td>Blue</td>\n",
       "      <td>Red</td>\n",
       "    </tr>\n",
       "    <tr>\n",
       "      <th>1139</th>\n",
       "      <td>Blue</td>\n",
       "      <td>Blue</td>\n",
       "    </tr>\n",
       "    <tr>\n",
       "      <th>1140</th>\n",
       "      <td>Blue</td>\n",
       "      <td>Blue</td>\n",
       "    </tr>\n",
       "    <tr>\n",
       "      <th>1141</th>\n",
       "      <td>Red</td>\n",
       "      <td>Red</td>\n",
       "    </tr>\n",
       "  </tbody>\n",
       "</table>\n",
       "<p>1142 rows × 2 columns</p>\n",
       "</div>"
      ],
      "text/plain": [
       "     Prediction Actual\n",
       "0          Blue   Blue\n",
       "1          Blue   Blue\n",
       "2           Red    Red\n",
       "3          Blue   Blue\n",
       "4          Blue   Blue\n",
       "...         ...    ...\n",
       "1137        Red    Red\n",
       "1138       Blue    Red\n",
       "1139       Blue   Blue\n",
       "1140       Blue   Blue\n",
       "1141        Red    Red\n",
       "\n",
       "[1142 rows x 2 columns]"
      ]
     },
     "execution_count": 10,
     "metadata": {},
     "output_type": "execute_result"
    }
   ],
   "source": [
    "pd.DataFrame({\"Prediction\": predictions, \"Actual\": y_test}).reset_index(drop=True)"
   ]
  }
 ],
 "metadata": {
  "kernelspec": {
   "display_name": "Python [conda env:PythonAdv] *",
   "language": "python",
   "name": "conda-env-PythonAdv-py"
  },
  "language_info": {
   "codemirror_mode": {
    "name": "ipython",
    "version": 3
   },
   "file_extension": ".py",
   "mimetype": "text/x-python",
   "name": "python",
   "nbconvert_exporter": "python",
   "pygments_lexer": "ipython3",
   "version": "3.6.13"
  }
 },
 "nbformat": 4,
 "nbformat_minor": 2
}
