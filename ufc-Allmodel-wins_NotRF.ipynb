{
 "cells": [
  {
   "cell_type": "code",
   "execution_count": 1,
   "metadata": {},
   "outputs": [],
   "source": [
    "%matplotlib inline\n",
    "import matplotlib.pyplot as plt\n",
    "import pandas as pd\n",
    "import os"
   ]
  },
  {
   "cell_type": "code",
   "execution_count": 2,
   "metadata": {},
   "outputs": [
    {
     "output_type": "stream",
     "name": "stderr",
     "text": [
      "D:\\Users\\lynel\\anaconda3\\envs\\PythonAdv\\lib\\site-packages\\IPython\\core\\interactiveshell.py:3072: DtypeWarning: Columns (79,80) have mixed types.Specify dtype option on import or set low_memory=False.\n  interactivity=interactivity, compiler=compiler, result=result)\n"
     ]
    },
    {
     "output_type": "execute_result",
     "data": {
      "text/plain": [
       "           R_fighter         B_fighter  R_odds  B_odds        R_ev  \\\n",
       "0   Alistair Overeem  Alexander Volkov     150    -182  150.000000   \n",
       "1     Cory Sandhagen     Frankie Edgar    -400     300   25.000000   \n",
       "2  Alexandre Pantoja        Manel Kape    -125     100   80.000000   \n",
       "3     Diego Ferreira    Beneil Dariush    -125     105   80.000000   \n",
       "4    Michael Johnson        Clay Guida    -225     175   44.444444   \n",
       "\n",
       "         B_ev      date                location country Winner  ...  \\\n",
       "0   54.945055  2/6/2021  Las Vegas, Nevada, USA     USA   Blue  ...   \n",
       "1  300.000000  2/6/2021  Las Vegas, Nevada, USA     USA    Red  ...   \n",
       "2  100.000000  2/6/2021  Las Vegas, Nevada, USA     USA    Red  ...   \n",
       "3  105.000000  2/6/2021  Las Vegas, Nevada, USA     USA   Blue  ...   \n",
       "4  175.000000  2/6/2021  Las Vegas, Nevada, USA     USA   Blue  ...   \n",
       "\n",
       "   R_td_attempted_bout B_td_attempted_bout R_td_pct_bout  B_td_pct_bout  \\\n",
       "0             3.107143            2.768759      0.293701       0.243701   \n",
       "1             3.107143            2.768759      0.293701       0.243701   \n",
       "2             3.107143            2.768759      0.293701       0.243701   \n",
       "3             3.107143            2.768759      0.293701       0.243701   \n",
       "4             3.107143            2.768759      0.293701       0.243701   \n",
       "\n",
       "   R_sub_attempts_bout  B_sub_attempts_bout  R_pass_bout  B_pass_bout  \\\n",
       "0             0.403319              0.33189     1.245671     0.920274   \n",
       "1             0.403319              0.33189     1.245671     0.920274   \n",
       "2             0.403319              0.33189     1.245671     0.920274   \n",
       "3             0.403319              0.33189     1.245671     0.920274   \n",
       "4             0.403319              0.33189     1.245671     0.920274   \n",
       "\n",
       "   R_rev_bout  B_rev_bout  \n",
       "0    0.137807    0.138889  \n",
       "1    0.137807    0.138889  \n",
       "2    0.137807    0.138889  \n",
       "3    0.137807    0.138889  \n",
       "4    0.137807    0.138889  \n",
       "\n",
       "[5 rows x 137 columns]"
      ],
      "text/html": "<div>\n<style scoped>\n    .dataframe tbody tr th:only-of-type {\n        vertical-align: middle;\n    }\n\n    .dataframe tbody tr th {\n        vertical-align: top;\n    }\n\n    .dataframe thead th {\n        text-align: right;\n    }\n</style>\n<table border=\"1\" class=\"dataframe\">\n  <thead>\n    <tr style=\"text-align: right;\">\n      <th></th>\n      <th>R_fighter</th>\n      <th>B_fighter</th>\n      <th>R_odds</th>\n      <th>B_odds</th>\n      <th>R_ev</th>\n      <th>B_ev</th>\n      <th>date</th>\n      <th>location</th>\n      <th>country</th>\n      <th>Winner</th>\n      <th>...</th>\n      <th>R_td_attempted_bout</th>\n      <th>B_td_attempted_bout</th>\n      <th>R_td_pct_bout</th>\n      <th>B_td_pct_bout</th>\n      <th>R_sub_attempts_bout</th>\n      <th>B_sub_attempts_bout</th>\n      <th>R_pass_bout</th>\n      <th>B_pass_bout</th>\n      <th>R_rev_bout</th>\n      <th>B_rev_bout</th>\n    </tr>\n  </thead>\n  <tbody>\n    <tr>\n      <th>0</th>\n      <td>Alistair Overeem</td>\n      <td>Alexander Volkov</td>\n      <td>150</td>\n      <td>-182</td>\n      <td>150.000000</td>\n      <td>54.945055</td>\n      <td>2/6/2021</td>\n      <td>Las Vegas, Nevada, USA</td>\n      <td>USA</td>\n      <td>Blue</td>\n      <td>...</td>\n      <td>3.107143</td>\n      <td>2.768759</td>\n      <td>0.293701</td>\n      <td>0.243701</td>\n      <td>0.403319</td>\n      <td>0.33189</td>\n      <td>1.245671</td>\n      <td>0.920274</td>\n      <td>0.137807</td>\n      <td>0.138889</td>\n    </tr>\n    <tr>\n      <th>1</th>\n      <td>Cory Sandhagen</td>\n      <td>Frankie Edgar</td>\n      <td>-400</td>\n      <td>300</td>\n      <td>25.000000</td>\n      <td>300.000000</td>\n      <td>2/6/2021</td>\n      <td>Las Vegas, Nevada, USA</td>\n      <td>USA</td>\n      <td>Red</td>\n      <td>...</td>\n      <td>3.107143</td>\n      <td>2.768759</td>\n      <td>0.293701</td>\n      <td>0.243701</td>\n      <td>0.403319</td>\n      <td>0.33189</td>\n      <td>1.245671</td>\n      <td>0.920274</td>\n      <td>0.137807</td>\n      <td>0.138889</td>\n    </tr>\n    <tr>\n      <th>2</th>\n      <td>Alexandre Pantoja</td>\n      <td>Manel Kape</td>\n      <td>-125</td>\n      <td>100</td>\n      <td>80.000000</td>\n      <td>100.000000</td>\n      <td>2/6/2021</td>\n      <td>Las Vegas, Nevada, USA</td>\n      <td>USA</td>\n      <td>Red</td>\n      <td>...</td>\n      <td>3.107143</td>\n      <td>2.768759</td>\n      <td>0.293701</td>\n      <td>0.243701</td>\n      <td>0.403319</td>\n      <td>0.33189</td>\n      <td>1.245671</td>\n      <td>0.920274</td>\n      <td>0.137807</td>\n      <td>0.138889</td>\n    </tr>\n    <tr>\n      <th>3</th>\n      <td>Diego Ferreira</td>\n      <td>Beneil Dariush</td>\n      <td>-125</td>\n      <td>105</td>\n      <td>80.000000</td>\n      <td>105.000000</td>\n      <td>2/6/2021</td>\n      <td>Las Vegas, Nevada, USA</td>\n      <td>USA</td>\n      <td>Blue</td>\n      <td>...</td>\n      <td>3.107143</td>\n      <td>2.768759</td>\n      <td>0.293701</td>\n      <td>0.243701</td>\n      <td>0.403319</td>\n      <td>0.33189</td>\n      <td>1.245671</td>\n      <td>0.920274</td>\n      <td>0.137807</td>\n      <td>0.138889</td>\n    </tr>\n    <tr>\n      <th>4</th>\n      <td>Michael Johnson</td>\n      <td>Clay Guida</td>\n      <td>-225</td>\n      <td>175</td>\n      <td>44.444444</td>\n      <td>175.000000</td>\n      <td>2/6/2021</td>\n      <td>Las Vegas, Nevada, USA</td>\n      <td>USA</td>\n      <td>Blue</td>\n      <td>...</td>\n      <td>3.107143</td>\n      <td>2.768759</td>\n      <td>0.293701</td>\n      <td>0.243701</td>\n      <td>0.403319</td>\n      <td>0.33189</td>\n      <td>1.245671</td>\n      <td>0.920274</td>\n      <td>0.137807</td>\n      <td>0.138889</td>\n    </tr>\n  </tbody>\n</table>\n<p>5 rows × 137 columns</p>\n</div>"
     },
     "metadata": {},
     "execution_count": 2
    }
   ],
   "source": [
    "# import CSV\n",
    "df = pd.read_csv(os.path.join(\"Resources\", \"ufc-master.csv\"))\n",
    "df = df.fillna(df.mean())\n",
    "\n",
    "df.head()"
   ]
  },
  {
   "cell_type": "code",
   "execution_count": 3,
   "metadata": {},
   "outputs": [
    {
     "output_type": "stream",
     "name": "stdout",
     "text": [
      "(4566, 33) (4566,)\n"
     ]
    }
   ],
   "source": [
    "# Assign X (data) and y (target)\n",
    "\n",
    "X = df[['B_fighter', 'R_fighter', 'B_age','R_age', 'age_dif', 'B_Height_cms', 'R_Height_cms', 'height_dif', 'B_Reach_cms', 'R_Reach_cms', 'reach_dif', 'B_sig_str_attempted_bout', 'R_sig_str_attempted_bout', 'sig_str_dif', 'B_sig_str_landed_bout', 'R_sig_str_landed_bout', 'B_sub_attempts_bout', 'R_sub_attempts_bout', 'sub_dif', 'B_td_attempted_bout', 'R_td_attempted_bout', 'B_td_landed_bout', 'R_td_landed_bout', 'B_tot_str_attempted_bout', 'R_tot_str_attempted_bout', 'B_tot_str_landed_bout', 'R_tot_str_landed_bout', 'B_kd_bout', 'R_kd_bout', 'B_avg_SIG_STR_landed', 'R_avg_SIG_STR_landed', 'B_avg_TD_landed','R_avg_TD_landed']]\n",
    "\n",
    "y = df[\"Winner\"]\n",
    "\n",
    "print(X.shape, y.shape)\n"
   ]
  },
  {
   "cell_type": "code",
   "execution_count": 4,
   "metadata": {},
   "outputs": [
    {
     "output_type": "stream",
     "name": "stderr",
     "text": [
      "D:\\Users\\lynel\\anaconda3\\envs\\PythonAdv\\lib\\site-packages\\ipykernel_launcher.py:9: SettingWithCopyWarning: \nA value is trying to be set on a copy of a slice from a DataFrame.\nTry using .loc[row_indexer,col_indexer] = value instead\n\nSee the caveats in the documentation: https://pandas.pydata.org/pandas-docs/stable/user_guide/indexing.html#returning-a-view-versus-a-copy\n  if __name__ == '__main__':\n"
     ]
    }
   ],
   "source": [
    "from sklearn.preprocessing import LabelEncoder\n",
    "\n",
    "label_encoder = LabelEncoder()\n",
    "non_numeric = [i for i in X.columns if X[i].dtypes == 'object']\n",
    "label_encoder.fit(y)\n",
    "encoded_y = label_encoder.transform(y)\n",
    "\n",
    "for i in X[non_numeric]:\n",
    "    X[i] = label_encoder.fit_transform(X[i].astype(str))"
   ]
  },
  {
   "cell_type": "code",
   "execution_count": 5,
   "metadata": {},
   "outputs": [],
   "source": [
    "from sklearn.model_selection import train_test_split\n",
    "\n",
    "X_train, X_test, y_train, y_test = train_test_split(X, encoded_y, random_state=1)"
   ]
  },
  {
   "cell_type": "markdown",
   "metadata": {},
   "source": [
    "## Random Forest Model"
   ]
  },
  {
   "cell_type": "code",
   "execution_count": 6,
   "metadata": {},
   "outputs": [],
   "source": [
    "from sklearn.ensemble import RandomForestClassifier\n",
    "rfc = RandomForestClassifier(n_estimators=200)"
   ]
  },
  {
   "cell_type": "code",
   "execution_count": 7,
   "metadata": {},
   "outputs": [],
   "source": [
    "rfc.fit(X_train, y_train)\n",
    "\n",
    "pred_rfc = rfc.predict(X_test)"
   ]
  },
  {
   "cell_type": "code",
   "execution_count": 8,
   "metadata": {},
   "outputs": [
    {
     "output_type": "stream",
     "name": "stdout",
     "text": [
      "0.7565674255691769\n"
     ]
    }
   ],
   "source": [
    "from sklearn.metrics import accuracy_score\n",
    "print(accuracy_score(y_test, pred_rfc))"
   ]
  },
  {
   "cell_type": "code",
   "execution_count": 9,
   "metadata": {},
   "outputs": [
    {
     "output_type": "stream",
     "name": "stdout",
     "text": [
      "              precision    recall  f1-score   support\n\n           0       0.75      0.62      0.68       471\n           1       0.76      0.85      0.80       671\n\n    accuracy                           0.76      1142\n   macro avg       0.75      0.74      0.74      1142\nweighted avg       0.76      0.76      0.75      1142\n\n[[291 180]\n [ 98 573]]\n"
     ]
    }
   ],
   "source": [
    "from sklearn.metrics import confusion_matrix, classification_report\n",
    "print(classification_report(y_test, pred_rfc)) # returns precision recall f1-score and support\n",
    "print(confusion_matrix(y_test, pred_rfc)) # returns the exact number of TN FP FN TP"
   ]
  },
  {
   "cell_type": "markdown",
   "metadata": {},
   "source": [
    "## Logistic Regression Model"
   ]
  },
  {
   "cell_type": "code",
   "execution_count": 10,
   "metadata": {},
   "outputs": [
    {
     "output_type": "execute_result",
     "data": {
      "text/plain": [
       "LogisticRegression(max_iter=1000)"
      ]
     },
     "metadata": {},
     "execution_count": 10
    }
   ],
   "source": [
    "from sklearn.linear_model import LogisticRegression\n",
    "logr_classifier = LogisticRegression(max_iter=1000)\n",
    "logr_classifier"
   ]
  },
  {
   "cell_type": "code",
   "execution_count": 11,
   "metadata": {},
   "outputs": [
    {
     "output_type": "stream",
     "name": "stderr",
     "text": [
      "D:\\Users\\lynel\\anaconda3\\envs\\PythonAdv\\lib\\site-packages\\sklearn\\linear_model\\_logistic.py:765: ConvergenceWarning: lbfgs failed to converge (status=1):\nSTOP: TOTAL NO. of ITERATIONS REACHED LIMIT.\n\nIncrease the number of iterations (max_iter) or scale the data as shown in:\n    https://scikit-learn.org/stable/modules/preprocessing.html\nPlease also refer to the documentation for alternative solver options:\n    https://scikit-learn.org/stable/modules/linear_model.html#logistic-regression\n  extra_warning_msg=_LOGISTIC_SOLVER_CONVERGENCE_MSG)\n"
     ]
    },
    {
     "output_type": "execute_result",
     "data": {
      "text/plain": [
       "LogisticRegression(max_iter=1000)"
      ]
     },
     "metadata": {},
     "execution_count": 11
    }
   ],
   "source": [
    "logr_classifier.fit(X_train, y_train)"
   ]
  },
  {
   "cell_type": "code",
   "execution_count": 12,
   "metadata": {},
   "outputs": [
    {
     "output_type": "stream",
     "name": "stdout",
     "text": [
      "Training Data Score: 0.763142523364486\nTesting Data Score: 0.7618213660245184\n"
     ]
    }
   ],
   "source": [
    "print(f\"Training Data Score: {logr_classifier.score(X_train, y_train)}\")\n",
    "print(f\"Testing Data Score: {logr_classifier.score(X_test, y_test)}\")"
   ]
  },
  {
   "cell_type": "code",
   "execution_count": 13,
   "metadata": {},
   "outputs": [
    {
     "output_type": "stream",
     "name": "stdout",
     "text": [
      "First 10 Predictions:   [0 0 1 0 1 0 1 1 0 0]\nFirst 10 Actual labels: [0, 0, 1, 0, 0, 0, 0, 1, 0, 0]\n"
     ]
    }
   ],
   "source": [
    "pred_logr = logr_classifier.predict(X_test)\n",
    "print(f\"First 10 Predictions:   {pred_logr[:10]}\")\n",
    "print(f\"First 10 Actual labels: {y_test[:10].tolist()}\")"
   ]
  },
  {
   "cell_type": "code",
   "execution_count": 14,
   "metadata": {},
   "outputs": [
    {
     "output_type": "execute_result",
     "data": {
      "text/plain": [
       "      Prediction  Actual\n",
       "0              0       0\n",
       "1              0       0\n",
       "2              1       1\n",
       "3              0       0\n",
       "4              1       0\n",
       "...          ...     ...\n",
       "1137           0       1\n",
       "1138           1       1\n",
       "1139           0       0\n",
       "1140           1       0\n",
       "1141           1       1\n",
       "\n",
       "[1142 rows x 2 columns]"
      ],
      "text/html": "<div>\n<style scoped>\n    .dataframe tbody tr th:only-of-type {\n        vertical-align: middle;\n    }\n\n    .dataframe tbody tr th {\n        vertical-align: top;\n    }\n\n    .dataframe thead th {\n        text-align: right;\n    }\n</style>\n<table border=\"1\" class=\"dataframe\">\n  <thead>\n    <tr style=\"text-align: right;\">\n      <th></th>\n      <th>Prediction</th>\n      <th>Actual</th>\n    </tr>\n  </thead>\n  <tbody>\n    <tr>\n      <th>0</th>\n      <td>0</td>\n      <td>0</td>\n    </tr>\n    <tr>\n      <th>1</th>\n      <td>0</td>\n      <td>0</td>\n    </tr>\n    <tr>\n      <th>2</th>\n      <td>1</td>\n      <td>1</td>\n    </tr>\n    <tr>\n      <th>3</th>\n      <td>0</td>\n      <td>0</td>\n    </tr>\n    <tr>\n      <th>4</th>\n      <td>1</td>\n      <td>0</td>\n    </tr>\n    <tr>\n      <th>...</th>\n      <td>...</td>\n      <td>...</td>\n    </tr>\n    <tr>\n      <th>1137</th>\n      <td>0</td>\n      <td>1</td>\n    </tr>\n    <tr>\n      <th>1138</th>\n      <td>1</td>\n      <td>1</td>\n    </tr>\n    <tr>\n      <th>1139</th>\n      <td>0</td>\n      <td>0</td>\n    </tr>\n    <tr>\n      <th>1140</th>\n      <td>1</td>\n      <td>0</td>\n    </tr>\n    <tr>\n      <th>1141</th>\n      <td>1</td>\n      <td>1</td>\n    </tr>\n  </tbody>\n</table>\n<p>1142 rows × 2 columns</p>\n</div>"
     },
     "metadata": {},
     "execution_count": 14
    }
   ],
   "source": [
    "pd.DataFrame({\"Prediction\": pred_logr, \"Actual\": y_test}).reset_index(drop=True)"
   ]
  },
  {
   "cell_type": "code",
   "execution_count": 15,
   "metadata": {},
   "outputs": [
    {
     "output_type": "stream",
     "name": "stdout",
     "text": [
      "0.7618213660245184\n"
     ]
    }
   ],
   "source": [
    "# Accuracy Score\n",
    "print(accuracy_score(y_test, pred_logr))"
   ]
  },
  {
   "cell_type": "code",
   "execution_count": 16,
   "metadata": {},
   "outputs": [
    {
     "output_type": "stream",
     "name": "stdout",
     "text": [
      "              precision    recall  f1-score   support\n\n           0       0.80      0.56      0.66       471\n           1       0.75      0.90      0.82       671\n\n    accuracy                           0.76      1142\n   macro avg       0.77      0.73      0.74      1142\nweighted avg       0.77      0.76      0.75      1142\n\n[[265 206]\n [ 66 605]]\n"
     ]
    }
   ],
   "source": [
    "# Confusion Matrix\n",
    "# Classification Report\n",
    "\n",
    "print(classification_report(y_test, pred_logr)) # returns precision recall f1-score and support\n",
    "print(confusion_matrix(y_test, pred_logr)) # returns the exact number of TN FP FN TP"
   ]
  },
  {
   "cell_type": "markdown",
   "metadata": {},
   "source": [
    "## K Nearest Neighbor Model"
   ]
  },
  {
   "cell_type": "code",
   "execution_count": 17,
   "metadata": {},
   "outputs": [],
   "source": [
    "# Create a StandardScater model\n",
    "from sklearn.preprocessing import StandardScaler\n",
    "\n",
    "#Fit it to the training data\n",
    "X_scaler = StandardScaler().fit(X_train)\n",
    "\n",
    "# Transform the training and testing data using the X_scaler\n",
    "X_train_scaled = X_scaler.transform(X_train)\n",
    "X_test_scaled = X_scaler.transform(X_test)"
   ]
  },
  {
   "cell_type": "code",
   "execution_count": 18,
   "metadata": {},
   "outputs": [
    {
     "output_type": "stream",
     "name": "stdout",
     "text": [
      "k: 1, Train/Test Score: 1.000/0.666\n",
      "k: 3, Train/Test Score: 0.846/0.700\n",
      "k: 5, Train/Test Score: 0.803/0.703\n",
      "k: 7, Train/Test Score: 0.783/0.713\n",
      "k: 9, Train/Test Score: 0.775/0.718\n",
      "k: 11, Train/Test Score: 0.766/0.719\n",
      "k: 13, Train/Test Score: 0.760/0.718\n",
      "k: 15, Train/Test Score: 0.764/0.715\n",
      "k: 17, Train/Test Score: 0.761/0.721\n",
      "k: 19, Train/Test Score: 0.755/0.725\n",
      "k: 21, Train/Test Score: 0.756/0.715\n",
      "k: 23, Train/Test Score: 0.751/0.706\n",
      "k: 25, Train/Test Score: 0.752/0.706\n",
      "k: 27, Train/Test Score: 0.753/0.708\n",
      "k: 29, Train/Test Score: 0.751/0.718\n"
     ]
    },
    {
     "output_type": "display_data",
     "data": {
      "text/plain": "<Figure size 432x288 with 1 Axes>",
      "image/svg+xml": "<?xml version=\"1.0\" encoding=\"utf-8\" standalone=\"no\"?>\r\n<!DOCTYPE svg PUBLIC \"-//W3C//DTD SVG 1.1//EN\"\r\n  \"http://www.w3.org/Graphics/SVG/1.1/DTD/svg11.dtd\">\r\n<!-- Created with matplotlib (https://matplotlib.org/) -->\r\n<svg height=\"262.19625pt\" version=\"1.1\" viewBox=\"0 0 394.158198 262.19625\" width=\"394.158198pt\" xmlns=\"http://www.w3.org/2000/svg\" xmlns:xlink=\"http://www.w3.org/1999/xlink\">\r\n <metadata>\r\n  <rdf:RDF xmlns:cc=\"http://creativecommons.org/ns#\" xmlns:dc=\"http://purl.org/dc/elements/1.1/\" xmlns:rdf=\"http://www.w3.org/1999/02/22-rdf-syntax-ns#\">\r\n   <cc:Work>\r\n    <dc:type rdf:resource=\"http://purl.org/dc/dcmitype/StillImage\"/>\r\n    <dc:date>2021-04-24T23:07:10.186808</dc:date>\r\n    <dc:format>image/svg+xml</dc:format>\r\n    <dc:creator>\r\n     <cc:Agent>\r\n      <dc:title>Matplotlib v3.3.4, https://matplotlib.org/</dc:title>\r\n     </cc:Agent>\r\n    </dc:creator>\r\n   </cc:Work>\r\n  </rdf:RDF>\r\n </metadata>\r\n <defs>\r\n  <style type=\"text/css\">*{stroke-linecap:butt;stroke-linejoin:round;}</style>\r\n </defs>\r\n <g id=\"figure_1\">\r\n  <g id=\"patch_1\">\r\n   <path d=\"M 0 262.19625 \r\nL 394.158198 262.19625 \r\nL 394.158198 0 \r\nL 0 0 \r\nz\r\n\" style=\"fill:none;\"/>\r\n  </g>\r\n  <g id=\"axes_1\">\r\n   <g id=\"patch_2\">\r\n    <path d=\"M 50.14375 224.64 \r\nL 384.94375 224.64 \r\nL 384.94375 7.2 \r\nL 50.14375 7.2 \r\nz\r\n\" style=\"fill:#ffffff;\"/>\r\n   </g>\r\n   <g id=\"matplotlib.axis_1\">\r\n    <g id=\"xtick_1\">\r\n     <g id=\"line2d_1\">\r\n      <defs>\r\n       <path d=\"M 0 0 \r\nL 0 3.5 \r\n\" id=\"m369f138e00\" style=\"stroke:#000000;stroke-width:0.8;\"/>\r\n      </defs>\r\n      <g>\r\n       <use style=\"stroke:#000000;stroke-width:0.8;\" x=\"54.491802\" xlink:href=\"#m369f138e00\" y=\"224.64\"/>\r\n      </g>\r\n     </g>\r\n     <g id=\"text_1\">\r\n      <!-- 0 -->\r\n      <g transform=\"translate(51.310552 239.238437)scale(0.1 -0.1)\">\r\n       <defs>\r\n        <path d=\"M 31.78125 66.40625 \r\nQ 24.171875 66.40625 20.328125 58.90625 \r\nQ 16.5 51.421875 16.5 36.375 \r\nQ 16.5 21.390625 20.328125 13.890625 \r\nQ 24.171875 6.390625 31.78125 6.390625 \r\nQ 39.453125 6.390625 43.28125 13.890625 \r\nQ 47.125 21.390625 47.125 36.375 \r\nQ 47.125 51.421875 43.28125 58.90625 \r\nQ 39.453125 66.40625 31.78125 66.40625 \r\nz\r\nM 31.78125 74.21875 \r\nQ 44.046875 74.21875 50.515625 64.515625 \r\nQ 56.984375 54.828125 56.984375 36.375 \r\nQ 56.984375 17.96875 50.515625 8.265625 \r\nQ 44.046875 -1.421875 31.78125 -1.421875 \r\nQ 19.53125 -1.421875 13.0625 8.265625 \r\nQ 6.59375 17.96875 6.59375 36.375 \r\nQ 6.59375 54.828125 13.0625 64.515625 \r\nQ 19.53125 74.21875 31.78125 74.21875 \r\nz\r\n\" id=\"DejaVuSans-48\"/>\r\n       </defs>\r\n       <use xlink:href=\"#DejaVuSans-48\"/>\r\n      </g>\r\n     </g>\r\n    </g>\r\n    <g id=\"xtick_2\">\r\n     <g id=\"line2d_2\">\r\n      <g>\r\n       <use style=\"stroke:#000000;stroke-width:0.8;\" x=\"108.842451\" xlink:href=\"#m369f138e00\" y=\"224.64\"/>\r\n      </g>\r\n     </g>\r\n     <g id=\"text_2\">\r\n      <!-- 5 -->\r\n      <g transform=\"translate(105.661201 239.238437)scale(0.1 -0.1)\">\r\n       <defs>\r\n        <path d=\"M 10.796875 72.90625 \r\nL 49.515625 72.90625 \r\nL 49.515625 64.59375 \r\nL 19.828125 64.59375 \r\nL 19.828125 46.734375 \r\nQ 21.96875 47.46875 24.109375 47.828125 \r\nQ 26.265625 48.1875 28.421875 48.1875 \r\nQ 40.625 48.1875 47.75 41.5 \r\nQ 54.890625 34.8125 54.890625 23.390625 \r\nQ 54.890625 11.625 47.5625 5.09375 \r\nQ 40.234375 -1.421875 26.90625 -1.421875 \r\nQ 22.3125 -1.421875 17.546875 -0.640625 \r\nQ 12.796875 0.140625 7.71875 1.703125 \r\nL 7.71875 11.625 \r\nQ 12.109375 9.234375 16.796875 8.0625 \r\nQ 21.484375 6.890625 26.703125 6.890625 \r\nQ 35.15625 6.890625 40.078125 11.328125 \r\nQ 45.015625 15.765625 45.015625 23.390625 \r\nQ 45.015625 31 40.078125 35.4375 \r\nQ 35.15625 39.890625 26.703125 39.890625 \r\nQ 22.75 39.890625 18.8125 39.015625 \r\nQ 14.890625 38.140625 10.796875 36.28125 \r\nz\r\n\" id=\"DejaVuSans-53\"/>\r\n       </defs>\r\n       <use xlink:href=\"#DejaVuSans-53\"/>\r\n      </g>\r\n     </g>\r\n    </g>\r\n    <g id=\"xtick_3\">\r\n     <g id=\"line2d_3\">\r\n      <g>\r\n       <use style=\"stroke:#000000;stroke-width:0.8;\" x=\"163.193101\" xlink:href=\"#m369f138e00\" y=\"224.64\"/>\r\n      </g>\r\n     </g>\r\n     <g id=\"text_3\">\r\n      <!-- 10 -->\r\n      <g transform=\"translate(156.830601 239.238437)scale(0.1 -0.1)\">\r\n       <defs>\r\n        <path d=\"M 12.40625 8.296875 \r\nL 28.515625 8.296875 \r\nL 28.515625 63.921875 \r\nL 10.984375 60.40625 \r\nL 10.984375 69.390625 \r\nL 28.421875 72.90625 \r\nL 38.28125 72.90625 \r\nL 38.28125 8.296875 \r\nL 54.390625 8.296875 \r\nL 54.390625 0 \r\nL 12.40625 0 \r\nz\r\n\" id=\"DejaVuSans-49\"/>\r\n       </defs>\r\n       <use xlink:href=\"#DejaVuSans-49\"/>\r\n       <use x=\"63.623047\" xlink:href=\"#DejaVuSans-48\"/>\r\n      </g>\r\n     </g>\r\n    </g>\r\n    <g id=\"xtick_4\">\r\n     <g id=\"line2d_4\">\r\n      <g>\r\n       <use style=\"stroke:#000000;stroke-width:0.8;\" x=\"217.54375\" xlink:href=\"#m369f138e00\" y=\"224.64\"/>\r\n      </g>\r\n     </g>\r\n     <g id=\"text_4\">\r\n      <!-- 15 -->\r\n      <g transform=\"translate(211.18125 239.238437)scale(0.1 -0.1)\">\r\n       <use xlink:href=\"#DejaVuSans-49\"/>\r\n       <use x=\"63.623047\" xlink:href=\"#DejaVuSans-53\"/>\r\n      </g>\r\n     </g>\r\n    </g>\r\n    <g id=\"xtick_5\">\r\n     <g id=\"line2d_5\">\r\n      <g>\r\n       <use style=\"stroke:#000000;stroke-width:0.8;\" x=\"271.894399\" xlink:href=\"#m369f138e00\" y=\"224.64\"/>\r\n      </g>\r\n     </g>\r\n     <g id=\"text_5\">\r\n      <!-- 20 -->\r\n      <g transform=\"translate(265.531899 239.238437)scale(0.1 -0.1)\">\r\n       <defs>\r\n        <path d=\"M 19.1875 8.296875 \r\nL 53.609375 8.296875 \r\nL 53.609375 0 \r\nL 7.328125 0 \r\nL 7.328125 8.296875 \r\nQ 12.9375 14.109375 22.625 23.890625 \r\nQ 32.328125 33.6875 34.8125 36.53125 \r\nQ 39.546875 41.84375 41.421875 45.53125 \r\nQ 43.3125 49.21875 43.3125 52.78125 \r\nQ 43.3125 58.59375 39.234375 62.25 \r\nQ 35.15625 65.921875 28.609375 65.921875 \r\nQ 23.96875 65.921875 18.8125 64.3125 \r\nQ 13.671875 62.703125 7.8125 59.421875 \r\nL 7.8125 69.390625 \r\nQ 13.765625 71.78125 18.9375 73 \r\nQ 24.125 74.21875 28.421875 74.21875 \r\nQ 39.75 74.21875 46.484375 68.546875 \r\nQ 53.21875 62.890625 53.21875 53.421875 \r\nQ 53.21875 48.921875 51.53125 44.890625 \r\nQ 49.859375 40.875 45.40625 35.40625 \r\nQ 44.1875 33.984375 37.640625 27.21875 \r\nQ 31.109375 20.453125 19.1875 8.296875 \r\nz\r\n\" id=\"DejaVuSans-50\"/>\r\n       </defs>\r\n       <use xlink:href=\"#DejaVuSans-50\"/>\r\n       <use x=\"63.623047\" xlink:href=\"#DejaVuSans-48\"/>\r\n      </g>\r\n     </g>\r\n    </g>\r\n    <g id=\"xtick_6\">\r\n     <g id=\"line2d_6\">\r\n      <g>\r\n       <use style=\"stroke:#000000;stroke-width:0.8;\" x=\"326.245049\" xlink:href=\"#m369f138e00\" y=\"224.64\"/>\r\n      </g>\r\n     </g>\r\n     <g id=\"text_6\">\r\n      <!-- 25 -->\r\n      <g transform=\"translate(319.882549 239.238437)scale(0.1 -0.1)\">\r\n       <use xlink:href=\"#DejaVuSans-50\"/>\r\n       <use x=\"63.623047\" xlink:href=\"#DejaVuSans-53\"/>\r\n      </g>\r\n     </g>\r\n    </g>\r\n    <g id=\"xtick_7\">\r\n     <g id=\"line2d_7\">\r\n      <g>\r\n       <use style=\"stroke:#000000;stroke-width:0.8;\" x=\"380.595698\" xlink:href=\"#m369f138e00\" y=\"224.64\"/>\r\n      </g>\r\n     </g>\r\n     <g id=\"text_7\">\r\n      <!-- 30 -->\r\n      <g transform=\"translate(374.233198 239.238437)scale(0.1 -0.1)\">\r\n       <defs>\r\n        <path d=\"M 40.578125 39.3125 \r\nQ 47.65625 37.796875 51.625 33 \r\nQ 55.609375 28.21875 55.609375 21.1875 \r\nQ 55.609375 10.40625 48.1875 4.484375 \r\nQ 40.765625 -1.421875 27.09375 -1.421875 \r\nQ 22.515625 -1.421875 17.65625 -0.515625 \r\nQ 12.796875 0.390625 7.625 2.203125 \r\nL 7.625 11.71875 \r\nQ 11.71875 9.328125 16.59375 8.109375 \r\nQ 21.484375 6.890625 26.8125 6.890625 \r\nQ 36.078125 6.890625 40.9375 10.546875 \r\nQ 45.796875 14.203125 45.796875 21.1875 \r\nQ 45.796875 27.640625 41.28125 31.265625 \r\nQ 36.765625 34.90625 28.71875 34.90625 \r\nL 20.21875 34.90625 \r\nL 20.21875 43.015625 \r\nL 29.109375 43.015625 \r\nQ 36.375 43.015625 40.234375 45.921875 \r\nQ 44.09375 48.828125 44.09375 54.296875 \r\nQ 44.09375 59.90625 40.109375 62.90625 \r\nQ 36.140625 65.921875 28.71875 65.921875 \r\nQ 24.65625 65.921875 20.015625 65.03125 \r\nQ 15.375 64.15625 9.8125 62.3125 \r\nL 9.8125 71.09375 \r\nQ 15.4375 72.65625 20.34375 73.4375 \r\nQ 25.25 74.21875 29.59375 74.21875 \r\nQ 40.828125 74.21875 47.359375 69.109375 \r\nQ 53.90625 64.015625 53.90625 55.328125 \r\nQ 53.90625 49.265625 50.4375 45.09375 \r\nQ 46.96875 40.921875 40.578125 39.3125 \r\nz\r\n\" id=\"DejaVuSans-51\"/>\r\n       </defs>\r\n       <use xlink:href=\"#DejaVuSans-51\"/>\r\n       <use x=\"63.623047\" xlink:href=\"#DejaVuSans-48\"/>\r\n      </g>\r\n     </g>\r\n    </g>\r\n    <g id=\"text_8\">\r\n     <!-- k neighbors -->\r\n     <g transform=\"translate(188.188281 252.916562)scale(0.1 -0.1)\">\r\n      <defs>\r\n       <path d=\"M 9.078125 75.984375 \r\nL 18.109375 75.984375 \r\nL 18.109375 31.109375 \r\nL 44.921875 54.6875 \r\nL 56.390625 54.6875 \r\nL 27.390625 29.109375 \r\nL 57.625 0 \r\nL 45.90625 0 \r\nL 18.109375 26.703125 \r\nL 18.109375 0 \r\nL 9.078125 0 \r\nz\r\n\" id=\"DejaVuSans-107\"/>\r\n       <path id=\"DejaVuSans-32\"/>\r\n       <path d=\"M 54.890625 33.015625 \r\nL 54.890625 0 \r\nL 45.90625 0 \r\nL 45.90625 32.71875 \r\nQ 45.90625 40.484375 42.875 44.328125 \r\nQ 39.84375 48.1875 33.796875 48.1875 \r\nQ 26.515625 48.1875 22.3125 43.546875 \r\nQ 18.109375 38.921875 18.109375 30.90625 \r\nL 18.109375 0 \r\nL 9.078125 0 \r\nL 9.078125 54.6875 \r\nL 18.109375 54.6875 \r\nL 18.109375 46.1875 \r\nQ 21.34375 51.125 25.703125 53.5625 \r\nQ 30.078125 56 35.796875 56 \r\nQ 45.21875 56 50.046875 50.171875 \r\nQ 54.890625 44.34375 54.890625 33.015625 \r\nz\r\n\" id=\"DejaVuSans-110\"/>\r\n       <path d=\"M 56.203125 29.59375 \r\nL 56.203125 25.203125 \r\nL 14.890625 25.203125 \r\nQ 15.484375 15.921875 20.484375 11.0625 \r\nQ 25.484375 6.203125 34.421875 6.203125 \r\nQ 39.59375 6.203125 44.453125 7.46875 \r\nQ 49.3125 8.734375 54.109375 11.28125 \r\nL 54.109375 2.78125 \r\nQ 49.265625 0.734375 44.1875 -0.34375 \r\nQ 39.109375 -1.421875 33.890625 -1.421875 \r\nQ 20.796875 -1.421875 13.15625 6.1875 \r\nQ 5.515625 13.8125 5.515625 26.8125 \r\nQ 5.515625 40.234375 12.765625 48.109375 \r\nQ 20.015625 56 32.328125 56 \r\nQ 43.359375 56 49.78125 48.890625 \r\nQ 56.203125 41.796875 56.203125 29.59375 \r\nz\r\nM 47.21875 32.234375 \r\nQ 47.125 39.59375 43.09375 43.984375 \r\nQ 39.0625 48.390625 32.421875 48.390625 \r\nQ 24.90625 48.390625 20.390625 44.140625 \r\nQ 15.875 39.890625 15.1875 32.171875 \r\nz\r\n\" id=\"DejaVuSans-101\"/>\r\n       <path d=\"M 9.421875 54.6875 \r\nL 18.40625 54.6875 \r\nL 18.40625 0 \r\nL 9.421875 0 \r\nz\r\nM 9.421875 75.984375 \r\nL 18.40625 75.984375 \r\nL 18.40625 64.59375 \r\nL 9.421875 64.59375 \r\nz\r\n\" id=\"DejaVuSans-105\"/>\r\n       <path d=\"M 45.40625 27.984375 \r\nQ 45.40625 37.75 41.375 43.109375 \r\nQ 37.359375 48.484375 30.078125 48.484375 \r\nQ 22.859375 48.484375 18.828125 43.109375 \r\nQ 14.796875 37.75 14.796875 27.984375 \r\nQ 14.796875 18.265625 18.828125 12.890625 \r\nQ 22.859375 7.515625 30.078125 7.515625 \r\nQ 37.359375 7.515625 41.375 12.890625 \r\nQ 45.40625 18.265625 45.40625 27.984375 \r\nz\r\nM 54.390625 6.78125 \r\nQ 54.390625 -7.171875 48.1875 -13.984375 \r\nQ 42 -20.796875 29.203125 -20.796875 \r\nQ 24.46875 -20.796875 20.265625 -20.09375 \r\nQ 16.0625 -19.390625 12.109375 -17.921875 \r\nL 12.109375 -9.1875 \r\nQ 16.0625 -11.328125 19.921875 -12.34375 \r\nQ 23.78125 -13.375 27.78125 -13.375 \r\nQ 36.625 -13.375 41.015625 -8.765625 \r\nQ 45.40625 -4.15625 45.40625 5.171875 \r\nL 45.40625 9.625 \r\nQ 42.625 4.78125 38.28125 2.390625 \r\nQ 33.9375 0 27.875 0 \r\nQ 17.828125 0 11.671875 7.65625 \r\nQ 5.515625 15.328125 5.515625 27.984375 \r\nQ 5.515625 40.671875 11.671875 48.328125 \r\nQ 17.828125 56 27.875 56 \r\nQ 33.9375 56 38.28125 53.609375 \r\nQ 42.625 51.21875 45.40625 46.390625 \r\nL 45.40625 54.6875 \r\nL 54.390625 54.6875 \r\nz\r\n\" id=\"DejaVuSans-103\"/>\r\n       <path d=\"M 54.890625 33.015625 \r\nL 54.890625 0 \r\nL 45.90625 0 \r\nL 45.90625 32.71875 \r\nQ 45.90625 40.484375 42.875 44.328125 \r\nQ 39.84375 48.1875 33.796875 48.1875 \r\nQ 26.515625 48.1875 22.3125 43.546875 \r\nQ 18.109375 38.921875 18.109375 30.90625 \r\nL 18.109375 0 \r\nL 9.078125 0 \r\nL 9.078125 75.984375 \r\nL 18.109375 75.984375 \r\nL 18.109375 46.1875 \r\nQ 21.34375 51.125 25.703125 53.5625 \r\nQ 30.078125 56 35.796875 56 \r\nQ 45.21875 56 50.046875 50.171875 \r\nQ 54.890625 44.34375 54.890625 33.015625 \r\nz\r\n\" id=\"DejaVuSans-104\"/>\r\n       <path d=\"M 48.6875 27.296875 \r\nQ 48.6875 37.203125 44.609375 42.84375 \r\nQ 40.53125 48.484375 33.40625 48.484375 \r\nQ 26.265625 48.484375 22.1875 42.84375 \r\nQ 18.109375 37.203125 18.109375 27.296875 \r\nQ 18.109375 17.390625 22.1875 11.75 \r\nQ 26.265625 6.109375 33.40625 6.109375 \r\nQ 40.53125 6.109375 44.609375 11.75 \r\nQ 48.6875 17.390625 48.6875 27.296875 \r\nz\r\nM 18.109375 46.390625 \r\nQ 20.953125 51.265625 25.265625 53.625 \r\nQ 29.59375 56 35.59375 56 \r\nQ 45.5625 56 51.78125 48.09375 \r\nQ 58.015625 40.1875 58.015625 27.296875 \r\nQ 58.015625 14.40625 51.78125 6.484375 \r\nQ 45.5625 -1.421875 35.59375 -1.421875 \r\nQ 29.59375 -1.421875 25.265625 0.953125 \r\nQ 20.953125 3.328125 18.109375 8.203125 \r\nL 18.109375 0 \r\nL 9.078125 0 \r\nL 9.078125 75.984375 \r\nL 18.109375 75.984375 \r\nz\r\n\" id=\"DejaVuSans-98\"/>\r\n       <path d=\"M 30.609375 48.390625 \r\nQ 23.390625 48.390625 19.1875 42.75 \r\nQ 14.984375 37.109375 14.984375 27.296875 \r\nQ 14.984375 17.484375 19.15625 11.84375 \r\nQ 23.34375 6.203125 30.609375 6.203125 \r\nQ 37.796875 6.203125 41.984375 11.859375 \r\nQ 46.1875 17.53125 46.1875 27.296875 \r\nQ 46.1875 37.015625 41.984375 42.703125 \r\nQ 37.796875 48.390625 30.609375 48.390625 \r\nz\r\nM 30.609375 56 \r\nQ 42.328125 56 49.015625 48.375 \r\nQ 55.71875 40.765625 55.71875 27.296875 \r\nQ 55.71875 13.875 49.015625 6.21875 \r\nQ 42.328125 -1.421875 30.609375 -1.421875 \r\nQ 18.84375 -1.421875 12.171875 6.21875 \r\nQ 5.515625 13.875 5.515625 27.296875 \r\nQ 5.515625 40.765625 12.171875 48.375 \r\nQ 18.84375 56 30.609375 56 \r\nz\r\n\" id=\"DejaVuSans-111\"/>\r\n       <path d=\"M 41.109375 46.296875 \r\nQ 39.59375 47.171875 37.8125 47.578125 \r\nQ 36.03125 48 33.890625 48 \r\nQ 26.265625 48 22.1875 43.046875 \r\nQ 18.109375 38.09375 18.109375 28.8125 \r\nL 18.109375 0 \r\nL 9.078125 0 \r\nL 9.078125 54.6875 \r\nL 18.109375 54.6875 \r\nL 18.109375 46.1875 \r\nQ 20.953125 51.171875 25.484375 53.578125 \r\nQ 30.03125 56 36.53125 56 \r\nQ 37.453125 56 38.578125 55.875 \r\nQ 39.703125 55.765625 41.0625 55.515625 \r\nz\r\n\" id=\"DejaVuSans-114\"/>\r\n       <path d=\"M 44.28125 53.078125 \r\nL 44.28125 44.578125 \r\nQ 40.484375 46.53125 36.375 47.5 \r\nQ 32.28125 48.484375 27.875 48.484375 \r\nQ 21.1875 48.484375 17.84375 46.4375 \r\nQ 14.5 44.390625 14.5 40.28125 \r\nQ 14.5 37.15625 16.890625 35.375 \r\nQ 19.28125 33.59375 26.515625 31.984375 \r\nL 29.59375 31.296875 \r\nQ 39.15625 29.25 43.1875 25.515625 \r\nQ 47.21875 21.78125 47.21875 15.09375 \r\nQ 47.21875 7.46875 41.1875 3.015625 \r\nQ 35.15625 -1.421875 24.609375 -1.421875 \r\nQ 20.21875 -1.421875 15.453125 -0.5625 \r\nQ 10.6875 0.296875 5.421875 2 \r\nL 5.421875 11.28125 \r\nQ 10.40625 8.6875 15.234375 7.390625 \r\nQ 20.0625 6.109375 24.8125 6.109375 \r\nQ 31.15625 6.109375 34.5625 8.28125 \r\nQ 37.984375 10.453125 37.984375 14.40625 \r\nQ 37.984375 18.0625 35.515625 20.015625 \r\nQ 33.0625 21.96875 24.703125 23.78125 \r\nL 21.578125 24.515625 \r\nQ 13.234375 26.265625 9.515625 29.90625 \r\nQ 5.8125 33.546875 5.8125 39.890625 \r\nQ 5.8125 47.609375 11.28125 51.796875 \r\nQ 16.75 56 26.8125 56 \r\nQ 31.78125 56 36.171875 55.265625 \r\nQ 40.578125 54.546875 44.28125 53.078125 \r\nz\r\n\" id=\"DejaVuSans-115\"/>\r\n      </defs>\r\n      <use xlink:href=\"#DejaVuSans-107\"/>\r\n      <use x=\"57.910156\" xlink:href=\"#DejaVuSans-32\"/>\r\n      <use x=\"89.697266\" xlink:href=\"#DejaVuSans-110\"/>\r\n      <use x=\"153.076172\" xlink:href=\"#DejaVuSans-101\"/>\r\n      <use x=\"214.599609\" xlink:href=\"#DejaVuSans-105\"/>\r\n      <use x=\"242.382812\" xlink:href=\"#DejaVuSans-103\"/>\r\n      <use x=\"305.859375\" xlink:href=\"#DejaVuSans-104\"/>\r\n      <use x=\"369.238281\" xlink:href=\"#DejaVuSans-98\"/>\r\n      <use x=\"432.714844\" xlink:href=\"#DejaVuSans-111\"/>\r\n      <use x=\"493.896484\" xlink:href=\"#DejaVuSans-114\"/>\r\n      <use x=\"535.009766\" xlink:href=\"#DejaVuSans-115\"/>\r\n     </g>\r\n    </g>\r\n   </g>\r\n   <g id=\"matplotlib.axis_2\">\r\n    <g id=\"ytick_1\">\r\n     <g id=\"line2d_8\">\r\n      <defs>\r\n       <path d=\"M 0 0 \r\nL -3.5 0 \r\n\" id=\"m911b55216e\" style=\"stroke:#000000;stroke-width:0.8;\"/>\r\n      </defs>\r\n      <g>\r\n       <use style=\"stroke:#000000;stroke-width:0.8;\" x=\"50.14375\" xlink:href=\"#m911b55216e\" y=\"224.458411\"/>\r\n      </g>\r\n     </g>\r\n     <g id=\"text_9\">\r\n      <!-- 0.65 -->\r\n      <g transform=\"translate(20.878125 228.25763)scale(0.1 -0.1)\">\r\n       <defs>\r\n        <path d=\"M 10.6875 12.40625 \r\nL 21 12.40625 \r\nL 21 0 \r\nL 10.6875 0 \r\nz\r\n\" id=\"DejaVuSans-46\"/>\r\n        <path d=\"M 33.015625 40.375 \r\nQ 26.375 40.375 22.484375 35.828125 \r\nQ 18.609375 31.296875 18.609375 23.390625 \r\nQ 18.609375 15.53125 22.484375 10.953125 \r\nQ 26.375 6.390625 33.015625 6.390625 \r\nQ 39.65625 6.390625 43.53125 10.953125 \r\nQ 47.40625 15.53125 47.40625 23.390625 \r\nQ 47.40625 31.296875 43.53125 35.828125 \r\nQ 39.65625 40.375 33.015625 40.375 \r\nz\r\nM 52.59375 71.296875 \r\nL 52.59375 62.3125 \r\nQ 48.875 64.0625 45.09375 64.984375 \r\nQ 41.3125 65.921875 37.59375 65.921875 \r\nQ 27.828125 65.921875 22.671875 59.328125 \r\nQ 17.53125 52.734375 16.796875 39.40625 \r\nQ 19.671875 43.65625 24.015625 45.921875 \r\nQ 28.375 48.1875 33.59375 48.1875 \r\nQ 44.578125 48.1875 50.953125 41.515625 \r\nQ 57.328125 34.859375 57.328125 23.390625 \r\nQ 57.328125 12.15625 50.6875 5.359375 \r\nQ 44.046875 -1.421875 33.015625 -1.421875 \r\nQ 20.359375 -1.421875 13.671875 8.265625 \r\nQ 6.984375 17.96875 6.984375 36.375 \r\nQ 6.984375 53.65625 15.1875 63.9375 \r\nQ 23.390625 74.21875 37.203125 74.21875 \r\nQ 40.921875 74.21875 44.703125 73.484375 \r\nQ 48.484375 72.75 52.59375 71.296875 \r\nz\r\n\" id=\"DejaVuSans-54\"/>\r\n       </defs>\r\n       <use xlink:href=\"#DejaVuSans-48\"/>\r\n       <use x=\"63.623047\" xlink:href=\"#DejaVuSans-46\"/>\r\n       <use x=\"95.410156\" xlink:href=\"#DejaVuSans-54\"/>\r\n       <use x=\"159.033203\" xlink:href=\"#DejaVuSans-53\"/>\r\n      </g>\r\n     </g>\r\n    </g>\r\n    <g id=\"ytick_2\">\r\n     <g id=\"line2d_9\">\r\n      <g>\r\n       <use style=\"stroke:#000000;stroke-width:0.8;\" x=\"50.14375\" xlink:href=\"#m911b55216e\" y=\"194.833443\"/>\r\n      </g>\r\n     </g>\r\n     <g id=\"text_10\">\r\n      <!-- 0.70 -->\r\n      <g transform=\"translate(20.878125 198.632662)scale(0.1 -0.1)\">\r\n       <defs>\r\n        <path d=\"M 8.203125 72.90625 \r\nL 55.078125 72.90625 \r\nL 55.078125 68.703125 \r\nL 28.609375 0 \r\nL 18.3125 0 \r\nL 43.21875 64.59375 \r\nL 8.203125 64.59375 \r\nz\r\n\" id=\"DejaVuSans-55\"/>\r\n       </defs>\r\n       <use xlink:href=\"#DejaVuSans-48\"/>\r\n       <use x=\"63.623047\" xlink:href=\"#DejaVuSans-46\"/>\r\n       <use x=\"95.410156\" xlink:href=\"#DejaVuSans-55\"/>\r\n       <use x=\"159.033203\" xlink:href=\"#DejaVuSans-48\"/>\r\n      </g>\r\n     </g>\r\n    </g>\r\n    <g id=\"ytick_3\">\r\n     <g id=\"line2d_10\">\r\n      <g>\r\n       <use style=\"stroke:#000000;stroke-width:0.8;\" x=\"50.14375\" xlink:href=\"#m911b55216e\" y=\"165.208475\"/>\r\n      </g>\r\n     </g>\r\n     <g id=\"text_11\">\r\n      <!-- 0.75 -->\r\n      <g transform=\"translate(20.878125 169.007694)scale(0.1 -0.1)\">\r\n       <use xlink:href=\"#DejaVuSans-48\"/>\r\n       <use x=\"63.623047\" xlink:href=\"#DejaVuSans-46\"/>\r\n       <use x=\"95.410156\" xlink:href=\"#DejaVuSans-55\"/>\r\n       <use x=\"159.033203\" xlink:href=\"#DejaVuSans-53\"/>\r\n      </g>\r\n     </g>\r\n    </g>\r\n    <g id=\"ytick_4\">\r\n     <g id=\"line2d_11\">\r\n      <g>\r\n       <use style=\"stroke:#000000;stroke-width:0.8;\" x=\"50.14375\" xlink:href=\"#m911b55216e\" y=\"135.583508\"/>\r\n      </g>\r\n     </g>\r\n     <g id=\"text_12\">\r\n      <!-- 0.80 -->\r\n      <g transform=\"translate(20.878125 139.382726)scale(0.1 -0.1)\">\r\n       <defs>\r\n        <path d=\"M 31.78125 34.625 \r\nQ 24.75 34.625 20.71875 30.859375 \r\nQ 16.703125 27.09375 16.703125 20.515625 \r\nQ 16.703125 13.921875 20.71875 10.15625 \r\nQ 24.75 6.390625 31.78125 6.390625 \r\nQ 38.8125 6.390625 42.859375 10.171875 \r\nQ 46.921875 13.96875 46.921875 20.515625 \r\nQ 46.921875 27.09375 42.890625 30.859375 \r\nQ 38.875 34.625 31.78125 34.625 \r\nz\r\nM 21.921875 38.8125 \r\nQ 15.578125 40.375 12.03125 44.71875 \r\nQ 8.5 49.078125 8.5 55.328125 \r\nQ 8.5 64.0625 14.71875 69.140625 \r\nQ 20.953125 74.21875 31.78125 74.21875 \r\nQ 42.671875 74.21875 48.875 69.140625 \r\nQ 55.078125 64.0625 55.078125 55.328125 \r\nQ 55.078125 49.078125 51.53125 44.71875 \r\nQ 48 40.375 41.703125 38.8125 \r\nQ 48.828125 37.15625 52.796875 32.3125 \r\nQ 56.78125 27.484375 56.78125 20.515625 \r\nQ 56.78125 9.90625 50.3125 4.234375 \r\nQ 43.84375 -1.421875 31.78125 -1.421875 \r\nQ 19.734375 -1.421875 13.25 4.234375 \r\nQ 6.78125 9.90625 6.78125 20.515625 \r\nQ 6.78125 27.484375 10.78125 32.3125 \r\nQ 14.796875 37.15625 21.921875 38.8125 \r\nz\r\nM 18.3125 54.390625 \r\nQ 18.3125 48.734375 21.84375 45.5625 \r\nQ 25.390625 42.390625 31.78125 42.390625 \r\nQ 38.140625 42.390625 41.71875 45.5625 \r\nQ 45.3125 48.734375 45.3125 54.390625 \r\nQ 45.3125 60.0625 41.71875 63.234375 \r\nQ 38.140625 66.40625 31.78125 66.40625 \r\nQ 25.390625 66.40625 21.84375 63.234375 \r\nQ 18.3125 60.0625 18.3125 54.390625 \r\nz\r\n\" id=\"DejaVuSans-56\"/>\r\n       </defs>\r\n       <use xlink:href=\"#DejaVuSans-48\"/>\r\n       <use x=\"63.623047\" xlink:href=\"#DejaVuSans-46\"/>\r\n       <use x=\"95.410156\" xlink:href=\"#DejaVuSans-56\"/>\r\n       <use x=\"159.033203\" xlink:href=\"#DejaVuSans-48\"/>\r\n      </g>\r\n     </g>\r\n    </g>\r\n    <g id=\"ytick_5\">\r\n     <g id=\"line2d_12\">\r\n      <g>\r\n       <use style=\"stroke:#000000;stroke-width:0.8;\" x=\"50.14375\" xlink:href=\"#m911b55216e\" y=\"105.95854\"/>\r\n      </g>\r\n     </g>\r\n     <g id=\"text_13\">\r\n      <!-- 0.85 -->\r\n      <g transform=\"translate(20.878125 109.757758)scale(0.1 -0.1)\">\r\n       <use xlink:href=\"#DejaVuSans-48\"/>\r\n       <use x=\"63.623047\" xlink:href=\"#DejaVuSans-46\"/>\r\n       <use x=\"95.410156\" xlink:href=\"#DejaVuSans-56\"/>\r\n       <use x=\"159.033203\" xlink:href=\"#DejaVuSans-53\"/>\r\n      </g>\r\n     </g>\r\n    </g>\r\n    <g id=\"ytick_6\">\r\n     <g id=\"line2d_13\">\r\n      <g>\r\n       <use style=\"stroke:#000000;stroke-width:0.8;\" x=\"50.14375\" xlink:href=\"#m911b55216e\" y=\"76.333572\"/>\r\n      </g>\r\n     </g>\r\n     <g id=\"text_14\">\r\n      <!-- 0.90 -->\r\n      <g transform=\"translate(20.878125 80.132791)scale(0.1 -0.1)\">\r\n       <defs>\r\n        <path d=\"M 10.984375 1.515625 \r\nL 10.984375 10.5 \r\nQ 14.703125 8.734375 18.5 7.8125 \r\nQ 22.3125 6.890625 25.984375 6.890625 \r\nQ 35.75 6.890625 40.890625 13.453125 \r\nQ 46.046875 20.015625 46.78125 33.40625 \r\nQ 43.953125 29.203125 39.59375 26.953125 \r\nQ 35.25 24.703125 29.984375 24.703125 \r\nQ 19.046875 24.703125 12.671875 31.3125 \r\nQ 6.296875 37.9375 6.296875 49.421875 \r\nQ 6.296875 60.640625 12.9375 67.421875 \r\nQ 19.578125 74.21875 30.609375 74.21875 \r\nQ 43.265625 74.21875 49.921875 64.515625 \r\nQ 56.59375 54.828125 56.59375 36.375 \r\nQ 56.59375 19.140625 48.40625 8.859375 \r\nQ 40.234375 -1.421875 26.421875 -1.421875 \r\nQ 22.703125 -1.421875 18.890625 -0.6875 \r\nQ 15.09375 0.046875 10.984375 1.515625 \r\nz\r\nM 30.609375 32.421875 \r\nQ 37.25 32.421875 41.125 36.953125 \r\nQ 45.015625 41.5 45.015625 49.421875 \r\nQ 45.015625 57.28125 41.125 61.84375 \r\nQ 37.25 66.40625 30.609375 66.40625 \r\nQ 23.96875 66.40625 20.09375 61.84375 \r\nQ 16.21875 57.28125 16.21875 49.421875 \r\nQ 16.21875 41.5 20.09375 36.953125 \r\nQ 23.96875 32.421875 30.609375 32.421875 \r\nz\r\n\" id=\"DejaVuSans-57\"/>\r\n       </defs>\r\n       <use xlink:href=\"#DejaVuSans-48\"/>\r\n       <use x=\"63.623047\" xlink:href=\"#DejaVuSans-46\"/>\r\n       <use x=\"95.410156\" xlink:href=\"#DejaVuSans-57\"/>\r\n       <use x=\"159.033203\" xlink:href=\"#DejaVuSans-48\"/>\r\n      </g>\r\n     </g>\r\n    </g>\r\n    <g id=\"ytick_7\">\r\n     <g id=\"line2d_14\">\r\n      <g>\r\n       <use style=\"stroke:#000000;stroke-width:0.8;\" x=\"50.14375\" xlink:href=\"#m911b55216e\" y=\"46.708604\"/>\r\n      </g>\r\n     </g>\r\n     <g id=\"text_15\">\r\n      <!-- 0.95 -->\r\n      <g transform=\"translate(20.878125 50.507823)scale(0.1 -0.1)\">\r\n       <use xlink:href=\"#DejaVuSans-48\"/>\r\n       <use x=\"63.623047\" xlink:href=\"#DejaVuSans-46\"/>\r\n       <use x=\"95.410156\" xlink:href=\"#DejaVuSans-57\"/>\r\n       <use x=\"159.033203\" xlink:href=\"#DejaVuSans-53\"/>\r\n      </g>\r\n     </g>\r\n    </g>\r\n    <g id=\"ytick_8\">\r\n     <g id=\"line2d_15\">\r\n      <g>\r\n       <use style=\"stroke:#000000;stroke-width:0.8;\" x=\"50.14375\" xlink:href=\"#m911b55216e\" y=\"17.083636\"/>\r\n      </g>\r\n     </g>\r\n     <g id=\"text_16\">\r\n      <!-- 1.00 -->\r\n      <g transform=\"translate(20.878125 20.882855)scale(0.1 -0.1)\">\r\n       <use xlink:href=\"#DejaVuSans-49\"/>\r\n       <use x=\"63.623047\" xlink:href=\"#DejaVuSans-46\"/>\r\n       <use x=\"95.410156\" xlink:href=\"#DejaVuSans-48\"/>\r\n       <use x=\"159.033203\" xlink:href=\"#DejaVuSans-48\"/>\r\n      </g>\r\n     </g>\r\n    </g>\r\n    <g id=\"text_17\">\r\n     <!-- Testing accuracy Score -->\r\n     <g transform=\"translate(14.798438 173.237187)rotate(-90)scale(0.1 -0.1)\">\r\n      <defs>\r\n       <path d=\"M -0.296875 72.90625 \r\nL 61.375 72.90625 \r\nL 61.375 64.59375 \r\nL 35.5 64.59375 \r\nL 35.5 0 \r\nL 25.59375 0 \r\nL 25.59375 64.59375 \r\nL -0.296875 64.59375 \r\nz\r\n\" id=\"DejaVuSans-84\"/>\r\n       <path d=\"M 18.3125 70.21875 \r\nL 18.3125 54.6875 \r\nL 36.8125 54.6875 \r\nL 36.8125 47.703125 \r\nL 18.3125 47.703125 \r\nL 18.3125 18.015625 \r\nQ 18.3125 11.328125 20.140625 9.421875 \r\nQ 21.96875 7.515625 27.59375 7.515625 \r\nL 36.8125 7.515625 \r\nL 36.8125 0 \r\nL 27.59375 0 \r\nQ 17.1875 0 13.234375 3.875 \r\nQ 9.28125 7.765625 9.28125 18.015625 \r\nL 9.28125 47.703125 \r\nL 2.6875 47.703125 \r\nL 2.6875 54.6875 \r\nL 9.28125 54.6875 \r\nL 9.28125 70.21875 \r\nz\r\n\" id=\"DejaVuSans-116\"/>\r\n       <path d=\"M 34.28125 27.484375 \r\nQ 23.390625 27.484375 19.1875 25 \r\nQ 14.984375 22.515625 14.984375 16.5 \r\nQ 14.984375 11.71875 18.140625 8.90625 \r\nQ 21.296875 6.109375 26.703125 6.109375 \r\nQ 34.1875 6.109375 38.703125 11.40625 \r\nQ 43.21875 16.703125 43.21875 25.484375 \r\nL 43.21875 27.484375 \r\nz\r\nM 52.203125 31.203125 \r\nL 52.203125 0 \r\nL 43.21875 0 \r\nL 43.21875 8.296875 \r\nQ 40.140625 3.328125 35.546875 0.953125 \r\nQ 30.953125 -1.421875 24.3125 -1.421875 \r\nQ 15.921875 -1.421875 10.953125 3.296875 \r\nQ 6 8.015625 6 15.921875 \r\nQ 6 25.140625 12.171875 29.828125 \r\nQ 18.359375 34.515625 30.609375 34.515625 \r\nL 43.21875 34.515625 \r\nL 43.21875 35.40625 \r\nQ 43.21875 41.609375 39.140625 45 \r\nQ 35.0625 48.390625 27.6875 48.390625 \r\nQ 23 48.390625 18.546875 47.265625 \r\nQ 14.109375 46.140625 10.015625 43.890625 \r\nL 10.015625 52.203125 \r\nQ 14.9375 54.109375 19.578125 55.046875 \r\nQ 24.21875 56 28.609375 56 \r\nQ 40.484375 56 46.34375 49.84375 \r\nQ 52.203125 43.703125 52.203125 31.203125 \r\nz\r\n\" id=\"DejaVuSans-97\"/>\r\n       <path d=\"M 48.78125 52.59375 \r\nL 48.78125 44.1875 \r\nQ 44.96875 46.296875 41.140625 47.34375 \r\nQ 37.3125 48.390625 33.40625 48.390625 \r\nQ 24.65625 48.390625 19.8125 42.84375 \r\nQ 14.984375 37.3125 14.984375 27.296875 \r\nQ 14.984375 17.28125 19.8125 11.734375 \r\nQ 24.65625 6.203125 33.40625 6.203125 \r\nQ 37.3125 6.203125 41.140625 7.25 \r\nQ 44.96875 8.296875 48.78125 10.40625 \r\nL 48.78125 2.09375 \r\nQ 45.015625 0.34375 40.984375 -0.53125 \r\nQ 36.96875 -1.421875 32.421875 -1.421875 \r\nQ 20.0625 -1.421875 12.78125 6.34375 \r\nQ 5.515625 14.109375 5.515625 27.296875 \r\nQ 5.515625 40.671875 12.859375 48.328125 \r\nQ 20.21875 56 33.015625 56 \r\nQ 37.15625 56 41.109375 55.140625 \r\nQ 45.0625 54.296875 48.78125 52.59375 \r\nz\r\n\" id=\"DejaVuSans-99\"/>\r\n       <path d=\"M 8.5 21.578125 \r\nL 8.5 54.6875 \r\nL 17.484375 54.6875 \r\nL 17.484375 21.921875 \r\nQ 17.484375 14.15625 20.5 10.265625 \r\nQ 23.53125 6.390625 29.59375 6.390625 \r\nQ 36.859375 6.390625 41.078125 11.03125 \r\nQ 45.3125 15.671875 45.3125 23.6875 \r\nL 45.3125 54.6875 \r\nL 54.296875 54.6875 \r\nL 54.296875 0 \r\nL 45.3125 0 \r\nL 45.3125 8.40625 \r\nQ 42.046875 3.421875 37.71875 1 \r\nQ 33.40625 -1.421875 27.6875 -1.421875 \r\nQ 18.265625 -1.421875 13.375 4.4375 \r\nQ 8.5 10.296875 8.5 21.578125 \r\nz\r\nM 31.109375 56 \r\nz\r\n\" id=\"DejaVuSans-117\"/>\r\n       <path d=\"M 32.171875 -5.078125 \r\nQ 28.375 -14.84375 24.75 -17.8125 \r\nQ 21.140625 -20.796875 15.09375 -20.796875 \r\nL 7.90625 -20.796875 \r\nL 7.90625 -13.28125 \r\nL 13.1875 -13.28125 \r\nQ 16.890625 -13.28125 18.9375 -11.515625 \r\nQ 21 -9.765625 23.484375 -3.21875 \r\nL 25.09375 0.875 \r\nL 2.984375 54.6875 \r\nL 12.5 54.6875 \r\nL 29.59375 11.921875 \r\nL 46.6875 54.6875 \r\nL 56.203125 54.6875 \r\nz\r\n\" id=\"DejaVuSans-121\"/>\r\n       <path d=\"M 53.515625 70.515625 \r\nL 53.515625 60.890625 \r\nQ 47.90625 63.578125 42.921875 64.890625 \r\nQ 37.9375 66.21875 33.296875 66.21875 \r\nQ 25.25 66.21875 20.875 63.09375 \r\nQ 16.5 59.96875 16.5 54.203125 \r\nQ 16.5 49.359375 19.40625 46.890625 \r\nQ 22.3125 44.4375 30.421875 42.921875 \r\nL 36.375 41.703125 \r\nQ 47.40625 39.59375 52.65625 34.296875 \r\nQ 57.90625 29 57.90625 20.125 \r\nQ 57.90625 9.515625 50.796875 4.046875 \r\nQ 43.703125 -1.421875 29.984375 -1.421875 \r\nQ 24.8125 -1.421875 18.96875 -0.25 \r\nQ 13.140625 0.921875 6.890625 3.21875 \r\nL 6.890625 13.375 \r\nQ 12.890625 10.015625 18.65625 8.296875 \r\nQ 24.421875 6.59375 29.984375 6.59375 \r\nQ 38.421875 6.59375 43.015625 9.90625 \r\nQ 47.609375 13.234375 47.609375 19.390625 \r\nQ 47.609375 24.75 44.3125 27.78125 \r\nQ 41.015625 30.8125 33.5 32.328125 \r\nL 27.484375 33.5 \r\nQ 16.453125 35.6875 11.515625 40.375 \r\nQ 6.59375 45.0625 6.59375 53.421875 \r\nQ 6.59375 63.09375 13.40625 68.65625 \r\nQ 20.21875 74.21875 32.171875 74.21875 \r\nQ 37.3125 74.21875 42.625 73.28125 \r\nQ 47.953125 72.359375 53.515625 70.515625 \r\nz\r\n\" id=\"DejaVuSans-83\"/>\r\n      </defs>\r\n      <use xlink:href=\"#DejaVuSans-84\"/>\r\n      <use x=\"44.083984\" xlink:href=\"#DejaVuSans-101\"/>\r\n      <use x=\"105.607422\" xlink:href=\"#DejaVuSans-115\"/>\r\n      <use x=\"157.707031\" xlink:href=\"#DejaVuSans-116\"/>\r\n      <use x=\"196.916016\" xlink:href=\"#DejaVuSans-105\"/>\r\n      <use x=\"224.699219\" xlink:href=\"#DejaVuSans-110\"/>\r\n      <use x=\"288.078125\" xlink:href=\"#DejaVuSans-103\"/>\r\n      <use x=\"351.554688\" xlink:href=\"#DejaVuSans-32\"/>\r\n      <use x=\"383.341797\" xlink:href=\"#DejaVuSans-97\"/>\r\n      <use x=\"444.621094\" xlink:href=\"#DejaVuSans-99\"/>\r\n      <use x=\"499.601562\" xlink:href=\"#DejaVuSans-99\"/>\r\n      <use x=\"554.582031\" xlink:href=\"#DejaVuSans-117\"/>\r\n      <use x=\"617.960938\" xlink:href=\"#DejaVuSans-114\"/>\r\n      <use x=\"659.074219\" xlink:href=\"#DejaVuSans-97\"/>\r\n      <use x=\"720.353516\" xlink:href=\"#DejaVuSans-99\"/>\r\n      <use x=\"775.333984\" xlink:href=\"#DejaVuSans-121\"/>\r\n      <use x=\"834.513672\" xlink:href=\"#DejaVuSans-32\"/>\r\n      <use x=\"866.300781\" xlink:href=\"#DejaVuSans-83\"/>\r\n      <use x=\"929.777344\" xlink:href=\"#DejaVuSans-99\"/>\r\n      <use x=\"984.757812\" xlink:href=\"#DejaVuSans-111\"/>\r\n      <use x=\"1045.939453\" xlink:href=\"#DejaVuSans-114\"/>\r\n      <use x=\"1084.802734\" xlink:href=\"#DejaVuSans-101\"/>\r\n     </g>\r\n    </g>\r\n   </g>\r\n   <g id=\"line2d_16\">\r\n    <path clip-path=\"url(#pc580853c05)\" d=\"M 65.361932 17.083636 \r\nL 87.102192 108.277316 \r\nL 108.842451 133.5416 \r\nL 130.582711 145.654612 \r\nL 152.322971 150.499817 \r\nL 174.063231 155.518065 \r\nL 195.80349 159.151969 \r\nL 217.54375 157.075453 \r\nL 239.28401 158.805883 \r\nL 261.024269 162.439787 \r\nL 282.764529 161.747615 \r\nL 304.504789 164.516303 \r\nL 326.245049 163.824131 \r\nL 347.985308 163.651088 \r\nL 369.725568 164.862389 \r\n\" style=\"fill:none;stroke:#1f77b4;stroke-linecap:square;stroke-width:1.5;\"/>\r\n    <defs>\r\n     <path d=\"M 0 3 \r\nC 0.795609 3 1.55874 2.683901 2.12132 2.12132 \r\nC 2.683901 1.55874 3 0.795609 3 0 \r\nC 3 -0.795609 2.683901 -1.55874 2.12132 -2.12132 \r\nC 1.55874 -2.683901 0.795609 -3 0 -3 \r\nC -0.795609 -3 -1.55874 -2.683901 -2.12132 -2.12132 \r\nC -2.683901 -1.55874 -3 -0.795609 -3 0 \r\nC -3 0.795609 -2.683901 1.55874 -2.12132 2.12132 \r\nC -1.55874 2.683901 -0.795609 3 0 3 \r\nz\r\n\" id=\"ma1c9b42698\" style=\"stroke:#1f77b4;\"/>\r\n    </defs>\r\n    <g clip-path=\"url(#pc580853c05)\">\r\n     <use style=\"fill:#1f77b4;stroke:#1f77b4;\" x=\"65.361932\" xlink:href=\"#ma1c9b42698\" y=\"17.083636\"/>\r\n     <use style=\"fill:#1f77b4;stroke:#1f77b4;\" x=\"87.102192\" xlink:href=\"#ma1c9b42698\" y=\"108.277316\"/>\r\n     <use style=\"fill:#1f77b4;stroke:#1f77b4;\" x=\"108.842451\" xlink:href=\"#ma1c9b42698\" y=\"133.5416\"/>\r\n     <use style=\"fill:#1f77b4;stroke:#1f77b4;\" x=\"130.582711\" xlink:href=\"#ma1c9b42698\" y=\"145.654612\"/>\r\n     <use style=\"fill:#1f77b4;stroke:#1f77b4;\" x=\"152.322971\" xlink:href=\"#ma1c9b42698\" y=\"150.499817\"/>\r\n     <use style=\"fill:#1f77b4;stroke:#1f77b4;\" x=\"174.063231\" xlink:href=\"#ma1c9b42698\" y=\"155.518065\"/>\r\n     <use style=\"fill:#1f77b4;stroke:#1f77b4;\" x=\"195.80349\" xlink:href=\"#ma1c9b42698\" y=\"159.151969\"/>\r\n     <use style=\"fill:#1f77b4;stroke:#1f77b4;\" x=\"217.54375\" xlink:href=\"#ma1c9b42698\" y=\"157.075453\"/>\r\n     <use style=\"fill:#1f77b4;stroke:#1f77b4;\" x=\"239.28401\" xlink:href=\"#ma1c9b42698\" y=\"158.805883\"/>\r\n     <use style=\"fill:#1f77b4;stroke:#1f77b4;\" x=\"261.024269\" xlink:href=\"#ma1c9b42698\" y=\"162.439787\"/>\r\n     <use style=\"fill:#1f77b4;stroke:#1f77b4;\" x=\"282.764529\" xlink:href=\"#ma1c9b42698\" y=\"161.747615\"/>\r\n     <use style=\"fill:#1f77b4;stroke:#1f77b4;\" x=\"304.504789\" xlink:href=\"#ma1c9b42698\" y=\"164.516303\"/>\r\n     <use style=\"fill:#1f77b4;stroke:#1f77b4;\" x=\"326.245049\" xlink:href=\"#ma1c9b42698\" y=\"163.824131\"/>\r\n     <use style=\"fill:#1f77b4;stroke:#1f77b4;\" x=\"347.985308\" xlink:href=\"#ma1c9b42698\" y=\"163.651088\"/>\r\n     <use style=\"fill:#1f77b4;stroke:#1f77b4;\" x=\"369.725568\" xlink:href=\"#ma1c9b42698\" y=\"164.862389\"/>\r\n    </g>\r\n   </g>\r\n   <g id=\"line2d_17\">\r\n    <path clip-path=\"url(#pc580853c05)\" d=\"M 65.361932 214.756364 \r\nL 87.102192 195.040974 \r\nL 108.842451 192.965669 \r\nL 130.582711 187.258583 \r\nL 152.322971 184.145626 \r\nL 174.063231 183.6268 \r\nL 195.80349 184.145626 \r\nL 217.54375 185.702105 \r\nL 239.28401 182.589148 \r\nL 261.024269 179.995018 \r\nL 282.764529 185.702105 \r\nL 304.504789 191.409191 \r\nL 326.245049 191.409191 \r\nL 347.985308 189.852713 \r\nL 369.725568 184.145626 \r\n\" style=\"fill:none;stroke:#ff7f0e;stroke-linecap:square;stroke-width:1.5;\"/>\r\n    <defs>\r\n     <path d=\"M -3 3 \r\nL 3 -3 \r\nM -3 -3 \r\nL 3 3 \r\n\" id=\"mffb45d6d4a\" style=\"stroke:#ff7f0e;\"/>\r\n    </defs>\r\n    <g clip-path=\"url(#pc580853c05)\">\r\n     <use style=\"fill:#ff7f0e;stroke:#ff7f0e;\" x=\"65.361932\" xlink:href=\"#mffb45d6d4a\" y=\"214.756364\"/>\r\n     <use style=\"fill:#ff7f0e;stroke:#ff7f0e;\" x=\"87.102192\" xlink:href=\"#mffb45d6d4a\" y=\"195.040974\"/>\r\n     <use style=\"fill:#ff7f0e;stroke:#ff7f0e;\" x=\"108.842451\" xlink:href=\"#mffb45d6d4a\" y=\"192.965669\"/>\r\n     <use style=\"fill:#ff7f0e;stroke:#ff7f0e;\" x=\"130.582711\" xlink:href=\"#mffb45d6d4a\" y=\"187.258583\"/>\r\n     <use style=\"fill:#ff7f0e;stroke:#ff7f0e;\" x=\"152.322971\" xlink:href=\"#mffb45d6d4a\" y=\"184.145626\"/>\r\n     <use style=\"fill:#ff7f0e;stroke:#ff7f0e;\" x=\"174.063231\" xlink:href=\"#mffb45d6d4a\" y=\"183.6268\"/>\r\n     <use style=\"fill:#ff7f0e;stroke:#ff7f0e;\" x=\"195.80349\" xlink:href=\"#mffb45d6d4a\" y=\"184.145626\"/>\r\n     <use style=\"fill:#ff7f0e;stroke:#ff7f0e;\" x=\"217.54375\" xlink:href=\"#mffb45d6d4a\" y=\"185.702105\"/>\r\n     <use style=\"fill:#ff7f0e;stroke:#ff7f0e;\" x=\"239.28401\" xlink:href=\"#mffb45d6d4a\" y=\"182.589148\"/>\r\n     <use style=\"fill:#ff7f0e;stroke:#ff7f0e;\" x=\"261.024269\" xlink:href=\"#mffb45d6d4a\" y=\"179.995018\"/>\r\n     <use style=\"fill:#ff7f0e;stroke:#ff7f0e;\" x=\"282.764529\" xlink:href=\"#mffb45d6d4a\" y=\"185.702105\"/>\r\n     <use style=\"fill:#ff7f0e;stroke:#ff7f0e;\" x=\"304.504789\" xlink:href=\"#mffb45d6d4a\" y=\"191.409191\"/>\r\n     <use style=\"fill:#ff7f0e;stroke:#ff7f0e;\" x=\"326.245049\" xlink:href=\"#mffb45d6d4a\" y=\"191.409191\"/>\r\n     <use style=\"fill:#ff7f0e;stroke:#ff7f0e;\" x=\"347.985308\" xlink:href=\"#mffb45d6d4a\" y=\"189.852713\"/>\r\n     <use style=\"fill:#ff7f0e;stroke:#ff7f0e;\" x=\"369.725568\" xlink:href=\"#mffb45d6d4a\" y=\"184.145626\"/>\r\n    </g>\r\n   </g>\r\n   <g id=\"patch_3\">\r\n    <path d=\"M 50.14375 224.64 \r\nL 50.14375 7.2 \r\n\" style=\"fill:none;stroke:#000000;stroke-linecap:square;stroke-linejoin:miter;stroke-width:0.8;\"/>\r\n   </g>\r\n   <g id=\"patch_4\">\r\n    <path d=\"M 384.94375 224.64 \r\nL 384.94375 7.2 \r\n\" style=\"fill:none;stroke:#000000;stroke-linecap:square;stroke-linejoin:miter;stroke-width:0.8;\"/>\r\n   </g>\r\n   <g id=\"patch_5\">\r\n    <path d=\"M 50.14375 224.64 \r\nL 384.94375 224.64 \r\n\" style=\"fill:none;stroke:#000000;stroke-linecap:square;stroke-linejoin:miter;stroke-width:0.8;\"/>\r\n   </g>\r\n   <g id=\"patch_6\">\r\n    <path d=\"M 50.14375 7.2 \r\nL 384.94375 7.2 \r\n\" style=\"fill:none;stroke:#000000;stroke-linecap:square;stroke-linejoin:miter;stroke-width:0.8;\"/>\r\n   </g>\r\n  </g>\r\n </g>\r\n <defs>\r\n  <clipPath id=\"pc580853c05\">\r\n   <rect height=\"217.44\" width=\"334.8\" x=\"50.14375\" y=\"7.2\"/>\r\n  </clipPath>\r\n </defs>\r\n</svg>\r\n",
      "image/png": "[encoded data removed]"
     },
     "metadata": {
      "needs_background": "light"
     }
    }
   ],
   "source": [
    "from sklearn.neighbors import KNeighborsClassifier\n",
    "train_scores = []\n",
    "test_scores = []\n",
    "for k in range(1, 31, 2):\n",
    "    knn = KNeighborsClassifier(n_neighbors=k)\n",
    "    knn.fit(X_train_scaled, y_train)\n",
    "    train_score = knn.score(X_train_scaled, y_train)\n",
    "    test_score = knn.score(X_test_scaled, y_test)\n",
    "    train_scores.append(train_score)\n",
    "    test_scores.append(test_score)\n",
    "    print(f\"k: {k}, Train/Test Score: {train_score:.3f}/{test_score:.3f}\")\n",
    "    \n",
    "    \n",
    "plt.plot(range(1, 31, 2), train_scores, marker='o')\n",
    "plt.plot(range(1, 31, 2), test_scores, marker=\"x\")\n",
    "plt.xlabel(\"k neighbors\")\n",
    "plt.ylabel(\"Testing accuracy Score\")\n",
    "plt.show()"
   ]
  },
  {
   "cell_type": "code",
   "execution_count": 19,
   "metadata": {},
   "outputs": [],
   "source": [
    "knn = KNeighborsClassifier(n_neighbors=15, weights='uniform')\n",
    "knn.fit(X_train_scaled, y_train)\n",
    "pred_knn = knn.predict(X_test_scaled)"
   ]
  },
  {
   "cell_type": "code",
   "execution_count": 20,
   "metadata": {},
   "outputs": [
    {
     "output_type": "stream",
     "name": "stdout",
     "text": [
      "0.7154115586690017\n"
     ]
    }
   ],
   "source": [
    "# Accuracy Score\n",
    "print(accuracy_score(y_test, pred_knn))"
   ]
  },
  {
   "cell_type": "code",
   "execution_count": 21,
   "metadata": {},
   "outputs": [
    {
     "output_type": "stream",
     "name": "stdout",
     "text": [
      "              precision    recall  f1-score   support\n\n           0       0.69      0.56      0.62       471\n           1       0.73      0.83      0.77       671\n\n    accuracy                           0.72      1142\n   macro avg       0.71      0.69      0.70      1142\nweighted avg       0.71      0.72      0.71      1142\n\n[[262 209]\n [116 555]]\n"
     ]
    }
   ],
   "source": [
    "# Confusion Matrix\n",
    "# Classification Report\n",
    "print(classification_report(y_test, pred_knn)) # returns precision recall f1-score and support\n",
    "print(confusion_matrix(y_test, pred_knn)) # returns the exact number of TN FP FN TP"
   ]
  },
  {
   "cell_type": "markdown",
   "metadata": {},
   "source": [
    "## Support Vector Machine Model"
   ]
  },
  {
   "cell_type": "code",
   "execution_count": 22,
   "metadata": {},
   "outputs": [],
   "source": [
    "from sklearn import svm\n",
    "from sklearn.svm import SVC\n",
    "svm_clf = svm.SVC(kernel =\"linear\")\n",
    "svm_clf.fit(X_train_scaled, y_train)\n",
    "pred_svm_clf = svm_clf.predict(X_test_scaled)"
   ]
  },
  {
   "cell_type": "code",
   "execution_count": 23,
   "metadata": {},
   "outputs": [
    {
     "output_type": "stream",
     "name": "stdout",
     "text": [
      "0.7644483362521891\n"
     ]
    }
   ],
   "source": [
    "# Accuracy Score\n",
    "print(accuracy_score(y_test, pred_svm_clf))"
   ]
  },
  {
   "cell_type": "code",
   "execution_count": 24,
   "metadata": {},
   "outputs": [
    {
     "output_type": "stream",
     "name": "stdout",
     "text": [
      "              precision    recall  f1-score   support\n\n           0       0.86      0.51      0.64       471\n           1       0.73      0.94      0.82       671\n\n    accuracy                           0.76      1142\n   macro avg       0.80      0.73      0.73      1142\nweighted avg       0.79      0.76      0.75      1142\n\n[[240 231]\n [ 38 633]]\n"
     ]
    }
   ],
   "source": [
    "# Confusion Matrix\n",
    "# Classification Report\n",
    "print(classification_report(y_test, pred_svm_clf)) \n",
    "print(confusion_matrix(y_test, pred_svm_clf)) "
   ]
  },
  {
   "cell_type": "markdown",
   "metadata": {},
   "source": [
    "## Neural Network MLP Model"
   ]
  },
  {
   "cell_type": "code",
   "execution_count": 25,
   "metadata": {},
   "outputs": [],
   "source": [
    "from sklearn.neural_network import MLPClassifier\n",
    "mlpc = MLPClassifier(hidden_layer_sizes = (38, 38, 38), max_iter = 500) \n",
    "mlpc.fit(X_train_scaled, y_train)\n",
    "pred_mlpc = mlpc.predict(X_test_scaled)"
   ]
  },
  {
   "cell_type": "code",
   "execution_count": 26,
   "metadata": {},
   "outputs": [
    {
     "output_type": "stream",
     "name": "stdout",
     "text": [
      "0.7110332749562172\n"
     ]
    }
   ],
   "source": [
    "# Accuracy Score\n",
    "print(accuracy_score(y_test, pred_mlpc))"
   ]
  },
  {
   "cell_type": "code",
   "execution_count": 27,
   "metadata": {},
   "outputs": [
    {
     "output_type": "stream",
     "name": "stdout",
     "text": [
      "              precision    recall  f1-score   support\n\n           0       0.65      0.64      0.65       471\n           1       0.75      0.76      0.76       671\n\n    accuracy                           0.71      1142\n   macro avg       0.70      0.70      0.70      1142\nweighted avg       0.71      0.71      0.71      1142\n\n[[303 168]\n [162 509]]\n"
     ]
    }
   ],
   "source": [
    "# Confusion Matrix\n",
    "# Classification Report\n",
    "print(classification_report(y_test, pred_mlpc)) \n",
    "print(confusion_matrix(y_test, pred_mlpc)) "
   ]
  },
  {
   "cell_type": "markdown",
   "metadata": {},
   "source": [
    "## GridSearch"
   ]
  },
  {
   "cell_type": "code",
   "execution_count": 28,
   "metadata": {},
   "outputs": [],
   "source": [
    "# Create the GridSearchCV model\n",
    "from sklearn.model_selection import GridSearchCV\n",
    "param_grid = {'C': [1, 5, 10],\n",
    "              'gamma': [0.0001, 0.001, 0.01]}\n",
    "grid = GridSearchCV(svm_clf, param_grid, verbose=3)"
   ]
  },
  {
   "cell_type": "code",
   "execution_count": 29,
   "metadata": {},
   "outputs": [
    {
     "output_type": "stream",
     "name": "stdout",
     "text": [
      "Fitting 5 folds for each of 9 candidates, totalling 45 fits\n",
      "[CV 1/5] END ..............................C=1, gamma=0.0001; total time=   0.6s\n",
      "[CV 2/5] END ..............................C=1, gamma=0.0001; total time=   0.5s\n",
      "[CV 3/5] END ..............................C=1, gamma=0.0001; total time=   0.4s\n",
      "[CV 4/5] END ..............................C=1, gamma=0.0001; total time=   0.5s\n",
      "[CV 5/5] END ..............................C=1, gamma=0.0001; total time=   0.5s\n",
      "[CV 1/5] END ...............................C=1, gamma=0.001; total time=   0.5s\n",
      "[CV 2/5] END ...............................C=1, gamma=0.001; total time=   0.5s\n",
      "[CV 3/5] END ...............................C=1, gamma=0.001; total time=   0.5s\n",
      "[CV 4/5] END ...............................C=1, gamma=0.001; total time=   0.5s\n",
      "[CV 5/5] END ...............................C=1, gamma=0.001; total time=   0.5s\n",
      "[CV 1/5] END ................................C=1, gamma=0.01; total time=   0.5s\n",
      "[CV 2/5] END ................................C=1, gamma=0.01; total time=   0.5s\n",
      "[CV 3/5] END ................................C=1, gamma=0.01; total time=   0.5s\n",
      "[CV 4/5] END ................................C=1, gamma=0.01; total time=   0.4s\n",
      "[CV 5/5] END ................................C=1, gamma=0.01; total time=   0.5s\n",
      "[CV 1/5] END ..............................C=5, gamma=0.0001; total time=   1.4s\n",
      "[CV 2/5] END ..............................C=5, gamma=0.0001; total time=   1.6s\n",
      "[CV 3/5] END ..............................C=5, gamma=0.0001; total time=   1.4s\n",
      "[CV 4/5] END ..............................C=5, gamma=0.0001; total time=   1.4s\n",
      "[CV 5/5] END ..............................C=5, gamma=0.0001; total time=   1.4s\n",
      "[CV 1/5] END ...............................C=5, gamma=0.001; total time=   1.3s\n",
      "[CV 2/5] END ...............................C=5, gamma=0.001; total time=   1.9s\n",
      "[CV 3/5] END ...............................C=5, gamma=0.001; total time=   1.4s\n",
      "[CV 4/5] END ...............................C=5, gamma=0.001; total time=   1.5s\n",
      "[CV 5/5] END ...............................C=5, gamma=0.001; total time=   1.3s\n",
      "[CV 1/5] END ................................C=5, gamma=0.01; total time=   1.3s\n",
      "[CV 2/5] END ................................C=5, gamma=0.01; total time=   1.8s\n",
      "[CV 3/5] END ................................C=5, gamma=0.01; total time=   1.5s\n",
      "[CV 4/5] END ................................C=5, gamma=0.01; total time=   1.4s\n",
      "[CV 5/5] END ................................C=5, gamma=0.01; total time=   1.3s\n",
      "[CV 1/5] END .............................C=10, gamma=0.0001; total time=   2.5s\n",
      "[CV 2/5] END .............................C=10, gamma=0.0001; total time=   3.0s\n",
      "[CV 3/5] END .............................C=10, gamma=0.0001; total time=   2.1s\n",
      "[CV 4/5] END .............................C=10, gamma=0.0001; total time=   2.4s\n",
      "[CV 5/5] END .............................C=10, gamma=0.0001; total time=   3.1s\n",
      "[CV 1/5] END ..............................C=10, gamma=0.001; total time=   6.8s\n",
      "[CV 2/5] END ..............................C=10, gamma=0.001; total time=   7.3s\n",
      "[CV 3/5] END ..............................C=10, gamma=0.001; total time=   6.4s\n",
      "[CV 4/5] END ..............................C=10, gamma=0.001; total time=   6.5s\n",
      "[CV 5/5] END ..............................C=10, gamma=0.001; total time=   6.8s\n",
      "[CV 1/5] END ...............................C=10, gamma=0.01; total time=   6.2s\n",
      "[CV 2/5] END ...............................C=10, gamma=0.01; total time=   7.0s\n",
      "[CV 3/5] END ...............................C=10, gamma=0.01; total time=   5.6s\n",
      "[CV 4/5] END ...............................C=10, gamma=0.01; total time=   6.2s\n",
      "[CV 5/5] END ...............................C=10, gamma=0.01; total time=   7.1s\n"
     ]
    },
    {
     "output_type": "execute_result",
     "data": {
      "text/plain": [
       "GridSearchCV(estimator=SVC(kernel='linear'),\n",
       "             param_grid={'C': [1, 5, 10], 'gamma': [0.0001, 0.001, 0.01]},\n",
       "             verbose=3)"
      ]
     },
     "metadata": {},
     "execution_count": 29
    }
   ],
   "source": [
    "# Train the model with GridSearch\n",
    "grid.fit(X_train_scaled, y_train)"
   ]
  },
  {
   "cell_type": "code",
   "execution_count": 30,
   "metadata": {},
   "outputs": [
    {
     "output_type": "stream",
     "name": "stdout",
     "text": [
      "{'C': 10, 'gamma': 0.0001}\n0.7625594399624365\n"
     ]
    }
   ],
   "source": [
    "print(grid.best_params_)\n",
    "print(grid.best_score_)"
   ]
  },
  {
   "source": [
    "## Deep Learning Model"
   ],
   "cell_type": "markdown",
   "metadata": {}
  },
  {
   "cell_type": "code",
   "execution_count": 31,
   "metadata": {},
   "outputs": [],
   "source": [
    "# One-hot encoding\n",
    "from tensorflow.keras.utils import to_categorical\n",
    "\n",
    "y_train_cat = to_categorical(y_train)\n",
    "y_test_cat = to_categorical(y_test)"
   ]
  },
  {
   "cell_type": "code",
   "execution_count": 32,
   "metadata": {},
   "outputs": [],
   "source": [
    "from tensorflow.keras.models import Sequential\n",
    "from tensorflow.keras.layers import Dense\n",
    "\n",
    "deep_model = Sequential()\n",
    "deep_model.add(Dense(units=6, activation='relu', input_dim=33))\n",
    "deep_model.add(Dense(units=6, activation='relu'))\n",
    "deep_model.add(Dense(units=2, activation='softmax'))\n"
   ]
  },
  {
   "cell_type": "code",
   "execution_count": 33,
   "metadata": {},
   "outputs": [
    {
     "output_type": "stream",
     "name": "stdout",
     "text": [
      "Epoch 1/100\n",
      "107/107 - 2s - loss: 0.7538 - accuracy: 0.5318\n",
      "Epoch 2/100\n",
      "107/107 - 0s - loss: 0.6460 - accuracy: 0.6551\n",
      "Epoch 3/100\n",
      "107/107 - 0s - loss: 0.6051 - accuracy: 0.6983\n",
      "Epoch 4/100\n",
      "107/107 - 0s - loss: 0.5541 - accuracy: 0.7266\n",
      "Epoch 5/100\n",
      "107/107 - 0s - loss: 0.5092 - accuracy: 0.7459\n",
      "Epoch 6/100\n",
      "107/107 - 0s - loss: 0.4808 - accuracy: 0.7561\n",
      "Epoch 7/100\n",
      "107/107 - 0s - loss: 0.4650 - accuracy: 0.7620\n",
      "Epoch 8/100\n",
      "107/107 - 0s - loss: 0.4548 - accuracy: 0.7631\n",
      "Epoch 9/100\n",
      "107/107 - 0s - loss: 0.4480 - accuracy: 0.7655\n",
      "Epoch 10/100\n",
      "107/107 - 0s - loss: 0.4434 - accuracy: 0.7684\n",
      "Epoch 11/100\n",
      "107/107 - 0s - loss: 0.4398 - accuracy: 0.7739\n",
      "Epoch 12/100\n",
      "107/107 - 0s - loss: 0.4374 - accuracy: 0.7742\n",
      "Epoch 13/100\n",
      "107/107 - 0s - loss: 0.4349 - accuracy: 0.7751\n",
      "Epoch 14/100\n",
      "107/107 - 0s - loss: 0.4335 - accuracy: 0.7760\n",
      "Epoch 15/100\n",
      "107/107 - 0s - loss: 0.4312 - accuracy: 0.7754\n",
      "Epoch 16/100\n",
      "107/107 - 0s - loss: 0.4297 - accuracy: 0.7742\n",
      "Epoch 17/100\n",
      "107/107 - 0s - loss: 0.4280 - accuracy: 0.7833\n",
      "Epoch 18/100\n",
      "107/107 - 0s - loss: 0.4270 - accuracy: 0.7795\n",
      "Epoch 19/100\n",
      "107/107 - 0s - loss: 0.4261 - accuracy: 0.7827\n",
      "Epoch 20/100\n",
      "107/107 - 0s - loss: 0.4240 - accuracy: 0.7795\n",
      "Epoch 21/100\n",
      "107/107 - 0s - loss: 0.4229 - accuracy: 0.7812\n",
      "Epoch 22/100\n",
      "107/107 - 0s - loss: 0.4221 - accuracy: 0.7833\n",
      "Epoch 23/100\n",
      "107/107 - 0s - loss: 0.4209 - accuracy: 0.7830\n",
      "Epoch 24/100\n",
      "107/107 - 0s - loss: 0.4198 - accuracy: 0.7824\n",
      "Epoch 25/100\n",
      "107/107 - 0s - loss: 0.4190 - accuracy: 0.7848\n",
      "Epoch 26/100\n",
      "107/107 - 0s - loss: 0.4180 - accuracy: 0.7865\n",
      "Epoch 27/100\n",
      "107/107 - 0s - loss: 0.4164 - accuracy: 0.7891\n",
      "Epoch 28/100\n",
      "107/107 - 0s - loss: 0.4157 - accuracy: 0.7906\n",
      "Epoch 29/100\n",
      "107/107 - 0s - loss: 0.4152 - accuracy: 0.7894\n",
      "Epoch 30/100\n",
      "107/107 - 0s - loss: 0.4145 - accuracy: 0.7877\n",
      "Epoch 31/100\n",
      "107/107 - 0s - loss: 0.4136 - accuracy: 0.7900\n",
      "Epoch 32/100\n",
      "107/107 - 0s - loss: 0.4125 - accuracy: 0.7929\n",
      "Epoch 33/100\n",
      "107/107 - 0s - loss: 0.4125 - accuracy: 0.7929\n",
      "Epoch 34/100\n",
      "107/107 - 0s - loss: 0.4117 - accuracy: 0.7912\n",
      "Epoch 35/100\n",
      "107/107 - 0s - loss: 0.4111 - accuracy: 0.7915\n",
      "Epoch 36/100\n",
      "107/107 - 0s - loss: 0.4102 - accuracy: 0.7947\n",
      "Epoch 37/100\n",
      "107/107 - 0s - loss: 0.4097 - accuracy: 0.7941\n",
      "Epoch 38/100\n",
      "107/107 - 0s - loss: 0.4098 - accuracy: 0.7932\n",
      "Epoch 39/100\n",
      "107/107 - 0s - loss: 0.4089 - accuracy: 0.7932\n",
      "Epoch 40/100\n",
      "107/107 - 0s - loss: 0.4082 - accuracy: 0.7956\n",
      "Epoch 41/100\n",
      "107/107 - 0s - loss: 0.4084 - accuracy: 0.7941\n",
      "Epoch 42/100\n",
      "107/107 - 0s - loss: 0.4077 - accuracy: 0.7909\n",
      "Epoch 43/100\n",
      "107/107 - 0s - loss: 0.4070 - accuracy: 0.7950\n",
      "Epoch 44/100\n",
      "107/107 - 0s - loss: 0.4071 - accuracy: 0.7906\n",
      "Epoch 45/100\n",
      "107/107 - 0s - loss: 0.4066 - accuracy: 0.7944\n",
      "Epoch 46/100\n",
      "107/107 - 0s - loss: 0.4060 - accuracy: 0.7918\n",
      "Epoch 47/100\n",
      "107/107 - 0s - loss: 0.4060 - accuracy: 0.7964\n",
      "Epoch 48/100\n",
      "107/107 - 0s - loss: 0.4052 - accuracy: 0.7950\n",
      "Epoch 49/100\n",
      "107/107 - 0s - loss: 0.4053 - accuracy: 0.7961\n",
      "Epoch 50/100\n",
      "107/107 - 0s - loss: 0.4051 - accuracy: 0.7941\n",
      "Epoch 51/100\n",
      "107/107 - 0s - loss: 0.4051 - accuracy: 0.7918\n",
      "Epoch 52/100\n",
      "107/107 - 0s - loss: 0.4047 - accuracy: 0.7973\n",
      "Epoch 53/100\n",
      "107/107 - 0s - loss: 0.4044 - accuracy: 0.7959\n",
      "Epoch 54/100\n",
      "107/107 - 0s - loss: 0.4040 - accuracy: 0.7964\n",
      "Epoch 55/100\n",
      "107/107 - 0s - loss: 0.4034 - accuracy: 0.7953\n",
      "Epoch 56/100\n",
      "107/107 - 0s - loss: 0.4031 - accuracy: 0.7950\n",
      "Epoch 57/100\n",
      "107/107 - 0s - loss: 0.4026 - accuracy: 0.7961\n",
      "Epoch 58/100\n",
      "107/107 - 0s - loss: 0.4017 - accuracy: 0.7973\n",
      "Epoch 59/100\n",
      "107/107 - 0s - loss: 0.4031 - accuracy: 0.7953\n",
      "Epoch 60/100\n",
      "107/107 - 0s - loss: 0.4017 - accuracy: 0.7976\n",
      "Epoch 61/100\n",
      "107/107 - 0s - loss: 0.4015 - accuracy: 0.7944\n",
      "Epoch 62/100\n",
      "107/107 - 0s - loss: 0.4012 - accuracy: 0.7988\n",
      "Epoch 63/100\n",
      "107/107 - 0s - loss: 0.4018 - accuracy: 0.7964\n",
      "Epoch 64/100\n",
      "107/107 - 0s - loss: 0.4010 - accuracy: 0.7994\n",
      "Epoch 65/100\n",
      "107/107 - 0s - loss: 0.4004 - accuracy: 0.8002\n",
      "Epoch 66/100\n",
      "107/107 - 0s - loss: 0.4002 - accuracy: 0.7994\n",
      "Epoch 67/100\n",
      "107/107 - 0s - loss: 0.3998 - accuracy: 0.8002\n",
      "Epoch 68/100\n",
      "107/107 - 0s - loss: 0.3999 - accuracy: 0.7970\n",
      "Epoch 69/100\n",
      "107/107 - 0s - loss: 0.3995 - accuracy: 0.8014\n",
      "Epoch 70/100\n",
      "107/107 - 0s - loss: 0.3994 - accuracy: 0.7982\n",
      "Epoch 71/100\n",
      "107/107 - 0s - loss: 0.3989 - accuracy: 0.8023\n",
      "Epoch 72/100\n",
      "107/107 - 0s - loss: 0.3981 - accuracy: 0.8017\n",
      "Epoch 73/100\n",
      "107/107 - 0s - loss: 0.3985 - accuracy: 0.8020\n",
      "Epoch 74/100\n",
      "107/107 - 0s - loss: 0.3983 - accuracy: 0.8017\n",
      "Epoch 75/100\n",
      "107/107 - 0s - loss: 0.3988 - accuracy: 0.8026\n",
      "Epoch 76/100\n",
      "107/107 - 0s - loss: 0.3979 - accuracy: 0.8008\n",
      "Epoch 77/100\n",
      "107/107 - 0s - loss: 0.3979 - accuracy: 0.7999\n",
      "Epoch 78/100\n",
      "107/107 - 0s - loss: 0.3979 - accuracy: 0.7967\n",
      "Epoch 79/100\n",
      "107/107 - 0s - loss: 0.3976 - accuracy: 0.7976\n",
      "Epoch 80/100\n",
      "107/107 - 0s - loss: 0.3966 - accuracy: 0.8005\n",
      "Epoch 81/100\n",
      "107/107 - 0s - loss: 0.3973 - accuracy: 0.8008\n",
      "Epoch 82/100\n",
      "107/107 - 0s - loss: 0.3963 - accuracy: 0.7991\n",
      "Epoch 83/100\n",
      "107/107 - 0s - loss: 0.3966 - accuracy: 0.8005\n",
      "Epoch 84/100\n",
      "107/107 - 0s - loss: 0.3960 - accuracy: 0.8005\n",
      "Epoch 85/100\n",
      "107/107 - 0s - loss: 0.3963 - accuracy: 0.7985\n",
      "Epoch 86/100\n",
      "107/107 - 0s - loss: 0.3963 - accuracy: 0.8032\n",
      "Epoch 87/100\n",
      "107/107 - 0s - loss: 0.3954 - accuracy: 0.7996\n",
      "Epoch 88/100\n",
      "107/107 - 0s - loss: 0.3954 - accuracy: 0.8008\n",
      "Epoch 89/100\n",
      "107/107 - 0s - loss: 0.3956 - accuracy: 0.8005\n",
      "Epoch 90/100\n",
      "107/107 - 0s - loss: 0.3950 - accuracy: 0.8002\n",
      "Epoch 91/100\n",
      "107/107 - 0s - loss: 0.3954 - accuracy: 0.8026\n",
      "Epoch 92/100\n",
      "107/107 - 0s - loss: 0.3961 - accuracy: 0.8017\n",
      "Epoch 93/100\n",
      "107/107 - 0s - loss: 0.3946 - accuracy: 0.7996\n",
      "Epoch 94/100\n",
      "107/107 - 0s - loss: 0.3942 - accuracy: 0.8020\n",
      "Epoch 95/100\n",
      "107/107 - 0s - loss: 0.3943 - accuracy: 0.8014\n",
      "Epoch 96/100\n",
      "107/107 - 0s - loss: 0.3946 - accuracy: 0.8034\n",
      "Epoch 97/100\n",
      "107/107 - 0s - loss: 0.3940 - accuracy: 0.8020\n",
      "Epoch 98/100\n",
      "107/107 - 0s - loss: 0.3942 - accuracy: 0.8032\n",
      "Epoch 99/100\n",
      "107/107 - 0s - loss: 0.3941 - accuracy: 0.8005\n",
      "Epoch 100/100\n",
      "107/107 - 0s - loss: 0.3936 - accuracy: 0.8005\n"
     ]
    },
    {
     "output_type": "execute_result",
     "data": {
      "text/plain": [
       "<tensorflow.python.keras.callbacks.History at 0x19a1ea12d68>"
      ]
     },
     "metadata": {},
     "execution_count": 33
    }
   ],
   "source": [
    "deep_model.compile(optimizer='adam',\n",
    "                   loss='categorical_crossentropy',\n",
    "                   metrics=['accuracy'])\n",
    "\n",
    "deep_model.fit(\n",
    "    X_train_scaled,\n",
    "    y_train_cat,\n",
    "    epochs=100,\n",
    "    shuffle=True,\n",
    "    verbose=2\n",
    ")"
   ]
  },
  {
   "cell_type": "code",
   "execution_count": 34,
   "metadata": {},
   "outputs": [
    {
     "output_type": "stream",
     "name": "stdout",
     "text": [
      "36/36 - 0s - loss: 0.4791 - accuracy: 0.7452\n",
      "Loss: 0.4791010320186615, Accuracy: 0.7451838850975037\n"
     ]
    }
   ],
   "source": [
    "model_loss, model_accuracy = deep_model.evaluate(\n",
    "    X_test_scaled, y_test_cat, verbose=2)\n",
    "print(f\"Loss: {model_loss}, Accuracy: {model_accuracy}\")"
   ]
  }
 ],
 "metadata": {
  "kernelspec": {
   "name": "python3613jvsc74a57bd0e341847e07927e1868392d39a558dbfb4ba065d0510ad0522c3534feb05814e9",
   "display_name": "Python 3.6.13 64-bit ('PythonAdv': conda)"
  },
  "language_info": {
   "codemirror_mode": {
    "name": "ipython",
    "version": 3
   },
   "file_extension": ".py",
   "mimetype": "text/x-python",
   "name": "python",
   "nbconvert_exporter": "python",
   "pygments_lexer": "ipython3",
   "version": "3.6.13"
  }
 },
 "nbformat": 4,
 "nbformat_minor": 2
}